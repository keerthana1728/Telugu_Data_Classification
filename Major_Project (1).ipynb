{
  "cells": [
    {
      "cell_type": "code",
      "execution_count": 1,
      "metadata": {
        "id": "hRS96Tw0SOiG"
      },
      "outputs": [],
      "source": [
        "import nltk\n",
        "import pandas as pd\n",
        "import matplotlib.pyplot as plt\n",
        "import numpy as np\n",
        "import re\n",
        "import string\n",
        "from sklearn.model_selection import train_test_split\n",
        "import seaborn as sns\n",
        "import os"
      ]
    },
    {
      "cell_type": "code",
      "execution_count": 2,
      "metadata": {
        "colab": {
          "base_uri": "https://localhost:8080/",
          "height": 423
        },
        "id": "L2m29T3dSVEN",
        "outputId": "bff5bc26-e6c0-4f29-fbe5-955770944888"
      },
      "outputs": [
        {
          "data": {
            "application/vnd.google.colaboratory.intrinsic+json": {
              "summary": "{\n  \"name\": \"telugu_news_df\",\n  \"rows\": 17312,\n  \"fields\": [\n    {\n      \"column\": \"SNo\",\n      \"properties\": {\n        \"dtype\": \"number\",\n        \"std\": 6252,\n        \"min\": 0,\n        \"max\": 21639,\n        \"num_unique_values\": 17312,\n        \"samples\": [\n          10835,\n          16893,\n          16651\n        ],\n        \"semantic_type\": \"\",\n        \"description\": \"\"\n      }\n    },\n    {\n      \"column\": \"date\",\n      \"properties\": {\n        \"dtype\": \"object\",\n        \"num_unique_values\": 17312,\n        \"samples\": [\n          \"07-07-2017 11:14:11\",\n          \"06-02-2017 01:00:14\",\n          \"01-08-2017 16:53:10\"\n        ],\n        \"semantic_type\": \"\",\n        \"description\": \"\"\n      }\n    },\n    {\n      \"column\": \"heading\",\n      \"properties\": {\n        \"dtype\": \"string\",\n        \"num_unique_values\": 17220,\n        \"samples\": [\n          \"\\u0c06 \\u0c35\\u0c4d\\u0c2f\\u0c3e\\u0c38\\u0c02 \\u0c28\\u0c3e \\u0c05\\u0c02\\u0c24\\u0c1f \\u0c28\\u0c47\\u0c28\\u0c47 \\u0c30\\u0c3e\\u0c36\\u0c3e: \\u0c1c\\u0c2f\\u0c02\\u0c24\\u0c4d\\u200c\",\n          \"\\u2018\\u0c2a\\u0c17\\u0c4d\\u0c17\\u0c3e\\u0c32\\u0c41 \\u0c05\\u0c2a\\u0c4d\\u0c2a\\u0c17\\u0c3f\\u0c38\\u0c4d\\u0c24\\u0c3e\\u0c35\\u0c3e?... \\u0c28\\u0c28\\u0c4d\\u0c28\\u0c47 \\u0c2a\\u0c3e\\u0c30\\u0c4d\\u0c1f\\u0c40 \\u0c2a\\u0c46\\u0c1f\\u0c4d\\u0c1f\\u0c2e\\u0c02\\u0c1f\\u0c3e\\u0c35\\u0c3e?\\u2019\",\n          \"\\u0c2e\\u0c4b\\u0c26\\u0c40 \\u2018\\u0c15\\u0c4a\\u0c24\\u0c4d\\u0c24 \\u0c2d\\u0c3e\\u0c30\\u0c24\\u0c4d\\u2019 \\u0c07\\u0c26\\u0c47: \\u0c12\\u0c35\\u0c48\\u0c38\\u0c40\"\n        ],\n        \"semantic_type\": \"\",\n        \"description\": \"\"\n      }\n    },\n    {\n      \"column\": \"body\",\n      \"properties\": {\n        \"dtype\": \"string\",\n        \"num_unique_values\": 17306,\n        \"samples\": [\n          \"\\u0c36\\u0c4d\\u0c30\\u0c40\\u0c28\\u0c17\\u0c30\\u0c4d\\u200c, \\u0c28\\u0c35\\u0c02\\u0c2c\\u0c30\\u0c41 15: \\u0c28\\u0c47\\u0c37\\u0c28\\u0c32\\u0c4d\\u200c \\u0c15\\u0c3e\\u0c28\\u0c4d\\u0c2b\\u0c30\\u0c46\\u0c28\\u0c4d\\u0c38\\u0c4d\\u200c \\u0c05\\u0c27\\u0c3f\\u0c28\\u0c47\\u0c24 \\u0c2b\\u0c30\\u0c42\\u0c16\\u0c4d\\u200c \\u0c05\\u0c2c\\u0c4d\\u0c26\\u0c41\\u0c32\\u0c4d\\u0c32\\u0c3e \\u0c2e\\u0c33\\u0c4d\\u0c32\\u0c40 \\u0c2a\\u0c3e\\u0c15\\u0c3f\\u0c38\\u0c4d\\u0c25\\u0c3e\\u0c28\\u0c4d\\u200c \\u0c2a\\u0c3e\\u0c1f \\u0c2a\\u0c3e\\u0c21\\u0c3e\\u0c30\\u0c41. \\u0c2a\\u0c3e\\u0c15\\u0c4d\\u200c \\u0c06\\u0c15\\u0c4d\\u0c30\\u0c2e\\u0c3f\\u0c24 \\u0c15\\u0c3e\\u0c36\\u0c4d\\u0c2e\\u0c40\\u0c30\\u0c4d\\u200c (\\u0c2a\\u0c40\\u0c35\\u0c4b\\u0c15\\u0c47) \\u0c2d\\u0c3e\\u0c30\\u0c24\\u0c4d\\u200c\\u0c32\\u0c4b \\u0c05\\u0c02\\u0c24\\u0c30\\u0c4d\\u0c2d\\u0c3e\\u0c17\\u0c02 \\u0c15\\u0c3e\\u0c26\\u0c02\\u0c1f\\u0c42 \\u0c35\\u0c4d\\u0c2f\\u0c3e\\u0c16\\u0c4d\\u0c2f\\u0c32\\u0c41 \\u0c1a\\u0c47\\u0c38\\u0c3f\\u0c28 \\u0c35\\u0c3e\\u0c30\\u0c02\\u0c32\\u0c4b\\u0c28\\u0c47 \\u0c2e\\u0c30\\u0c4b \\u0c35\\u0c3f\\u0c35\\u0c3e\\u0c26\\u0c3e\\u0c28\\u0c3f\\u0c15\\u0c3f \\u0c24\\u0c46\\u0c30\\u0c24\\u0c40\\u0c36\\u0c3e\\u0c30\\u0c41. \\u0c2a\\u0c40\\u0c35\\u0c4b\\u0c15\\u0c47 \\u0c35\\u0c3f\\u0c37\\u0c2f\\u0c02\\u0c32\\u0c4b \\u0c1a\\u0c42\\u0c38\\u0c4d\\u0c24\\u0c42 \\u0c0a\\u0c30\\u0c41\\u0c15\\u0c4b\\u0c35\\u0c21\\u0c3e\\u0c28\\u0c3f\\u0c15\\u0c3f \\u0c2a\\u0c3e\\u0c15\\u0c3f\\u0c38\\u0c4d\\u0c25\\u0c3e\\u0c28\\u0c4d\\u200c \\u0c17\\u0c3e\\u0c1c\\u0c41\\u0c32\\u0c41 \\u0c24\\u0c4a\\u0c21\\u0c41\\u0c15\\u0c4d\\u0c15\\u0c4b\\u0c32\\u0c47\\u0c26\\u0c02\\u0c1f\\u0c42 \\u0c2c\\u0c3e\\u0c30\\u0c3e\\u0c2e\\u0c41\\u0c32\\u0c4d\\u0c32\\u0c3e\\u0c32\\u0c4b \\u0c35\\u0c4d\\u0c2f\\u0c3e\\u0c16\\u0c4d\\u0c2f\\u0c3e\\u0c28\\u0c3f\\u0c02\\u0c1a\\u0c3e\\u0c30\\u0c41. \\u2018\\u0c2a\\u0c40\\u0c35\\u0c4b\\u0c15\\u0c47 \\u0c2d\\u0c3e\\u0c30\\u0c24\\u0c4d\\u200c\\u0c32\\u0c4b \\u0c05\\u0c02\\u0c24\\u0c30\\u0c4d\\u0c2d\\u0c3e\\u0c17\\u0c2e\\u0c02\\u0c1f\\u0c47 \\u0c1a\\u0c42\\u0c38\\u0c4d\\u0c24\\u0c42 \\u0c0a\\u0c30\\u0c41\\u0c15\\u0c4b\\u0c35\\u0c21\\u0c3e\\u0c28\\u0c3f\\u0c15\\u0c3f \\u0c2a\\u0c3e\\u0c15\\u0c4d\\u200c \\u0c17\\u0c3e\\u0c1c\\u0c41\\u0c32\\u0c41 \\u0c24\\u0c4a\\u0c21\\u0c41\\u0c15\\u0c4d\\u0c15\\u0c41\\u0c28\\u0c3f \\u0c15\\u0c42\\u0c30\\u0c4d\\u0c1a\\u0c4b\\u0c32\\u0c47\\u0c26\\u0c41. \\u0c35\\u0c3e\\u0c33\\u0c4d\\u0c32\\u0c47\\u0c02 \\u0c2c\\u0c32\\u0c39\\u0c40\\u0c28\\u0c41\\u0c32\\u0c41 \\u0c15\\u0c3e\\u0c26\\u0c41. \\u0c2a\\u0c3e\\u0c15\\u0c4d\\u200c \\u0c26\\u0c17\\u0c4d\\u0c17\\u0c30\\u0c3e \\u0c05\\u0c23\\u0c41\\u0c2c\\u0c3e\\u0c02\\u0c2c\\u0c41\\u0c32\\u0c41\\u0c28\\u0c4d\\u0c28\\u0c3e\\u0c2f\\u0c3f.\\u00a0\\u0c2f\\u0c41\\u0c26\\u0c4d\\u0c27\\u0c02 \\u0c17\\u0c41\\u0c30\\u0c3f\\u0c02\\u0c1a\\u0c3f \\u0c06\\u0c32\\u0c4b\\u0c1a\\u0c3f\\u0c02\\u0c1a\\u0c47  \\u0c2e\\u0c41\\u0c02\\u0c26\\u0c41 \\u0c07\\u0c15\\u0c4d\\u0c15\\u0c21 \\u0c2e\\u0c28\\u0c41\\u0c37\\u0c41\\u0c32\\u0c41\\u0c17\\u0c3e \\u0c2c\\u0c24\\u0c17\\u0c4d\\u0c17\\u0c32\\u0c2e\\u0c3e \\u0c05\\u0c28\\u0c3f \\u0c06\\u0c32\\u0c4b\\u0c1a\\u0c3f\\u0c02\\u0c1a\\u0c3e\\u0c32\\u0c3f\\u2019 \\u0c05\\u0c02\\u0c1f\\u0c42 \\u0c2b\\u0c30\\u0c42\\u0c16\\u0c4d\\u200c \\u0c05\\u0c2c\\u0c4d\\u0c26\\u0c41\\u0c32\\u0c4d\\u0c32\\u0c3e \\u0c05\\u0c28\\u0c4d\\u0c28 \\u0c2e\\u0c3e\\u0c1f\\u0c32\\u0c41 \\u0c2e\\u0c02\\u0c1f\\u0c32\\u0c41 \\u0c30\\u0c47\\u0c2a\\u0c41\\u0c24\\u0c41\\u0c28\\u0c4d\\u0c28\\u0c3e\\u0c2f\\u0c3f. \\u2018\\u0c2a\\u0c40\\u0c35\\u0c4b\\u0c15\\u0c47 \\u0c2d\\u0c3e\\u0c30\\u0c24\\u0c4d\\u200c\\u0c32\\u0c4b \\u0c05\\u0c02\\u0c24\\u0c30\\u0c4d\\u0c2d\\u0c3e\\u0c17\\u0c2e\\u0c28\\u0c3f \\u0c07\\u0c02\\u0c15\\u0c3e \\u0c0e\\u0c02\\u0c24\\u0c15\\u0c3e\\u0c32\\u0c02 \\u0c1a\\u0c46\\u0c2c\\u0c41\\u0c24\\u0c42 \\u0c35\\u0c38\\u0c4d\\u0c24\\u0c3e\\u0c30\\u0c41? 70 \\u0c0f\\u0c33\\u0c4d\\u0c32\\u0c41 \\u0c17\\u0c21\\u0c3f\\u0c1a\\u0c3f\\u0c2a\\u0c4b\\u0c2f\\u0c3e\\u0c2f\\u0c3f. \\u0c15\\u0c3e\\u0c28\\u0c40 \\u0c2a\\u0c40\\u0c35\\u0c4b\\u0c15\\u0c47\\u0c28\\u0c3f \\u0c2d\\u0c3e\\u0c30\\u0c24\\u0c4d\\u200c \\u0c38\\u0c4a\\u0c02\\u0c24\\u0c02 \\u0c1a\\u0c47\\u0c38\\u0c41\\u0c15\\u0c4b\\u0c32\\u0c47\\u0c15\\u0c2a\\u0c4b\\u0c2f\\u0c3f\\u0c02\\u0c26\\u0c3f. \\u0c2e\\u0c41\\u0c2e\\u0c4d\\u0c2e\\u0c3e\\u0c1f\\u0c3f\\u0c15\\u0c40 \\u0c2a\\u0c40\\u0c35\\u0c4b\\u0c15\\u0c47 \\u0c2a\\u0c3e\\u0c15\\u0c3f\\u0c38\\u0c4d\\u0c25\\u0c3e\\u0c28\\u0c4d\\u200c\\u0c32\\u0c4b \\u0c05\\u0c02\\u0c24\\u0c30\\u0c4d\\u0c2d\\u0c3e\\u0c17\\u0c2e\\u0c47\\u2019 \\u0c05\\u0c28\\u0c4d\\u0c28 \\u0c2b\\u0c30\\u0c42\\u0c16\\u0c4d\\u200c \\u0c2e\\u0c3e\\u0c1f\\u0c32\\u0c41 \\u0c1a\\u0c30\\u0c4d\\u0c1a\\u0c28\\u0c40\\u0c2f\\u0c3e\\u0c02\\u0c36\\u0c2e\\u0c2f\\u0c4d\\u0c2f\\u0c3e\\u0c2f\\u0c3f.\",\n          \"\\n\\u0c38\\u0c41\\u0c2a\\u0c4d\\u0c30\\u0c40\\u0c02\\u0c28\\u0c41 \\u0c15\\u0c4b\\u0c30\\u0c3f\\u0c28 \\u0c15\\u0c47\\u0c02\\u0c26\\u0c4d\\u0c30\\u0c02 \\u0c28\\u0c4d\\u0c2f\\u0c42\\u0c22\\u0c3f\\u0c32\\u0c4d\\u0c32\\u0c40, \\u0c1c\\u0c28\\u0c35\\u0c30\\u0c3f 30: \\u0c09\\u0c28\\u0c4d\\u0c28\\u0c24 \\u0c28\\u0c4d\\u0c2f\\u0c3e\\u0c2f\\u0c38\\u0c4d\\u0c25\\u0c3e\\u0c28\\u0c3e\\u0c32\\u0c4d\\u0c32\\u0c4b \\u0c28\\u0c4d\\u0c2f\\u0c3e\\u0c2f\\u0c2e\\u0c42\\u0c30\\u0c4d\\u0c24\\u0c41\\u0c32 \\u0c28\\u0c3f\\u0c2f\\u0c3e\\u0c2e\\u0c15\\u0c02 \\u0c35\\u0c02\\u0c1f\\u0c3f \\u0c38\\u0c02\\u0c38\\u0c4d\\u0c15\\u0c30\\u0c23\\u0c32\\u0c2a\\u0c48 \\u0c26\\u0c3e\\u0c16\\u0c32\\u0c48\\u0c28 \\u0c2a\\u0c3f\\u0c1f\\u0c3f\\u0c37\\u0c28\\u0c4d\\u0c32\\u0c28\\u0c41 \\u0c15\\u0c4a\\u0c1f\\u0c4d\\u0c1f\\u0c3f\\u0c35\\u0c47\\u0c2f\\u0c3e\\u0c32\\u0c28\\u0c3f \\u0c38\\u0c41\\u0c2a\\u0c4d\\u0c30\\u0c40\\u0c02 \\u0c15\\u0c4b\\u0c30\\u0c4d\\u0c1f\\u0c41\\u0c28\\u0c41 \\u0c15\\u0c47\\u0c02 \\u0c26\\u0c4d\\u0c30\\u0c02 \\u0c15\\u0c4b\\u0c30\\u0c3f\\u0c02\\u0c26\\u0c3f. \\u0c2a\\u0c3e\\u0c32\\u0c28\\u0c2a\\u0c30\\u0c02\\u0c17\\u0c3e \\u0c06 \\u0c05\\u0c02\\u0c36\\u0c3e\\u0c32\\u0c28\\u0c41 \\u0c2a\\u0c30\\u0c3f\\u0c37\\u0c4d\\u0c15\\u0c30\\u0c3f\\u0c38\\u0c4d\\u0c24\\u0c41\\u0c28\\u0c4d\\u0c28\\u0c3e\\u0c2e\\u0c28\\u0c3f, \\u0c35\\u0c3e\\u0c1f\\u0c3f\\u0c28\\u0c3f \\u0c15\\u0c4b\\u0c30\\u0c4d\\u0c1f\\u0c41\\u0c32\\u0c4b \\u0c35\\u0c3f\\u0c1a\\u0c3e\\u0c30\\u0c3f\\u0c02\\u0c1a\\u0c30\\u0c3e\\u0c26\\u0c28\\u0c3f \\u0c0f\\u0c1c\\u0c40 \\u0c2e\\u0c41\\u0c15\\u0c41\\u0c32\\u0c4d\\u200c \\u0c30\\u0c4b\\u0c39\\u0c24\\u0c4d\\u0c17\\u0c40 \\u0c24\\u0c46\\u0c32\\u0c3f\\u0c2a\\u0c3e\\u0c30\\u0c41. \\u0c08 \\u0c2a\\u0c3f\\u0c1f\\u0c3f\\u0c37\\u0c28\\u0c4d\\u0c32\\u0c2a\\u0c48 \\u0c28\\u0c46\\u0c32 \\u0c30\\u0c4b\\u0c1c\\u0c41\\u0c32 \\u0c24\\u0c30\\u0c4d\\u0c35\\u0c3e\\u0c24 \\u0c35\\u0c3e\\u0c1f\\u0c3f\\u0c28\\u0c3f \\u0c2a\\u0c30\\u0c3f\\u0c17\\u0c23\\u0c28\\u0c32\\u0c4b\\u0c15\\u0c3f \\u0c24\\u0c40\\u0c38\\u0c41\\u0c15\\u0c41\\u0c02\\u0c1f\\u0c3e\\u0c2e\\u0c28\\u0c3f \\u0c1c\\u0c38\\u0c4d\\u0c1f\\u0c3f\\u0c38\\u0c4d\\u200c \\u0c1c\\u0c47\\u0c0e\\u0c38\\u0c4d\\u200c \\u0c16\\u0c47\\u0c39\\u0c30\\u0c4d\\u200c, \\u0c1c\\u0c38\\u0c4d\\u0c1f\\u0c3f\\u0c38\\u0c4d\\u200c \\u0c0e\\u0c28\\u0c4d\\u0c35\\u0c40 \\u0c30\\u0c2e\\u0c23\\u0c32\\u0c24\\u0c4b \\u0c15\\u0c42\\u0c21\\u0c3f\\u0c28 \\u0c27\\u0c30\\u0c4d\\u0c2e\\u0c3e\\u0c38\\u0c28\\u0c02 \\u0c38\\u0c4d\\u0c2a\\u0c37\\u0c4d\\u0c1f\\u0c02 \\u0c1a\\u0c47\\u0c38\\u0c3f\\u0c02\\u0c26\\u0c3f. \\u0c05\\u0c02\\u0c24\\u0c15\\u0c41\\u0c2e\\u0c41\\u0c02\\u0c26\\u0c41, \\u0c15\\u0c4a\\u0c32\\u0c40\\u0c1c\\u0c3f\\u0c2f\\u0c02 \\u0c38\\u0c3f\\u0c2b\\u0c3e\\u0c30\\u0c38\\u0c41 \\u0c1a\\u0c47\\u0c38\\u0c3f\\u0c28\\u0c3e \\u0c39\\u0c48\\u0c15\\u0c4b\\u0c30\\u0c4d\\u0c1f\\u0c41 \\u0c38\\u0c40\\u0c1c\\u0c47, \\u0c28\\u0c4d\\u0c2f\\u0c3e\\u0c2f\\u0c2e\\u0c42\\u0c30\\u0c4d\\u0c24\\u0c41\\u0c32\\u0c28\\u0c41 \\u0c0e\\u0c02\\u0c26\\u0c41\\u0c15\\u0c41 \\u0c2c\\u0c26\\u0c3f\\u0c32\\u0c40 \\u0c1a\\u0c47\\u0c2f\\u0c32\\u0c47\\u0c26\\u0c28\\u0c3f \\u0c38\\u0c41\\u0c2a\\u0c4d\\u0c30\\u0c40\\u0c02 \\u0c2a\\u0c4d\\u0c30\\u0c36\\u0c4d\\u0c28\\u0c3f\\u0c02\\u0c1a\\u0c3f\\u0c28 \\u0c35\\u0c3f\\u0c37\\u0c2f\\u0c02 \\u0c24\\u0c46\\u0c32\\u0c3f\\u0c38\\u0c3f\\u0c02\\u0c26\\u0c47.\",\n          \"\\n\\u0c38\\u0c3f\\u0c2c\\u0c4d\\u0c2c\\u0c02\\u0c26\\u0c3f \\u0c28\\u0c46\\u0c1f\\u0c4d\\u0c1f\\u0c47\\u0c38\\u0c3f\\u0c28\\u0c3e.. \\u0c26\\u0c17\\u0c4d\\u0c17\\u0c30\\u0c15\\u0c41 \\u0c2a\\u0c3f\\u0c32\\u0c3f\\u0c2a\\u0c3f\\u0c02\\u0c1a\\u0c41\\u0c15\\u0c41\\u0c28\\u0c4d\\u0c28 \\u0c38\\u0c1a\\u0c3f\\u0c28\\u0c4d\\u200c\\u0c36\\u0c4d\\u0c30\\u0c40\\u0c35\\u0c3e\\u0c30\\u0c3f \\u0c1a\\u0c3f\\u0c24\\u0c4d\\u0c30\\u0c2a\\u0c1f\\u0c02 \\u0c38\\u0c4d\\u0c35\\u0c40\\u0c15\\u0c30\\u0c23\\u0c24\\u0c3f\\u0c30\\u0c41\\u0c2e\\u0c32: \\u0c06\\u0c1f\\u0c15\\u0c41 \\u0c26\\u0c42\\u0c30\\u0c2e\\u0c48\\u0c28\\u0c3e \\u0c05\\u0c2d\\u0c3f\\u0c2e\\u0c3e\\u0c28\\u0c41\\u0c32\\u0c15\\u0c41 \\u0c2e\\u0c3e\\u0c24\\u0c4d\\u0c30\\u0c02 \\u0c0e\\u0c2a\\u0c4d\\u0c2a\\u0c41\\u0c21\\u0c42 \\u0c26\\u0c17\\u0c4d\\u0c17\\u0c30\\u0c17\\u0c3e\\u0c28\\u0c47 \\u0c09\\u0c02\\u0c1f\\u0c3e\\u0c28\\u0c28\\u0c3f \\u0c15\\u0c4d\\u0c30\\u0c3f\\u0c15\\u0c46\\u0c1f\\u0c4d\\u200c \\u0c26\\u0c3f\\u0c17\\u0c4d\\u0c17\\u0c1c\\u0c02 \\u0c38\\u0c1a\\u0c3f\\u0c28\\u0c4d\\u200c \\u0c1f\\u0c46\\u0c02\\u0c21\\u0c42\\u0c32\\u0c4d\\u0c15\\u0c30\\u0c4d\\u200c \\u0c2e\\u0c30\\u0c4b\\u0c38\\u0c3e\\u0c30\\u0c3f \\u0c28\\u0c3f\\u0c30\\u0c42\\u0c2a\\u0c3f\\u0c02\\u0c1a\\u0c3e \\u0c30\\u0c41. \\u0c24\\u0c28\\u0c28\\u0c41 \\u0c15\\u0c32\\u0c3f\\u0c38\\u0c47\\u0c02\\u0c26\\u0c41\\u0c15\\u0c41 \\u0c35\\u0c1a\\u0c4d\\u0c1a\\u0c3f\\u0c28 \\u0c05\\u0c2d\\u0c3f\\u0c2e\\u0c3e\\u0c28\\u0c3f\\u0c28\\u0c3f \\u0c05\\u0c27\\u0c3f\\u0c15\\u0c3e\\u0c30\\u0c41\\u0c32\\u0c41, \\u0c38\\u0c46\\u0c15\\u0c4d\\u0c2f\\u0c42\\u0c30\\u0c3f\\u0c1f\\u0c40 \\u0c38\\u0c3f\\u0c2c\\u0c4d\\u0c2c\\u0c02\\u0c26\\u0c3f \\u0c26\\u0c42\\u0c30\\u0c02\\u0c17\\u0c3e \\u0c28\\u0c46\\u0c1f\\u0c4d\\u0c1f\\u0c47\\u0c38\\u0c3f\\u0c28\\u0c3e.. \\u0c38\\u0c1a\\u0c3f\\u0c28\\u0c4d\\u200c \\u0c2e\\u0c3e\\u0c24\\u0c4d\\u0c30\\u0c02 \\u0c05\\u0c24\\u0c28\\u0c4d\\u0c28\\u0c3f \\u0c26\\u0c17\\u0c4d\\u0c17\\u0c30\\u0c15\\u0c41 \\u0c2a\\u0c3f\\u0c32\\u0c3f\\u0c2a\\u0c3f\\u0c02\\u0c1a\\u0c41 \\u0c15\\u0c41\\u0c28\\u0c4d\\u0c28\\u0c3e\\u0c21\\u0c41. \\u0c05\\u0c24\\u0c21\\u0c3f \\u0c1a\\u0c4d\\u0c1a\\u0c3f\\u0c28 \\u0c36\\u0c4d\\u0c30\\u0c40\\u0c35\\u0c47\\u0c02\\u0c15\\u0c1f\\u0c47\\u0c36\\u0c4d\\u0c35\\u0c30 \\u0c38\\u0c4d\\u0c35\\u0c3e\\u0c2e\\u0c3f \\u0c1a\\u0c3f\\u0c24\\u0c4d\\u0c30\\u0c2a\\u0c1f\\u0c3e\\u0c28\\u0c4d\\u0c28\\u0c3f \\u0c24\\u0c40\\u0c38\\u0c41\\u0c15\\u0c41\\u0c28\\u0c3f \\u0c27\\u0c28\\u0c4d\\u0c2f\\u0c35\\u0c3e\\u0c26\\u0c3e\\u0c32\\u0c41 \\u0c1a\\u0c46\\u0c2a\\u0c4d\\u0c2a\\u0c3e\\u0c30\\u0c41. \\u0c08 \\u0c18\\u0c1f\\u0c28 \\u0c24\\u0c3f\\u0c30\\u0c41\\u0c2e\\u0c32 \\u0c36\\u0c4d\\u0c30\\u0c40\\u0c35\\u0c3e\\u0c30\\u0c3f \\u0c06\\u0c32 \\u0c2f\\u0c02 \\u0c35\\u0c46\\u0c32\\u0c41\\u0c2a\\u0c32 \\u0c17\\u0c41\\u0c30\\u0c41\\u0c35\\u0c3e\\u0c30\\u0c02 \\u0c09\\u0c26 \\u0c2f\\u0c02 \\u0c1a\\u0c4b\\u0c1f\\u0c41\\u0c1a\\u0c47\\u0c38\\u0c41\\u0c15\\u0c41\\u0c02 \\u0c26\\u0c3f. \\u0c36\\u0c4d\\u0c30\\u0c40\\u0c35\\u0c47\\u0c02\\u0c15\\u0c1f\\u0c47\\u0c36\\u0c4d\\u0c35\\u0c30 \\u0c38\\u0c4d\\u0c35\\u0c3e\\u0c2e\\u0c3f\\u0c28\\u0c3f \\u0c26\\u0c30\\u0c4d\\u0c36\\u0c3f\\u0c02\\u0c1a\\u0c41 \\u0c15\\u0c41\\u0c28\\u0c4d\\u0c28 \\u0c38\\u0c1a\\u0c3f\\u0c28\\u0c4d\\u200c \\u0c15\\u0c1f\\u0c4d\\u0c1f\\u0c41 \\u0c26\\u0c3f\\u0c1f\\u0c4d\\u0c1f\\u0c2e\\u0c48\\u0c28 \\u0c2d\\u0c26\\u0c4d\\u0c30\\u0c24 \\u0c28\\u0c21\\u0c41\\u0c2e \\u0c06\\u0c32\\u0c2f\\u0c02 \\u0c35\\u0c46\\u0c32\\u0c41\\u0c2a\\u0c32\\u0c15\\u0c41 \\u0c35\\u0c1a\\u0c4d\\u0c1a\\u0c3e \\u0c21\\u0c41. \\u0c24\\u0c28\\u0c15\\u0c3f \\u0c37\\u0c4d\\u0c1f\\u0c2e\\u0c48\\u0c28 \\u0c15\\u0c4d\\u0c30\\u0c3f\\u0c15\\u0c46\\u0c1f\\u0c30\\u0c4d\\u200c\\u0c28\\u0c41 \\u0c15\\u0c32\\u0c3f\\u0c38\\u0c3f \\u0c36\\u0c4d\\u0c30\\u0c40\\u0c35\\u0c3e\\u0c30\\u0c3f \\u0c1a\\u0c3f\\u0c24\\u0c4d\\u0c30\\u0c2a\\u0c1f\\u0c02 \\u0c2c\\u0c39\\u0c42\\u0c15\\u0c30\\u0c3f\\u0c02\\u0c1a\\u0c3e\\u0c32\\u0c28\\u0c3f \\u0c24\\u0c3f\\u0c30\\u0c41\\u0c2e\\u0c32\\u0c15\\u0c41 \\u0c1a\\u0c46\\u0c02\\u0c26\\u0c3f\\u0c28 \\u0c2e\\u0c41\\u0c28\\u0c3f\\u0c1a\\u0c02\\u0c26\\u0c4d\\u0c30 \\u0c06\\u0c32\\u0c2f\\u0c02 \\u0c35\\u0c46\\u0c32\\u0c41\\u0c2a\\u0c32 \\u0c06\\u0c36\\u0c17\\u0c3e  \\u0c0e\\u0c26\\u0c41\\u0c30\\u0c41\\u0c1a\\u0c42\\u0c38\\u0c4d\\u0c24\\u0c42 \\u0c28\\u0c3f\\u0c32\\u0c41\\u0c1a\\u0c41\\u0c28\\u0c4d\\u0c28\\u0c3e\\u0c21\\u0c41. \\u0c38\\u0c1a\\u0c3f\\u0c28\\u0c4d\\u200c \\u0c2c\\u0c2f \\u0c1f\\u0c15\\u0c41\\u0c30\\u0c3e\\u0c17\\u0c3e\\u0c28\\u0c47 \\u0c05\\u0c24\\u0c28\\u0c3f \\u0c26\\u0c17\\u0c4d\\u0c17\\u0c30\\u0c15\\u0c41 \\u0c1a\\u0c47\\u0c30\\u0c41\\u0c15\\u0c41\\u0c28\\u0c3f \\u0c1a\\u0c3f\\u0c24\\u0c4d\\u0c30\\u0c2a\\u0c1f\\u0c02 \\u0c07\\u0c1a\\u0c4d\\u0c1a\\u0c47\\u0c02\\u0c26\\u0c41\\u0c15\\u0c41 \\u0c2a\\u0c4d\\u0c30\\u0c2f\\u0c24\\u0c4d\\u0c28\\u0c3f\\u0c02 \\u0c1a\\u0c3e\\u0c21\\u0c41. \\u0c05\\u0c2f\\u0c3f\\u0c24\\u0c47 \\u0c05\\u0c27\\u0c3f\\u0c15\\u0c3e\\u0c30\\u0c41\\u0c32\\u0c41, \\u0c38\\u0c46\\u0c15\\u0c4d\\u0c2f\\u0c42\\u0c30\\u0c3f\\u0c1f\\u0c40 \\u0c38\\u0c3f\\u0c2c\\u0c4d\\u0c2c\\u0c02\\u0c26\\u0c3f \\u0c05\\u0c24\\u0c28\\u0c4d\\u0c28\\u0c3f \\u0c05\\u0c21\\u0c4d\\u0c21\\u0c41\\u0c15\\u0c41\\u0c28\\u0c3f \\u0c2a\\u0c15\\u0c4d\\u0c15\\u0c15\\u0c41 \\u0c24\\u0c4b\\u0c38\\u0c47\\u0c36\\u0c3e\\u0c30\\u0c41. \\u0c07\\u0c26\\u0c02\\u0c24\\u0c3e \\u0c17\\u0c2e\\u0c28\\u0c3f\\u0c02\\u0c1a\\u0c3f\\u0c28 \\u0c38\\u0c1a\\u0c3f \\u0c28\\u0c4d\\u200c.. \\u0c06 \\u0c05\\u0c2d\\u0c3f\\u0c2e\\u0c3e\\u0c28\\u0c3f\\u0c28\\u0c3f \\u0c26\\u0c17\\u0c4d\\u0c17\\u0c30\\u0c3f\\u0c15\\u0c3f \\u0c30\\u0c2e\\u0c4d\\u0c2e\\u0c28\\u0c3f \\u0c38\\u0c48\\u0c17 \\u0c1a\\u0c47\\u0c36\\u0c3e\\u0c30\\u0c41. \\u0c05\\u0c24\\u0c21\\u0c3f\\u0c28\\u0c3f \\u0c24\\u0c40\\u0c38\\u0c41\\u0c15\\u0c41\\u0c30\\u0c3e\\u0c35\\u0c3e\\u0c32\\u0c02\\u0c1f\\u0c42 \\u0c38\\u0c46\\u0c15\\u0c4d\\u0c2f\\u0c42\\u0c30\\u0c3f\\u0c1f\\u0c40 \\u0c38\\u0c3f\\u0c2c\\u0c4d\\u0c2c\\u0c02 \\u0c26\\u0c3f\\u0c28\\u0c3f \\u0c06\\u0c26\\u0c47\\u0c36\\u0c3f\\u0c02\\u0c1a\\u0c3e\\u0c30\\u0c41. \\u0c26\\u0c40\\u0c02\\u0c24\\u0c4b \\u0c2e\\u0c41\\u0c28\\u0c3f\\u0c1a\\u0c02\\u0c26\\u0c4d\\u0c30\\u0c28\\u0c41 \\u0c38\\u0c46\\u0c15\\u0c4d\\u0c2f\\u0c42\\u0c30\\u0c3f\\u0c1f\\u0c40 \\u0c38\\u0c3f\\u0c2c\\u0c4d\\u0c2c\\u0c02\\u0c26\\u0c47 \\u0c24\\u0c3f\\u0c30\\u0c3f\\u0c17\\u0c3f \\u0c2e\\u0c3e\\u0c38\\u0c4d\\u0c1f\\u0c30\\u0c4d\\u200c \\u0c35\\u0c26\\u0c4d\\u0c26\\u0c15\\u0c41 \\u0c24\\u0c40\\u0c38\\u0c41\\u0c15\\u0c4a \\u0c1a\\u0c4d\\u0c1a\\u0c3e\\u0c30\\u0c41. \\u0c24\\u0c28 \\u0c07\\u0c37\\u0c4d\\u0c1f\\u0c26\\u0c48\\u0c35\\u0c02 \\u0c24\\u0c28\\u0c28\\u0c41 \\u0c26\\u0c17\\u0c4d\\u0c17\\u0c30\\u0c15\\u0c41 \\u0c2a\\u0c3f\\u0c32\\u0c35 \\u0c21\\u0c02\\u0c24\\u0c4b \\u0c2e\\u0c41\\u0c28\\u0c3f\\u0c1a\\u0c02\\u0c26\\u0c4d\\u0c30 \\u0c06\\u0c28\\u0c02\\u0c26\\u0c02\\u0c24\\u0c4b \\u0c09\\u0c2a\\u0c4d\\u0c2a\\u0c4a\\u0c02\\u0c17\\u0c3f \\u0c2a\\u0c4b\\u0c2f\\u0c3e\\u0c21\\u0c41. \\u0c24\\u0c28 \\u0c1a\\u0c47\\u0c24\\u0c3f\\u0c32\\u0c4b \\u0c09\\u0c28\\u0c4d\\u0c28 \\u0c36\\u0c4d\\u0c30\\u0c40\\u0c35\\u0c3e\\u0c30\\u0c3f \\u0c1a\\u0c3f\\u0c24\\u0c4d\\u0c30\\u0c2a\\u0c1f\\u0c3e\\u0c28\\u0c4d\\u0c28\\u0c3f \\u0c38\\u0c1a\\u0c3f\\u0c28\\u0c4d\\u200c\\u0c15\\u0c41 \\u0c05\\u0c02\\u0c26\\u0c3f\\u0c02\\u0c1a\\u0c3e\\u0c21\\u0c41. \\u0c06 \\u0c05\\u0c2d\\u0c3f\\u0c2e\\u0c3e\\u0c28\\u0c3f\\u0c24\\u0c4b \\u0c38\\u0c1a\\u0c3f\\u0c28\\u0c4d\\u200c \\u0c2b\\u0c4a\\u0c1f\\u0c4b \\u0c26\\u0c3f\\u0c17\\u0c3e\\u0c21\\u0c41..\"\n        ],\n        \"semantic_type\": \"\",\n        \"description\": \"\"\n      }\n    },\n    {\n      \"column\": \"topic\",\n      \"properties\": {\n        \"dtype\": \"category\",\n        \"num_unique_values\": 5,\n        \"samples\": [\n          \"sports\",\n          \"editorial\",\n          \"nation\"\n        ],\n        \"semantic_type\": \"\",\n        \"description\": \"\"\n      }\n    }\n  ]\n}",
              "type": "dataframe",
              "variable_name": "telugu_news_df"
            },
            "text/html": [
              "\n",
              "  <div id=\"df-d6f1f157-e4c4-47ee-805e-a54de7dc302e\" class=\"colab-df-container\">\n",
              "    <div>\n",
              "<style scoped>\n",
              "    .dataframe tbody tr th:only-of-type {\n",
              "        vertical-align: middle;\n",
              "    }\n",
              "\n",
              "    .dataframe tbody tr th {\n",
              "        vertical-align: top;\n",
              "    }\n",
              "\n",
              "    .dataframe thead th {\n",
              "        text-align: right;\n",
              "    }\n",
              "</style>\n",
              "<table border=\"1\" class=\"dataframe\">\n",
              "  <thead>\n",
              "    <tr style=\"text-align: right;\">\n",
              "      <th></th>\n",
              "      <th>SNo</th>\n",
              "      <th>date</th>\n",
              "      <th>heading</th>\n",
              "      <th>body</th>\n",
              "      <th>topic</th>\n",
              "    </tr>\n",
              "  </thead>\n",
              "  <tbody>\n",
              "    <tr>\n",
              "      <th>0</th>\n",
              "      <td>414</td>\n",
              "      <td>11-05-2017 00:39:13</td>\n",
              "      <td>ఐడిబిఐపై ఆర్‌బిఐ నజర్‌</td>\n",
              "      <td>భారీ ఎత్తున మొండిబకాయిలు పెరిగిపోవడంతో ఐడిబిఐ ...</td>\n",
              "      <td>business</td>\n",
              "    </tr>\n",
              "    <tr>\n",
              "      <th>1</th>\n",
              "      <td>2668</td>\n",
              "      <td>12-06-2017 00:40:32</td>\n",
              "      <td>బ్యాంకింగ్‌ చీఫ్‌లతో నేడు జైట్లీ భేటీ</td>\n",
              "      <td>న్యూఢిల్లీ : ఆర్థిక మంత్రి అరుణ్‌ జైట్లీ సోమవా...</td>\n",
              "      <td>business</td>\n",
              "    </tr>\n",
              "    <tr>\n",
              "      <th>2</th>\n",
              "      <td>19923</td>\n",
              "      <td>19-01-2017 19:51:31</td>\n",
              "      <td>కీలక వికెట్ తీసిన జడేజా..</td>\n",
              "      <td>కటక్: ఇంగ్లండ్‌తో జరుగుతున్న సెకండ్ వన్డే మ్యా...</td>\n",
              "      <td>sports</td>\n",
              "    </tr>\n",
              "    <tr>\n",
              "      <th>3</th>\n",
              "      <td>15762</td>\n",
              "      <td>23-11-2017 17:29:04</td>\n",
              "      <td>మరో రెచ్చగొట్టే చర్యకు దిగిన పాకిస్థాన్</td>\n",
              "      <td>\\nఇస్లామాబాద్ : పాకిస్థాన్ అంతర్జాతీయ ఉగ్రవాది...</td>\n",
              "      <td>nation</td>\n",
              "    </tr>\n",
              "    <tr>\n",
              "      <th>4</th>\n",
              "      <td>8624</td>\n",
              "      <td>03-04-2017 15:48:23</td>\n",
              "      <td>గోవాలో కొడుకుతో కలిసి అల్లు అర్జున్ స్విమ్మింగ్!</td>\n",
              "      <td>స్టార్‌ హీరోగా వరుస సినిమాలతో బిజీగా ఉన్నప్పటి...</td>\n",
              "      <td>entertainment</td>\n",
              "    </tr>\n",
              "    <tr>\n",
              "      <th>...</th>\n",
              "      <td>...</td>\n",
              "      <td>...</td>\n",
              "      <td>...</td>\n",
              "      <td>...</td>\n",
              "      <td>...</td>\n",
              "    </tr>\n",
              "    <tr>\n",
              "      <th>17307</th>\n",
              "      <td>10296</td>\n",
              "      <td>02-02-2017 12:18:11</td>\n",
              "      <td>చిరు,ఎన్టీఆర్ వల్ల కాజల్‌కు దక్కిందేమిటి..?</td>\n",
              "      <td>ఇండస్ట్రీలో హీరోయిన్‌గా రాణించాలంటే కేవలం గ్లా...</td>\n",
              "      <td>entertainment</td>\n",
              "    </tr>\n",
              "    <tr>\n",
              "      <th>17308</th>\n",
              "      <td>13641</td>\n",
              "      <td>20-12-2017 04:16:32</td>\n",
              "      <td>హిమాచల్‌ సీఎం రేసులో నడ్డా, జైరామ్‌</td>\n",
              "      <td>షిమ్లా, డిసెంబరు 19: హిమాచల్‌ ప్రదేశ్‌ అసెంబ్ల...</td>\n",
              "      <td>nation</td>\n",
              "    </tr>\n",
              "    <tr>\n",
              "      <th>17309</th>\n",
              "      <td>17288</td>\n",
              "      <td>20-05-2017 03:00:10</td>\n",
              "      <td>సతతహరిత విప్లవం అవసరం</td>\n",
              "      <td>2022 నాటికి  రైతుల ఆదాయం రెట్టింపు చేయడానికి క...</td>\n",
              "      <td>nation</td>\n",
              "    </tr>\n",
              "    <tr>\n",
              "      <th>17310</th>\n",
              "      <td>20882</td>\n",
              "      <td>13-06-2017 04:30:36</td>\n",
              "      <td>ఇంగ్లండ్‌ జెర్సీలో వార్న్‌..!</td>\n",
              "      <td>పందెంలో ఓడిన షేనలండన్: ఆస్ట్రేలియా స్పిన్ లెజె...</td>\n",
              "      <td>sports</td>\n",
              "    </tr>\n",
              "    <tr>\n",
              "      <th>17311</th>\n",
              "      <td>13905</td>\n",
              "      <td>17-12-2017 02:12:54</td>\n",
              "      <td>ఆ శక్తి రాహుల్‌కు ఉంది!</td>\n",
              "      <td>ధైర్యంగా పార్టీని నడపగలరు దేశం సవాళ్లను ఎదుర్...</td>\n",
              "      <td>nation</td>\n",
              "    </tr>\n",
              "  </tbody>\n",
              "</table>\n",
              "<p>17312 rows × 5 columns</p>\n",
              "</div>\n",
              "    <div class=\"colab-df-buttons\">\n",
              "\n",
              "  <div class=\"colab-df-container\">\n",
              "    <button class=\"colab-df-convert\" onclick=\"convertToInteractive('df-d6f1f157-e4c4-47ee-805e-a54de7dc302e')\"\n",
              "            title=\"Convert this dataframe to an interactive table.\"\n",
              "            style=\"display:none;\">\n",
              "\n",
              "  <svg xmlns=\"http://www.w3.org/2000/svg\" height=\"24px\" viewBox=\"0 -960 960 960\">\n",
              "    <path d=\"M120-120v-720h720v720H120Zm60-500h600v-160H180v160Zm220 220h160v-160H400v160Zm0 220h160v-160H400v160ZM180-400h160v-160H180v160Zm440 0h160v-160H620v160ZM180-180h160v-160H180v160Zm440 0h160v-160H620v160Z\"/>\n",
              "  </svg>\n",
              "    </button>\n",
              "\n",
              "  <style>\n",
              "    .colab-df-container {\n",
              "      display:flex;\n",
              "      gap: 12px;\n",
              "    }\n",
              "\n",
              "    .colab-df-convert {\n",
              "      background-color: #E8F0FE;\n",
              "      border: none;\n",
              "      border-radius: 50%;\n",
              "      cursor: pointer;\n",
              "      display: none;\n",
              "      fill: #1967D2;\n",
              "      height: 32px;\n",
              "      padding: 0 0 0 0;\n",
              "      width: 32px;\n",
              "    }\n",
              "\n",
              "    .colab-df-convert:hover {\n",
              "      background-color: #E2EBFA;\n",
              "      box-shadow: 0px 1px 2px rgba(60, 64, 67, 0.3), 0px 1px 3px 1px rgba(60, 64, 67, 0.15);\n",
              "      fill: #174EA6;\n",
              "    }\n",
              "\n",
              "    .colab-df-buttons div {\n",
              "      margin-bottom: 4px;\n",
              "    }\n",
              "\n",
              "    [theme=dark] .colab-df-convert {\n",
              "      background-color: #3B4455;\n",
              "      fill: #D2E3FC;\n",
              "    }\n",
              "\n",
              "    [theme=dark] .colab-df-convert:hover {\n",
              "      background-color: #434B5C;\n",
              "      box-shadow: 0px 1px 3px 1px rgba(0, 0, 0, 0.15);\n",
              "      filter: drop-shadow(0px 1px 2px rgba(0, 0, 0, 0.3));\n",
              "      fill: #FFFFFF;\n",
              "    }\n",
              "  </style>\n",
              "\n",
              "    <script>\n",
              "      const buttonEl =\n",
              "        document.querySelector('#df-d6f1f157-e4c4-47ee-805e-a54de7dc302e button.colab-df-convert');\n",
              "      buttonEl.style.display =\n",
              "        google.colab.kernel.accessAllowed ? 'block' : 'none';\n",
              "\n",
              "      async function convertToInteractive(key) {\n",
              "        const element = document.querySelector('#df-d6f1f157-e4c4-47ee-805e-a54de7dc302e');\n",
              "        const dataTable =\n",
              "          await google.colab.kernel.invokeFunction('convertToInteractive',\n",
              "                                                    [key], {});\n",
              "        if (!dataTable) return;\n",
              "\n",
              "        const docLinkHtml = 'Like what you see? Visit the ' +\n",
              "          '<a target=\"_blank\" href=https://colab.research.google.com/notebooks/data_table.ipynb>data table notebook</a>'\n",
              "          + ' to learn more about interactive tables.';\n",
              "        element.innerHTML = '';\n",
              "        dataTable['output_type'] = 'display_data';\n",
              "        await google.colab.output.renderOutput(dataTable, element);\n",
              "        const docLink = document.createElement('div');\n",
              "        docLink.innerHTML = docLinkHtml;\n",
              "        element.appendChild(docLink);\n",
              "      }\n",
              "    </script>\n",
              "  </div>\n",
              "\n",
              "\n",
              "<div id=\"df-436283d5-cacf-4662-97d0-a81f6d62c9e7\">\n",
              "  <button class=\"colab-df-quickchart\" onclick=\"quickchart('df-436283d5-cacf-4662-97d0-a81f6d62c9e7')\"\n",
              "            title=\"Suggest charts\"\n",
              "            style=\"display:none;\">\n",
              "\n",
              "<svg xmlns=\"http://www.w3.org/2000/svg\" height=\"24px\"viewBox=\"0 0 24 24\"\n",
              "     width=\"24px\">\n",
              "    <g>\n",
              "        <path d=\"M19 3H5c-1.1 0-2 .9-2 2v14c0 1.1.9 2 2 2h14c1.1 0 2-.9 2-2V5c0-1.1-.9-2-2-2zM9 17H7v-7h2v7zm4 0h-2V7h2v10zm4 0h-2v-4h2v4z\"/>\n",
              "    </g>\n",
              "</svg>\n",
              "  </button>\n",
              "\n",
              "<style>\n",
              "  .colab-df-quickchart {\n",
              "      --bg-color: #E8F0FE;\n",
              "      --fill-color: #1967D2;\n",
              "      --hover-bg-color: #E2EBFA;\n",
              "      --hover-fill-color: #174EA6;\n",
              "      --disabled-fill-color: #AAA;\n",
              "      --disabled-bg-color: #DDD;\n",
              "  }\n",
              "\n",
              "  [theme=dark] .colab-df-quickchart {\n",
              "      --bg-color: #3B4455;\n",
              "      --fill-color: #D2E3FC;\n",
              "      --hover-bg-color: #434B5C;\n",
              "      --hover-fill-color: #FFFFFF;\n",
              "      --disabled-bg-color: #3B4455;\n",
              "      --disabled-fill-color: #666;\n",
              "  }\n",
              "\n",
              "  .colab-df-quickchart {\n",
              "    background-color: var(--bg-color);\n",
              "    border: none;\n",
              "    border-radius: 50%;\n",
              "    cursor: pointer;\n",
              "    display: none;\n",
              "    fill: var(--fill-color);\n",
              "    height: 32px;\n",
              "    padding: 0;\n",
              "    width: 32px;\n",
              "  }\n",
              "\n",
              "  .colab-df-quickchart:hover {\n",
              "    background-color: var(--hover-bg-color);\n",
              "    box-shadow: 0 1px 2px rgba(60, 64, 67, 0.3), 0 1px 3px 1px rgba(60, 64, 67, 0.15);\n",
              "    fill: var(--button-hover-fill-color);\n",
              "  }\n",
              "\n",
              "  .colab-df-quickchart-complete:disabled,\n",
              "  .colab-df-quickchart-complete:disabled:hover {\n",
              "    background-color: var(--disabled-bg-color);\n",
              "    fill: var(--disabled-fill-color);\n",
              "    box-shadow: none;\n",
              "  }\n",
              "\n",
              "  .colab-df-spinner {\n",
              "    border: 2px solid var(--fill-color);\n",
              "    border-color: transparent;\n",
              "    border-bottom-color: var(--fill-color);\n",
              "    animation:\n",
              "      spin 1s steps(1) infinite;\n",
              "  }\n",
              "\n",
              "  @keyframes spin {\n",
              "    0% {\n",
              "      border-color: transparent;\n",
              "      border-bottom-color: var(--fill-color);\n",
              "      border-left-color: var(--fill-color);\n",
              "    }\n",
              "    20% {\n",
              "      border-color: transparent;\n",
              "      border-left-color: var(--fill-color);\n",
              "      border-top-color: var(--fill-color);\n",
              "    }\n",
              "    30% {\n",
              "      border-color: transparent;\n",
              "      border-left-color: var(--fill-color);\n",
              "      border-top-color: var(--fill-color);\n",
              "      border-right-color: var(--fill-color);\n",
              "    }\n",
              "    40% {\n",
              "      border-color: transparent;\n",
              "      border-right-color: var(--fill-color);\n",
              "      border-top-color: var(--fill-color);\n",
              "    }\n",
              "    60% {\n",
              "      border-color: transparent;\n",
              "      border-right-color: var(--fill-color);\n",
              "    }\n",
              "    80% {\n",
              "      border-color: transparent;\n",
              "      border-right-color: var(--fill-color);\n",
              "      border-bottom-color: var(--fill-color);\n",
              "    }\n",
              "    90% {\n",
              "      border-color: transparent;\n",
              "      border-bottom-color: var(--fill-color);\n",
              "    }\n",
              "  }\n",
              "</style>\n",
              "\n",
              "  <script>\n",
              "    async function quickchart(key) {\n",
              "      const quickchartButtonEl =\n",
              "        document.querySelector('#' + key + ' button');\n",
              "      quickchartButtonEl.disabled = true;  // To prevent multiple clicks.\n",
              "      quickchartButtonEl.classList.add('colab-df-spinner');\n",
              "      try {\n",
              "        const charts = await google.colab.kernel.invokeFunction(\n",
              "            'suggestCharts', [key], {});\n",
              "      } catch (error) {\n",
              "        console.error('Error during call to suggestCharts:', error);\n",
              "      }\n",
              "      quickchartButtonEl.classList.remove('colab-df-spinner');\n",
              "      quickchartButtonEl.classList.add('colab-df-quickchart-complete');\n",
              "    }\n",
              "    (() => {\n",
              "      let quickchartButtonEl =\n",
              "        document.querySelector('#df-436283d5-cacf-4662-97d0-a81f6d62c9e7 button');\n",
              "      quickchartButtonEl.style.display =\n",
              "        google.colab.kernel.accessAllowed ? 'block' : 'none';\n",
              "    })();\n",
              "  </script>\n",
              "</div>\n",
              "    </div>\n",
              "  </div>\n"
            ],
            "text/plain": [
              "         SNo                 date  \\\n",
              "0        414  11-05-2017 00:39:13   \n",
              "1       2668  12-06-2017 00:40:32   \n",
              "2      19923  19-01-2017 19:51:31   \n",
              "3      15762  23-11-2017 17:29:04   \n",
              "4       8624  03-04-2017 15:48:23   \n",
              "...      ...                  ...   \n",
              "17307  10296  02-02-2017 12:18:11   \n",
              "17308  13641  20-12-2017 04:16:32   \n",
              "17309  17288  20-05-2017 03:00:10   \n",
              "17310  20882  13-06-2017 04:30:36   \n",
              "17311  13905  17-12-2017 02:12:54   \n",
              "\n",
              "                                                heading  \\\n",
              "0                                ఐడిబిఐపై ఆర్‌బిఐ నజర్‌   \n",
              "1                 బ్యాంకింగ్‌ చీఫ్‌లతో నేడు జైట్లీ భేటీ   \n",
              "2                             కీలక వికెట్ తీసిన జడేజా..   \n",
              "3               మరో రెచ్చగొట్టే చర్యకు దిగిన పాకిస్థాన్   \n",
              "4      గోవాలో కొడుకుతో కలిసి అల్లు అర్జున్ స్విమ్మింగ్!   \n",
              "...                                                 ...   \n",
              "17307       చిరు,ఎన్టీఆర్ వల్ల కాజల్‌కు దక్కిందేమిటి..?   \n",
              "17308               హిమాచల్‌ సీఎం రేసులో నడ్డా, జైరామ్‌   \n",
              "17309                             సతతహరిత విప్లవం అవసరం   \n",
              "17310                     ఇంగ్లండ్‌ జెర్సీలో వార్న్‌..!   \n",
              "17311                           ఆ శక్తి రాహుల్‌కు ఉంది!   \n",
              "\n",
              "                                                    body          topic  \n",
              "0      భారీ ఎత్తున మొండిబకాయిలు పెరిగిపోవడంతో ఐడిబిఐ ...       business  \n",
              "1      న్యూఢిల్లీ : ఆర్థిక మంత్రి అరుణ్‌ జైట్లీ సోమవా...       business  \n",
              "2      కటక్: ఇంగ్లండ్‌తో జరుగుతున్న సెకండ్ వన్డే మ్యా...         sports  \n",
              "3      \\nఇస్లామాబాద్ : పాకిస్థాన్ అంతర్జాతీయ ఉగ్రవాది...         nation  \n",
              "4      స్టార్‌ హీరోగా వరుస సినిమాలతో బిజీగా ఉన్నప్పటి...  entertainment  \n",
              "...                                                  ...            ...  \n",
              "17307  ఇండస్ట్రీలో హీరోయిన్‌గా రాణించాలంటే కేవలం గ్లా...  entertainment  \n",
              "17308  షిమ్లా, డిసెంబరు 19: హిమాచల్‌ ప్రదేశ్‌ అసెంబ్ల...         nation  \n",
              "17309  2022 నాటికి  రైతుల ఆదాయం రెట్టింపు చేయడానికి క...         nation  \n",
              "17310  పందెంలో ఓడిన షేనలండన్: ఆస్ట్రేలియా స్పిన్ లెజె...         sports  \n",
              "17311   ధైర్యంగా పార్టీని నడపగలరు దేశం సవాళ్లను ఎదుర్...         nation  \n",
              "\n",
              "[17312 rows x 5 columns]"
            ]
          },
          "execution_count": 2,
          "metadata": {},
          "output_type": "execute_result"
        }
      ],
      "source": [
        "train_path = \"/content/train_telugu_news.csv\"\n",
        "\n",
        "telugu_news_df = pd.read_csv(train_path)\n",
        "telugu_news_df"
      ]
    },
    {
      "cell_type": "code",
      "execution_count": 3,
      "metadata": {
        "colab": {
          "base_uri": "https://localhost:8080/"
        },
        "id": "HIKPnxq2TA4G",
        "outputId": "7d1ee369-a328-4914-f817-3e259c25f8d1"
      },
      "outputs": [
        {
          "data": {
            "text/plain": [
              "SNo        0\n",
              "date       0\n",
              "heading    1\n",
              "body       0\n",
              "topic      0\n",
              "dtype: int64"
            ]
          },
          "execution_count": 3,
          "metadata": {},
          "output_type": "execute_result"
        }
      ],
      "source": [
        "telugu_news_df.isna().sum()"
      ]
    },
    {
      "cell_type": "code",
      "execution_count": 4,
      "metadata": {
        "colab": {
          "base_uri": "https://localhost:8080/",
          "height": 81
        },
        "id": "Axg7IziGTBjs",
        "outputId": "6c3e7944-5eed-4b3a-e573-07dc1dced1f6"
      },
      "outputs": [
        {
          "data": {
            "application/vnd.google.colaboratory.intrinsic+json": {
              "repr_error": "0",
              "type": "dataframe"
            },
            "text/html": [
              "\n",
              "  <div id=\"df-7c25192b-0087-465f-9346-4539fff48914\" class=\"colab-df-container\">\n",
              "    <div>\n",
              "<style scoped>\n",
              "    .dataframe tbody tr th:only-of-type {\n",
              "        vertical-align: middle;\n",
              "    }\n",
              "\n",
              "    .dataframe tbody tr th {\n",
              "        vertical-align: top;\n",
              "    }\n",
              "\n",
              "    .dataframe thead th {\n",
              "        text-align: right;\n",
              "    }\n",
              "</style>\n",
              "<table border=\"1\" class=\"dataframe\">\n",
              "  <thead>\n",
              "    <tr style=\"text-align: right;\">\n",
              "      <th></th>\n",
              "      <th>SNo</th>\n",
              "      <th>date</th>\n",
              "      <th>heading</th>\n",
              "      <th>body</th>\n",
              "      <th>topic</th>\n",
              "    </tr>\n",
              "  </thead>\n",
              "  <tbody>\n",
              "    <tr>\n",
              "      <th>8073</th>\n",
              "      <td>14673</td>\n",
              "      <td>20-02-2017 15:23:53</td>\n",
              "      <td>NaN</td>\n",
              "      <td>ఈ కిరాతకుడు 200 మందిని అత్యాచారం చేసి.. 500 మం...</td>\n",
              "      <td>nation</td>\n",
              "    </tr>\n",
              "  </tbody>\n",
              "</table>\n",
              "</div>\n",
              "    <div class=\"colab-df-buttons\">\n",
              "\n",
              "  <div class=\"colab-df-container\">\n",
              "    <button class=\"colab-df-convert\" onclick=\"convertToInteractive('df-7c25192b-0087-465f-9346-4539fff48914')\"\n",
              "            title=\"Convert this dataframe to an interactive table.\"\n",
              "            style=\"display:none;\">\n",
              "\n",
              "  <svg xmlns=\"http://www.w3.org/2000/svg\" height=\"24px\" viewBox=\"0 -960 960 960\">\n",
              "    <path d=\"M120-120v-720h720v720H120Zm60-500h600v-160H180v160Zm220 220h160v-160H400v160Zm0 220h160v-160H400v160ZM180-400h160v-160H180v160Zm440 0h160v-160H620v160ZM180-180h160v-160H180v160Zm440 0h160v-160H620v160Z\"/>\n",
              "  </svg>\n",
              "    </button>\n",
              "\n",
              "  <style>\n",
              "    .colab-df-container {\n",
              "      display:flex;\n",
              "      gap: 12px;\n",
              "    }\n",
              "\n",
              "    .colab-df-convert {\n",
              "      background-color: #E8F0FE;\n",
              "      border: none;\n",
              "      border-radius: 50%;\n",
              "      cursor: pointer;\n",
              "      display: none;\n",
              "      fill: #1967D2;\n",
              "      height: 32px;\n",
              "      padding: 0 0 0 0;\n",
              "      width: 32px;\n",
              "    }\n",
              "\n",
              "    .colab-df-convert:hover {\n",
              "      background-color: #E2EBFA;\n",
              "      box-shadow: 0px 1px 2px rgba(60, 64, 67, 0.3), 0px 1px 3px 1px rgba(60, 64, 67, 0.15);\n",
              "      fill: #174EA6;\n",
              "    }\n",
              "\n",
              "    .colab-df-buttons div {\n",
              "      margin-bottom: 4px;\n",
              "    }\n",
              "\n",
              "    [theme=dark] .colab-df-convert {\n",
              "      background-color: #3B4455;\n",
              "      fill: #D2E3FC;\n",
              "    }\n",
              "\n",
              "    [theme=dark] .colab-df-convert:hover {\n",
              "      background-color: #434B5C;\n",
              "      box-shadow: 0px 1px 3px 1px rgba(0, 0, 0, 0.15);\n",
              "      filter: drop-shadow(0px 1px 2px rgba(0, 0, 0, 0.3));\n",
              "      fill: #FFFFFF;\n",
              "    }\n",
              "  </style>\n",
              "\n",
              "    <script>\n",
              "      const buttonEl =\n",
              "        document.querySelector('#df-7c25192b-0087-465f-9346-4539fff48914 button.colab-df-convert');\n",
              "      buttonEl.style.display =\n",
              "        google.colab.kernel.accessAllowed ? 'block' : 'none';\n",
              "\n",
              "      async function convertToInteractive(key) {\n",
              "        const element = document.querySelector('#df-7c25192b-0087-465f-9346-4539fff48914');\n",
              "        const dataTable =\n",
              "          await google.colab.kernel.invokeFunction('convertToInteractive',\n",
              "                                                    [key], {});\n",
              "        if (!dataTable) return;\n",
              "\n",
              "        const docLinkHtml = 'Like what you see? Visit the ' +\n",
              "          '<a target=\"_blank\" href=https://colab.research.google.com/notebooks/data_table.ipynb>data table notebook</a>'\n",
              "          + ' to learn more about interactive tables.';\n",
              "        element.innerHTML = '';\n",
              "        dataTable['output_type'] = 'display_data';\n",
              "        await google.colab.output.renderOutput(dataTable, element);\n",
              "        const docLink = document.createElement('div');\n",
              "        docLink.innerHTML = docLinkHtml;\n",
              "        element.appendChild(docLink);\n",
              "      }\n",
              "    </script>\n",
              "  </div>\n",
              "\n",
              "    </div>\n",
              "  </div>\n"
            ],
            "text/plain": [
              "        SNo                 date heading  \\\n",
              "8073  14673  20-02-2017 15:23:53     NaN   \n",
              "\n",
              "                                                   body   topic  \n",
              "8073  ఈ కిరాతకుడు 200 మందిని అత్యాచారం చేసి.. 500 మం...  nation  "
            ]
          },
          "execution_count": 4,
          "metadata": {},
          "output_type": "execute_result"
        }
      ],
      "source": [
        "telugu_news_df[telugu_news_df[\"heading\"].isna() == True]"
      ]
    },
    {
      "cell_type": "code",
      "execution_count": 5,
      "metadata": {
        "id": "ntrfn4E9TGBZ"
      },
      "outputs": [],
      "source": [
        "del telugu_news_df[\"heading\"]\n",
        "del telugu_news_df[\"SNo\"]"
      ]
    },
    {
      "cell_type": "code",
      "execution_count": 6,
      "metadata": {
        "colab": {
          "base_uri": "https://localhost:8080/"
        },
        "id": "p22TbkCNTGYN",
        "outputId": "f9379388-98aa-4e5d-b7bb-19917199a65a"
      },
      "outputs": [
        {
          "data": {
            "text/plain": [
              "array(['business', 'sports', 'nation', 'entertainment', 'editorial'],\n",
              "      dtype=object)"
            ]
          },
          "execution_count": 6,
          "metadata": {},
          "output_type": "execute_result"
        }
      ],
      "source": [
        "telugu_news_df[\"topic\"].unique()"
      ]
    },
    {
      "cell_type": "code",
      "execution_count": 7,
      "metadata": {
        "colab": {
          "base_uri": "https://localhost:8080/"
        },
        "id": "h_qOY90PTInV",
        "outputId": "f02a4cc7-7004-409b-b16a-f6bfed877c9a"
      },
      "outputs": [
        {
          "data": {
            "text/plain": [
              "{'business': 0, 'sports': 1, 'nation': 2, 'entertainment': 3, 'editorial': 4}"
            ]
          },
          "execution_count": 7,
          "metadata": {},
          "output_type": "execute_result"
        }
      ],
      "source": [
        "topic_dic = {}\n",
        "\n",
        "c = 0\n",
        "for un in telugu_news_df[\"topic\"].unique():\n",
        "    if un not in topic_dic:\n",
        "        topic_dic[un] = c\n",
        "        c += 1\n",
        "\n",
        "topic_dic"
      ]
    },
    {
      "cell_type": "code",
      "execution_count": 8,
      "metadata": {
        "id": "301CYdSlTL5b"
      },
      "outputs": [],
      "source": [
        "inv_topic_dict = {v: k for k, v in topic_dic.items()}"
      ]
    },
    {
      "cell_type": "code",
      "execution_count": 9,
      "metadata": {
        "id": "eTqzCN7_TSDs"
      },
      "outputs": [],
      "source": [
        "def func_topic(s):\n",
        "    return topic_dic[s]\n",
        "\n",
        "telugu_news_df[\"topic\"] = telugu_news_df[\"topic\"].apply(func_topic)"
      ]
    },
    {
      "cell_type": "code",
      "execution_count": 10,
      "metadata": {
        "id": "xYZxamDcTSr8"
      },
      "outputs": [],
      "source": [
        "date_df = telugu_news_df[\"date\"]\n",
        "del telugu_news_df[\"date\"]"
      ]
    },
    {
      "cell_type": "code",
      "execution_count": 11,
      "metadata": {
        "colab": {
          "base_uri": "https://localhost:8080/"
        },
        "id": "YOIzH1DyTWDq",
        "outputId": "2b894841-e427-4719-85d7-c34820512795"
      },
      "outputs": [
        {
          "name": "stdout",
          "output_type": "stream",
          "text": [
            "Collecting indic-nlp-library\n",
            "  Downloading indic_nlp_library-0.92-py3-none-any.whl (40 kB)\n",
            "\u001b[2K     \u001b[90m━━━━━━━━━━━━━━━━━━━━━━━━━━━━━━━━━━━━━━━━\u001b[0m \u001b[32m40.3/40.3 kB\u001b[0m \u001b[31m660.4 kB/s\u001b[0m eta \u001b[36m0:00:00\u001b[0m\n",
            "\u001b[?25hCollecting sphinx-argparse (from indic-nlp-library)\n",
            "  Downloading sphinx_argparse-0.4.0-py3-none-any.whl (12 kB)\n",
            "Collecting sphinx-rtd-theme (from indic-nlp-library)\n",
            "  Downloading sphinx_rtd_theme-2.0.0-py2.py3-none-any.whl (2.8 MB)\n",
            "\u001b[2K     \u001b[90m━━━━━━━━━━━━━━━━━━━━━━━━━━━━━━━━━━━━━━━━\u001b[0m \u001b[32m2.8/2.8 MB\u001b[0m \u001b[31m11.8 MB/s\u001b[0m eta \u001b[36m0:00:00\u001b[0m\n",
            "\u001b[?25hCollecting morfessor (from indic-nlp-library)\n",
            "  Downloading Morfessor-2.0.6-py3-none-any.whl (35 kB)\n",
            "Requirement already satisfied: pandas in /usr/local/lib/python3.10/dist-packages (from indic-nlp-library) (1.5.3)\n",
            "Requirement already satisfied: numpy in /usr/local/lib/python3.10/dist-packages (from indic-nlp-library) (1.25.2)\n",
            "Requirement already satisfied: python-dateutil>=2.8.1 in /usr/local/lib/python3.10/dist-packages (from pandas->indic-nlp-library) (2.8.2)\n",
            "Requirement already satisfied: pytz>=2020.1 in /usr/local/lib/python3.10/dist-packages (from pandas->indic-nlp-library) (2023.4)\n",
            "Requirement already satisfied: sphinx>=1.2.0 in /usr/local/lib/python3.10/dist-packages (from sphinx-argparse->indic-nlp-library) (5.0.2)\n",
            "Requirement already satisfied: docutils<0.21 in /usr/local/lib/python3.10/dist-packages (from sphinx-rtd-theme->indic-nlp-library) (0.18.1)\n",
            "Collecting sphinxcontrib-jquery<5,>=4 (from sphinx-rtd-theme->indic-nlp-library)\n",
            "  Downloading sphinxcontrib_jquery-4.1-py2.py3-none-any.whl (121 kB)\n",
            "\u001b[2K     \u001b[90m━━━━━━━━━━━━━━━━━━━━━━━━━━━━━━━━━━━━━━━━\u001b[0m \u001b[32m121.1/121.1 kB\u001b[0m \u001b[31m9.5 MB/s\u001b[0m eta \u001b[36m0:00:00\u001b[0m\n",
            "\u001b[?25hRequirement already satisfied: six>=1.5 in /usr/local/lib/python3.10/dist-packages (from python-dateutil>=2.8.1->pandas->indic-nlp-library) (1.16.0)\n",
            "Requirement already satisfied: sphinxcontrib-applehelp in /usr/local/lib/python3.10/dist-packages (from sphinx>=1.2.0->sphinx-argparse->indic-nlp-library) (1.0.8)\n",
            "Requirement already satisfied: sphinxcontrib-devhelp in /usr/local/lib/python3.10/dist-packages (from sphinx>=1.2.0->sphinx-argparse->indic-nlp-library) (1.0.6)\n",
            "Requirement already satisfied: sphinxcontrib-jsmath in /usr/local/lib/python3.10/dist-packages (from sphinx>=1.2.0->sphinx-argparse->indic-nlp-library) (1.0.1)\n",
            "Requirement already satisfied: sphinxcontrib-htmlhelp>=2.0.0 in /usr/local/lib/python3.10/dist-packages (from sphinx>=1.2.0->sphinx-argparse->indic-nlp-library) (2.0.5)\n",
            "Requirement already satisfied: sphinxcontrib-serializinghtml>=1.1.5 in /usr/local/lib/python3.10/dist-packages (from sphinx>=1.2.0->sphinx-argparse->indic-nlp-library) (1.1.10)\n",
            "Requirement already satisfied: sphinxcontrib-qthelp in /usr/local/lib/python3.10/dist-packages (from sphinx>=1.2.0->sphinx-argparse->indic-nlp-library) (1.0.7)\n",
            "Requirement already satisfied: Jinja2>=2.3 in /usr/local/lib/python3.10/dist-packages (from sphinx>=1.2.0->sphinx-argparse->indic-nlp-library) (3.1.3)\n",
            "Requirement already satisfied: Pygments>=2.0 in /usr/local/lib/python3.10/dist-packages (from sphinx>=1.2.0->sphinx-argparse->indic-nlp-library) (2.16.1)\n",
            "Requirement already satisfied: snowballstemmer>=1.1 in /usr/local/lib/python3.10/dist-packages (from sphinx>=1.2.0->sphinx-argparse->indic-nlp-library) (2.2.0)\n",
            "Requirement already satisfied: babel>=1.3 in /usr/local/lib/python3.10/dist-packages (from sphinx>=1.2.0->sphinx-argparse->indic-nlp-library) (2.14.0)\n",
            "Requirement already satisfied: alabaster<0.8,>=0.7 in /usr/local/lib/python3.10/dist-packages (from sphinx>=1.2.0->sphinx-argparse->indic-nlp-library) (0.7.16)\n",
            "Requirement already satisfied: imagesize in /usr/local/lib/python3.10/dist-packages (from sphinx>=1.2.0->sphinx-argparse->indic-nlp-library) (1.4.1)\n",
            "Requirement already satisfied: requests>=2.5.0 in /usr/local/lib/python3.10/dist-packages (from sphinx>=1.2.0->sphinx-argparse->indic-nlp-library) (2.31.0)\n",
            "Requirement already satisfied: packaging in /usr/local/lib/python3.10/dist-packages (from sphinx>=1.2.0->sphinx-argparse->indic-nlp-library) (24.0)\n",
            "Requirement already satisfied: MarkupSafe>=2.0 in /usr/local/lib/python3.10/dist-packages (from Jinja2>=2.3->sphinx>=1.2.0->sphinx-argparse->indic-nlp-library) (2.1.5)\n",
            "Requirement already satisfied: charset-normalizer<4,>=2 in /usr/local/lib/python3.10/dist-packages (from requests>=2.5.0->sphinx>=1.2.0->sphinx-argparse->indic-nlp-library) (3.3.2)\n",
            "Requirement already satisfied: idna<4,>=2.5 in /usr/local/lib/python3.10/dist-packages (from requests>=2.5.0->sphinx>=1.2.0->sphinx-argparse->indic-nlp-library) (3.6)\n",
            "Requirement already satisfied: urllib3<3,>=1.21.1 in /usr/local/lib/python3.10/dist-packages (from requests>=2.5.0->sphinx>=1.2.0->sphinx-argparse->indic-nlp-library) (2.0.7)\n",
            "Requirement already satisfied: certifi>=2017.4.17 in /usr/local/lib/python3.10/dist-packages (from requests>=2.5.0->sphinx>=1.2.0->sphinx-argparse->indic-nlp-library) (2024.2.2)\n",
            "Installing collected packages: morfessor, sphinxcontrib-jquery, sphinx-argparse, sphinx-rtd-theme, indic-nlp-library\n",
            "Successfully installed indic-nlp-library-0.92 morfessor-2.0.6 sphinx-argparse-0.4.0 sphinx-rtd-theme-2.0.0 sphinxcontrib-jquery-4.1\n"
          ]
        }
      ],
      "source": [
        "pip install indic-nlp-library"
      ]
    },
    {
      "cell_type": "code",
      "execution_count": 12,
      "metadata": {
        "id": "3WYtU-4jThZm"
      },
      "outputs": [],
      "source": [
        "import sys\n",
        "from indicnlp import common\n",
        "\n",
        "# The path to the local git repo for Indic NLP library\n",
        "INDIC_NLP_LIB_HOME=r\"indic_nlp_library\"\n",
        "\n",
        "# The path to the local git repo for Indic NLP Resources\n",
        "INDIC_NLP_RESOURCES=r\"indic_nlp_resources\"\n",
        "\n",
        "# Add library to Python path\n",
        "sys.path.append(r'{}\\src'.format(INDIC_NLP_LIB_HOME))\n",
        "\n",
        "# Set environment variable for resources folder\n",
        "common.set_resources_path(INDIC_NLP_RESOURCES)\n"
      ]
    },
    {
      "cell_type": "code",
      "execution_count": 13,
      "metadata": {
        "colab": {
          "base_uri": "https://localhost:8080/"
        },
        "id": "vKAeRla3VBDa",
        "outputId": "df719ab9-19d5-457a-9e39-05edd1a38283"
      },
      "outputs": [
        {
          "name": "stdout",
          "output_type": "stream",
          "text": [
            "భారీ ఎత్తున మొండిబకాయిలు పెరిగిపోవడంతో ఐడిబిఐ వ్యవహారాలపై భారత రిజర్వు బ్యాంకు (ఆర్‌బిఐ) ఒక కన్నేసింది.\n",
            "ఐడిబిఐ బ్యాంకును ఆర్‌బిఐ వాచ్‌లి్‌స్టలో చేర్చినట్టుగా తెలిసింది.\n",
            "నికర మొండిపద్దుల మొత్తం 6 శాతం దాటడం, వరసగా రెండేళ్ల పాటు నష్టాలను  ప్రకటించడం, కాపిటల్‌ అడెక్వసీ నిర్దేశిత ప్రమాణాల కంటే తగ్గడం. . . ఈ సందర్భాల్లో బ్యాంకులను ఆర్‌బిఐ వాచ్‌ లిస్ట్‌లో చేరుస్తుంది.\n",
            "తమ బ్యాంకుకు సంబంధించి ఆర్‌బిఐ ప్రాంప్ట్‌ కరెక్టీవ్‌ యాక్షన్‌ (పిసిఎ) చేపట్టినట్టు ఐడిబిఐ వెల్లడించింది.\n",
            "గతంలో ఓవర్సీస్‌ బ్యాంక్‌, యునైటెడ్‌ బ్యాంక్‌కు సంబంధించి  కూడా ఆర్‌బిఐ పిసిఎ చేపట్టింది.\n",
            "పిసిఎ వల్ల బ్యాంకుపై ఆర్థికంగా భారం పడదనీ, దీనివల్ల అంతర్గత నియంత్రణలు మెరుగుపడటంతో పాటు, కార్యకలాపాలు మెరుగవుతాయని ఐడిబిఐ వివరించింది.\n",
            "ఆర్‌బిఐ ఆదేశాలకు అనుగుణంగా ఇప్పుడు మూలధనాన్ని పొదుపుగా వినియోగించడంపై  ఐడిబిఐ దృష్టి సారించాల్సి ఉంటుంది.\n",
            "ఇందులో భాగంగా పరపతిపై నియంత్రణలు విధించడం, నియామకాలను నిలిపేయడం, కొత్త పెట్టుబడి పథకాలను పక్కన బెట్టడంవంటి చర్యలు తీసుకోవాల్సి ఉంటుం ది.\n",
            "బ్యాంకు సరైన రీతిలో స్పందించని పక్షంలో మరో బలమైన బ్యాంకులో  విలీనానికి  సిద్ధం కావాల్సి ఉంటుంది.\n"
          ]
        }
      ],
      "source": [
        "from indicnlp.tokenize import sentence_tokenize\n",
        "\n",
        "indic_string = telugu_news_df[\"body\"][0]\n",
        "# Split the sentence, language code \"hi\" is passed for hingi\n",
        "sentences=sentence_tokenize.sentence_split(indic_string, lang='te')\n",
        "\n",
        "# print the sentences\n",
        "for t in sentences:\n",
        "    print(t)"
      ]
    },
    {
      "cell_type": "code",
      "execution_count": 14,
      "metadata": {
        "id": "SYDSR93HVBpI"
      },
      "outputs": [],
      "source": [
        "telugu_news_df[\"body_processed\"] = telugu_news_df[\"body\"].str.replace('\\u200c', '')\n",
        "telugu_news_df[\"body_processed\"] = telugu_news_df[\"body_processed\"].str.replace('\\n', '')\n",
        "telugu_news_df[\"body_processed\"] = telugu_news_df[\"body_processed\"].str.replace('\\t', '')\n",
        "telugu_news_df[\"body_processed\"] = telugu_news_df[\"body_processed\"].str.replace('\\xa0', '')"
      ]
    },
    {
      "cell_type": "code",
      "execution_count": 15,
      "metadata": {
        "id": "Gpn-jyRbVGDP"
      },
      "outputs": [],
      "source": [
        "PUNCT = string.punctuation\n",
        "\n",
        "def remove_punctuation(text):\n",
        "    return text.translate(str.maketrans('', '', PUNCT))"
      ]
    },
    {
      "cell_type": "code",
      "execution_count": 16,
      "metadata": {
        "colab": {
          "base_uri": "https://localhost:8080/",
          "height": 36
        },
        "id": "jI35nZCTVGY4",
        "outputId": "9d461b83-82ea-4cca-d4fb-ae3909179952"
      },
      "outputs": [
        {
          "data": {
            "application/vnd.google.colaboratory.intrinsic+json": {
              "type": "string"
            },
            "text/plain": [
              "' టెలికాం షేర్లలో అమ్మకాల ఒత్తిడి'"
            ]
          },
          "execution_count": 16,
          "metadata": {},
          "output_type": "execute_result"
        }
      ],
      "source": [
        "telugu_news_df[\"body_processed\"][6665]\n"
      ]
    },
    {
      "cell_type": "code",
      "execution_count": 17,
      "metadata": {
        "colab": {
          "base_uri": "https://localhost:8080/"
        },
        "id": "6DwerT3IVKgk",
        "outputId": "a3b40ec3-845d-4cc0-bcc8-d561a8879c86"
      },
      "outputs": [
        {
          "name": "stdout",
          "output_type": "stream",
          "text": [
            "273291\n"
          ]
        }
      ],
      "source": [
        "from indicnlp.tokenize import sentence_tokenize\n",
        "\n",
        "\n",
        "tot_telugu_text1 = \"\"\n",
        "\n",
        "for t in telugu_news_df[\"body_processed\"]:\n",
        "  tot_telugu_text1 += t\n",
        "\n",
        "# tot_sentances_telugu = []\n",
        "\n",
        "tot_sentences = sentence_tokenize.sentence_split(tot_telugu_text1, lang='te')\n",
        "print(len(tot_sentences))"
      ]
    },
    {
      "cell_type": "code",
      "execution_count": 18,
      "metadata": {
        "id": "mSwYZHWoVLE5"
      },
      "outputs": [],
      "source": [
        "telugu_news_df[\"body_processed\"] = telugu_news_df[\"body_processed\"].apply(lambda text: remove_punctuation(text))"
      ]
    },
    {
      "cell_type": "code",
      "execution_count": 19,
      "metadata": {
        "id": "wJC50KBNVPFd"
      },
      "outputs": [],
      "source": [
        "# telugu_news_df[\"body_processed\"][0]\n",
        "del telugu_news_df[\"body\"]"
      ]
    },
    {
      "cell_type": "code",
      "execution_count": 20,
      "metadata": {
        "colab": {
          "base_uri": "https://localhost:8080/"
        },
        "id": "p_3MMYNpVP5Z",
        "outputId": "bc00e5b2-fe49-4dde-908a-2af8a35e63dc"
      },
      "outputs": [
        {
          "name": "stdout",
          "output_type": "stream",
          "text": [
            "17313\n"
          ]
        }
      ],
      "source": [
        "tot_telugu_text = \"\"\n",
        "\n",
        "c = 1\n",
        "for t in telugu_news_df[\"body_processed\"]:\n",
        "  tot_telugu_text += t\n",
        "  c += 1\n",
        "\n",
        "print(c)"
      ]
    },
    {
      "cell_type": "code",
      "execution_count": 21,
      "metadata": {
        "colab": {
          "base_uri": "https://localhost:8080/"
        },
        "id": "XiXWd9JdVVv4",
        "outputId": "2df32c8a-2ed9-46ae-9c0d-152490a47ddc"
      },
      "outputs": [
        {
          "data": {
            "text/plain": [
              "23917934"
            ]
          },
          "execution_count": 21,
          "metadata": {},
          "output_type": "execute_result"
        }
      ],
      "source": [
        "len(tot_telugu_text)\n"
      ]
    },
    {
      "cell_type": "code",
      "execution_count": 22,
      "metadata": {
        "id": "XOl00hKJKHgy"
      },
      "outputs": [],
      "source": [
        "from indicnlp.tokenize import indic_tokenize\n",
        "\n",
        "vocab_dic  = {}\n",
        "tokenized_text = []\n",
        "heap_arr = []\n",
        "\n",
        "for t in indic_tokenize.trivial_tokenize(tot_telugu_text):\n",
        "    tokenized_text.append(t)\n",
        "    heap_arr.append(len(vocab_dic))\n",
        "\n",
        "    if t not in vocab_dic:\n",
        "      vocab_dic[t] = 1\n",
        "\n",
        "    else:\n",
        "      vocab_dic[t] += 1"
      ]
    },
    {
      "cell_type": "code",
      "execution_count": 23,
      "metadata": {
        "colab": {
          "base_uri": "https://localhost:8080/"
        },
        "id": "IcTAhFDYKIja",
        "outputId": "98985773-c13b-4d27-e1a3-cb18b3c5b0af"
      },
      "outputs": [
        {
          "data": {
            "text/plain": [
              "(328911, 2932015)"
            ]
          },
          "execution_count": 23,
          "metadata": {},
          "output_type": "execute_result"
        }
      ],
      "source": [
        "len(vocab_dic), len(tokenized_text)"
      ]
    },
    {
      "cell_type": "code",
      "execution_count": 24,
      "metadata": {
        "colab": {
          "base_uri": "https://localhost:8080/"
        },
        "id": "gSS_PXNEKOBn",
        "outputId": "73992937-fdc6-4677-bf5d-3b4d4b47b3b1"
      },
      "outputs": [
        {
          "data": {
            "text/plain": [
              "2932015"
            ]
          },
          "execution_count": 24,
          "metadata": {},
          "output_type": "execute_result"
        }
      ],
      "source": [
        "len(heap_arr)"
      ]
    },
    {
      "cell_type": "code",
      "execution_count": 25,
      "metadata": {
        "id": "w9zO4zDyKOpX"
      },
      "outputs": [],
      "source": [
        "from nltk.probability import FreqDist\n",
        "\n",
        "freq_dist = FreqDist(vocab_dic)"
      ]
    },
    {
      "cell_type": "code",
      "execution_count": 26,
      "metadata": {
        "id": "_H_B7XAwKRYf"
      },
      "outputs": [],
      "source": [
        "vocab_dic_sorted = {k: v for k, v in sorted(vocab_dic.items(), key=lambda item: item[1], reverse = True)}\n"
      ]
    },
    {
      "cell_type": "code",
      "execution_count": 27,
      "metadata": {
        "id": "x7frbivrKcg3"
      },
      "outputs": [],
      "source": [
        "top_k_words = []\n",
        "\n",
        "k = 50\n",
        "c = 0\n",
        "\n",
        "for key in vocab_dic_sorted.keys():\n",
        "\n",
        "  if c == k:\n",
        "    break\n",
        "\n",
        "  top_k_words.append([key, vocab_dic_sorted[key]])\n",
        "  c += 1"
      ]
    },
    {
      "cell_type": "code",
      "execution_count": 28,
      "metadata": {
        "colab": {
          "base_uri": "https://localhost:8080/",
          "height": 206
        },
        "id": "id5FRb14Kdlf",
        "outputId": "0eab031c-ed99-46ca-8529-460eb353149e"
      },
      "outputs": [
        {
          "data": {
            "application/vnd.google.colaboratory.intrinsic+json": {
              "summary": "{\n  \"name\": \"top_k_words_df\",\n  \"rows\": 50,\n  \"fields\": [\n    {\n      \"column\": \"word\",\n      \"properties\": {\n        \"dtype\": \"string\",\n        \"num_unique_values\": 50,\n        \"samples\": [\n          \"\\u0c1a\\u0c47\\u0c36\\u0c3e\\u0c30\\u0c41\",\n          \"\\u0c35\\u0c30\\u0c15\\u0c41\",\n          \"\\u0c2a\\u0c3e\\u0c1f\\u0c41\"\n        ],\n        \"semantic_type\": \"\",\n        \"description\": \"\"\n      }\n    },\n    {\n      \"column\": \"freq\",\n      \"properties\": {\n        \"dtype\": \"number\",\n        \"std\": 5594,\n        \"min\": 3013,\n        \"max\": 38682,\n        \"num_unique_values\": 50,\n        \"samples\": [\n          5694,\n          3411,\n          3807\n        ],\n        \"semantic_type\": \"\",\n        \"description\": \"\"\n      }\n    }\n  ]\n}",
              "type": "dataframe",
              "variable_name": "top_k_words_df"
            },
            "text/html": [
              "\n",
              "  <div id=\"df-f0d4efba-22b6-4e8d-94a1-70cf4fd18cf6\" class=\"colab-df-container\">\n",
              "    <div>\n",
              "<style scoped>\n",
              "    .dataframe tbody tr th:only-of-type {\n",
              "        vertical-align: middle;\n",
              "    }\n",
              "\n",
              "    .dataframe tbody tr th {\n",
              "        vertical-align: top;\n",
              "    }\n",
              "\n",
              "    .dataframe thead th {\n",
              "        text-align: right;\n",
              "    }\n",
              "</style>\n",
              "<table border=\"1\" class=\"dataframe\">\n",
              "  <thead>\n",
              "    <tr style=\"text-align: right;\">\n",
              "      <th></th>\n",
              "      <th>word</th>\n",
              "      <th>freq</th>\n",
              "    </tr>\n",
              "  </thead>\n",
              "  <tbody>\n",
              "    <tr>\n",
              "      <th>0</th>\n",
              "      <td>ఈ</td>\n",
              "      <td>38682</td>\n",
              "    </tr>\n",
              "    <tr>\n",
              "      <th>1</th>\n",
              "      <td>కూడా</td>\n",
              "      <td>16856</td>\n",
              "    </tr>\n",
              "    <tr>\n",
              "      <th>2</th>\n",
              "      <td>ఆ</td>\n",
              "      <td>15523</td>\n",
              "    </tr>\n",
              "    <tr>\n",
              "      <th>3</th>\n",
              "      <td>నుంచి</td>\n",
              "      <td>12650</td>\n",
              "    </tr>\n",
              "    <tr>\n",
              "      <th>4</th>\n",
              "      <td>ఆయన</td>\n",
              "      <td>9968</td>\n",
              "    </tr>\n",
              "  </tbody>\n",
              "</table>\n",
              "</div>\n",
              "    <div class=\"colab-df-buttons\">\n",
              "\n",
              "  <div class=\"colab-df-container\">\n",
              "    <button class=\"colab-df-convert\" onclick=\"convertToInteractive('df-f0d4efba-22b6-4e8d-94a1-70cf4fd18cf6')\"\n",
              "            title=\"Convert this dataframe to an interactive table.\"\n",
              "            style=\"display:none;\">\n",
              "\n",
              "  <svg xmlns=\"http://www.w3.org/2000/svg\" height=\"24px\" viewBox=\"0 -960 960 960\">\n",
              "    <path d=\"M120-120v-720h720v720H120Zm60-500h600v-160H180v160Zm220 220h160v-160H400v160Zm0 220h160v-160H400v160ZM180-400h160v-160H180v160Zm440 0h160v-160H620v160ZM180-180h160v-160H180v160Zm440 0h160v-160H620v160Z\"/>\n",
              "  </svg>\n",
              "    </button>\n",
              "\n",
              "  <style>\n",
              "    .colab-df-container {\n",
              "      display:flex;\n",
              "      gap: 12px;\n",
              "    }\n",
              "\n",
              "    .colab-df-convert {\n",
              "      background-color: #E8F0FE;\n",
              "      border: none;\n",
              "      border-radius: 50%;\n",
              "      cursor: pointer;\n",
              "      display: none;\n",
              "      fill: #1967D2;\n",
              "      height: 32px;\n",
              "      padding: 0 0 0 0;\n",
              "      width: 32px;\n",
              "    }\n",
              "\n",
              "    .colab-df-convert:hover {\n",
              "      background-color: #E2EBFA;\n",
              "      box-shadow: 0px 1px 2px rgba(60, 64, 67, 0.3), 0px 1px 3px 1px rgba(60, 64, 67, 0.15);\n",
              "      fill: #174EA6;\n",
              "    }\n",
              "\n",
              "    .colab-df-buttons div {\n",
              "      margin-bottom: 4px;\n",
              "    }\n",
              "\n",
              "    [theme=dark] .colab-df-convert {\n",
              "      background-color: #3B4455;\n",
              "      fill: #D2E3FC;\n",
              "    }\n",
              "\n",
              "    [theme=dark] .colab-df-convert:hover {\n",
              "      background-color: #434B5C;\n",
              "      box-shadow: 0px 1px 3px 1px rgba(0, 0, 0, 0.15);\n",
              "      filter: drop-shadow(0px 1px 2px rgba(0, 0, 0, 0.3));\n",
              "      fill: #FFFFFF;\n",
              "    }\n",
              "  </style>\n",
              "\n",
              "    <script>\n",
              "      const buttonEl =\n",
              "        document.querySelector('#df-f0d4efba-22b6-4e8d-94a1-70cf4fd18cf6 button.colab-df-convert');\n",
              "      buttonEl.style.display =\n",
              "        google.colab.kernel.accessAllowed ? 'block' : 'none';\n",
              "\n",
              "      async function convertToInteractive(key) {\n",
              "        const element = document.querySelector('#df-f0d4efba-22b6-4e8d-94a1-70cf4fd18cf6');\n",
              "        const dataTable =\n",
              "          await google.colab.kernel.invokeFunction('convertToInteractive',\n",
              "                                                    [key], {});\n",
              "        if (!dataTable) return;\n",
              "\n",
              "        const docLinkHtml = 'Like what you see? Visit the ' +\n",
              "          '<a target=\"_blank\" href=https://colab.research.google.com/notebooks/data_table.ipynb>data table notebook</a>'\n",
              "          + ' to learn more about interactive tables.';\n",
              "        element.innerHTML = '';\n",
              "        dataTable['output_type'] = 'display_data';\n",
              "        await google.colab.output.renderOutput(dataTable, element);\n",
              "        const docLink = document.createElement('div');\n",
              "        docLink.innerHTML = docLinkHtml;\n",
              "        element.appendChild(docLink);\n",
              "      }\n",
              "    </script>\n",
              "  </div>\n",
              "\n",
              "\n",
              "<div id=\"df-669520b2-349f-474e-aef1-b9f407462bf6\">\n",
              "  <button class=\"colab-df-quickchart\" onclick=\"quickchart('df-669520b2-349f-474e-aef1-b9f407462bf6')\"\n",
              "            title=\"Suggest charts\"\n",
              "            style=\"display:none;\">\n",
              "\n",
              "<svg xmlns=\"http://www.w3.org/2000/svg\" height=\"24px\"viewBox=\"0 0 24 24\"\n",
              "     width=\"24px\">\n",
              "    <g>\n",
              "        <path d=\"M19 3H5c-1.1 0-2 .9-2 2v14c0 1.1.9 2 2 2h14c1.1 0 2-.9 2-2V5c0-1.1-.9-2-2-2zM9 17H7v-7h2v7zm4 0h-2V7h2v10zm4 0h-2v-4h2v4z\"/>\n",
              "    </g>\n",
              "</svg>\n",
              "  </button>\n",
              "\n",
              "<style>\n",
              "  .colab-df-quickchart {\n",
              "      --bg-color: #E8F0FE;\n",
              "      --fill-color: #1967D2;\n",
              "      --hover-bg-color: #E2EBFA;\n",
              "      --hover-fill-color: #174EA6;\n",
              "      --disabled-fill-color: #AAA;\n",
              "      --disabled-bg-color: #DDD;\n",
              "  }\n",
              "\n",
              "  [theme=dark] .colab-df-quickchart {\n",
              "      --bg-color: #3B4455;\n",
              "      --fill-color: #D2E3FC;\n",
              "      --hover-bg-color: #434B5C;\n",
              "      --hover-fill-color: #FFFFFF;\n",
              "      --disabled-bg-color: #3B4455;\n",
              "      --disabled-fill-color: #666;\n",
              "  }\n",
              "\n",
              "  .colab-df-quickchart {\n",
              "    background-color: var(--bg-color);\n",
              "    border: none;\n",
              "    border-radius: 50%;\n",
              "    cursor: pointer;\n",
              "    display: none;\n",
              "    fill: var(--fill-color);\n",
              "    height: 32px;\n",
              "    padding: 0;\n",
              "    width: 32px;\n",
              "  }\n",
              "\n",
              "  .colab-df-quickchart:hover {\n",
              "    background-color: var(--hover-bg-color);\n",
              "    box-shadow: 0 1px 2px rgba(60, 64, 67, 0.3), 0 1px 3px 1px rgba(60, 64, 67, 0.15);\n",
              "    fill: var(--button-hover-fill-color);\n",
              "  }\n",
              "\n",
              "  .colab-df-quickchart-complete:disabled,\n",
              "  .colab-df-quickchart-complete:disabled:hover {\n",
              "    background-color: var(--disabled-bg-color);\n",
              "    fill: var(--disabled-fill-color);\n",
              "    box-shadow: none;\n",
              "  }\n",
              "\n",
              "  .colab-df-spinner {\n",
              "    border: 2px solid var(--fill-color);\n",
              "    border-color: transparent;\n",
              "    border-bottom-color: var(--fill-color);\n",
              "    animation:\n",
              "      spin 1s steps(1) infinite;\n",
              "  }\n",
              "\n",
              "  @keyframes spin {\n",
              "    0% {\n",
              "      border-color: transparent;\n",
              "      border-bottom-color: var(--fill-color);\n",
              "      border-left-color: var(--fill-color);\n",
              "    }\n",
              "    20% {\n",
              "      border-color: transparent;\n",
              "      border-left-color: var(--fill-color);\n",
              "      border-top-color: var(--fill-color);\n",
              "    }\n",
              "    30% {\n",
              "      border-color: transparent;\n",
              "      border-left-color: var(--fill-color);\n",
              "      border-top-color: var(--fill-color);\n",
              "      border-right-color: var(--fill-color);\n",
              "    }\n",
              "    40% {\n",
              "      border-color: transparent;\n",
              "      border-right-color: var(--fill-color);\n",
              "      border-top-color: var(--fill-color);\n",
              "    }\n",
              "    60% {\n",
              "      border-color: transparent;\n",
              "      border-right-color: var(--fill-color);\n",
              "    }\n",
              "    80% {\n",
              "      border-color: transparent;\n",
              "      border-right-color: var(--fill-color);\n",
              "      border-bottom-color: var(--fill-color);\n",
              "    }\n",
              "    90% {\n",
              "      border-color: transparent;\n",
              "      border-bottom-color: var(--fill-color);\n",
              "    }\n",
              "  }\n",
              "</style>\n",
              "\n",
              "  <script>\n",
              "    async function quickchart(key) {\n",
              "      const quickchartButtonEl =\n",
              "        document.querySelector('#' + key + ' button');\n",
              "      quickchartButtonEl.disabled = true;  // To prevent multiple clicks.\n",
              "      quickchartButtonEl.classList.add('colab-df-spinner');\n",
              "      try {\n",
              "        const charts = await google.colab.kernel.invokeFunction(\n",
              "            'suggestCharts', [key], {});\n",
              "      } catch (error) {\n",
              "        console.error('Error during call to suggestCharts:', error);\n",
              "      }\n",
              "      quickchartButtonEl.classList.remove('colab-df-spinner');\n",
              "      quickchartButtonEl.classList.add('colab-df-quickchart-complete');\n",
              "    }\n",
              "    (() => {\n",
              "      let quickchartButtonEl =\n",
              "        document.querySelector('#df-669520b2-349f-474e-aef1-b9f407462bf6 button');\n",
              "      quickchartButtonEl.style.display =\n",
              "        google.colab.kernel.accessAllowed ? 'block' : 'none';\n",
              "    })();\n",
              "  </script>\n",
              "</div>\n",
              "    </div>\n",
              "  </div>\n"
            ],
            "text/plain": [
              "    word   freq\n",
              "0      ఈ  38682\n",
              "1   కూడా  16856\n",
              "2      ఆ  15523\n",
              "3  నుంచి  12650\n",
              "4    ఆయన   9968"
            ]
          },
          "execution_count": 28,
          "metadata": {},
          "output_type": "execute_result"
        }
      ],
      "source": [
        "top_k_words_df = pd.DataFrame(top_k_words)\n",
        "top_k_words_df.columns = [\"word\", \"freq\"]\n",
        "top_k_words_df.head()"
      ]
    },
    {
      "cell_type": "code",
      "execution_count": 29,
      "metadata": {
        "colab": {
          "base_uri": "https://localhost:8080/",
          "height": 502
        },
        "id": "eOU9F8ecKgBW",
        "outputId": "fbd96ebb-dd7d-4503-c20d-bb490b562aef"
      },
      "outputs": [
        {
          "data": {
            "image/png": "[encoded data removed]",
            "text/plain": [
              "<Figure size 1500x600 with 1 Axes>"
            ]
          },
          "metadata": {},
          "output_type": "display_data"
        }
      ],
      "source": [
        "plt.figure(figsize = (15,6))\n",
        "plt.plot(top_k_words_df[\"freq\"])\n",
        "plt.title(\"Top 50 words in the telugu corpus\")\n",
        "plt.xlabel(\"No.of words\")\n",
        "plt.ylabel(\"Frequency of the word\")\n",
        "# plt.xlim([0,k])\n",
        "plt.show()"
      ]
    },
    {
      "cell_type": "code",
      "execution_count": 30,
      "metadata": {
        "id": "U4mBSPRkKj3u"
      },
      "outputs": [],
      "source": [
        "telugu_words = list(vocab_dic_sorted.keys())"
      ]
    },
    {
      "cell_type": "code",
      "execution_count": 31,
      "metadata": {
        "id": "MvhQtu60KmwS"
      },
      "outputs": [],
      "source": [
        "tot_sentences_proc = []\n",
        "\n",
        "for sen in tot_sentences:\n",
        "  tot_sentences_proc.append(remove_punctuation(sen))"
      ]
    },
    {
      "cell_type": "code",
      "execution_count": 32,
      "metadata": {
        "colab": {
          "base_uri": "https://localhost:8080/",
          "height": 36
        },
        "id": "3_xoyn43KpAA",
        "outputId": "c08b4239-6774-4caf-ba84-fef558c33f6c"
      },
      "outputs": [
        {
          "data": {
            "application/vnd.google.colaboratory.intrinsic+json": {
              "type": "string"
            },
            "text/plain": [
              "'భారీ ఎత్తున మొండిబకాయిలు పెరిగిపోవడంతో ఐడిబిఐ వ్యవహారాలపై భారత రిజర్వు బ్యాంకు ఆర్బిఐ ఒక కన్నేసింది'"
            ]
          },
          "execution_count": 32,
          "metadata": {},
          "output_type": "execute_result"
        }
      ],
      "source": [
        "tot_sentences_proc[0]"
      ]
    },
    {
      "cell_type": "markdown",
      "metadata": {
        "id": "MhXPy1LEKwUM"
      },
      "source": [
        "N-Gram analysis of the entire corpus\n"
      ]
    },
    {
      "cell_type": "code",
      "execution_count": 33,
      "metadata": {
        "id": "wCYadw-VKrK-"
      },
      "outputs": [],
      "source": [
        "from nltk.util import ngrams\n",
        "\n",
        "bigrams_telugu_vocab = {}\n",
        "\n",
        "for sen in tot_sentences_proc:\n",
        "\n",
        "  tokens = indic_tokenize.trivial_tokenize(sen)\n",
        "\n",
        "  bigram = list(ngrams(tokens, 2))\n",
        "\n",
        "  for big in bigram:\n",
        "    if tuple(big) not in bigrams_telugu_vocab:\n",
        "      bigrams_telugu_vocab[tuple(big)] = 1\n",
        "\n",
        "    else:\n",
        "      bigrams_telugu_vocab[tuple(big)] += 1"
      ]
    },
    {
      "cell_type": "code",
      "execution_count": 34,
      "metadata": {
        "id": "x62TE8E2K1O7"
      },
      "outputs": [],
      "source": [
        "bigrams_telugu_vocab = {k: v for k, v in sorted(bigrams_telugu_vocab.items(), key=lambda item: item[1], reverse = True)}"
      ]
    },
    {
      "cell_type": "code",
      "execution_count": 35,
      "metadata": {
        "colab": {
          "base_uri": "https://localhost:8080/"
        },
        "id": "NuyTtUvZK32z",
        "outputId": "e68f8f8b-7cab-466d-e48c-73602536aeae"
      },
      "outputs": [
        {
          "name": "stdout",
          "output_type": "stream",
          "text": [
            "Total no.of unique bi-grams :-  1609783\n"
          ]
        }
      ],
      "source": [
        "print(\"Total no.of unique bi-grams :- \", len(bigrams_telugu_vocab))\n"
      ]
    },
    {
      "cell_type": "code",
      "execution_count": 36,
      "metadata": {
        "colab": {
          "base_uri": "https://localhost:8080/"
        },
        "id": "cpQYUHbFK6nW",
        "outputId": "36f7ad03-4189-4e01-90e5-719646f98472"
      },
      "outputs": [
        {
          "name": "stdout",
          "output_type": "stream",
          "text": [
            "Top 30 most-occuring bi-grams in the corpus are\n",
            "\n",
            "('ఈ', 'సినిమా')  ->  2016\n",
            "('ఆ', 'తర్వాత')  ->  1275\n",
            "('ఈ', 'ఏడాది')  ->  995\n",
            "('కోట్ల', 'రూపాయల')  ->  976\n",
            "('ఈ', 'సందర్భంగా')  ->  963\n",
            "('సంగతి', 'తెలిసిందే')  ->  898\n",
            "('అయితే', 'ఈ')  ->  824\n",
            "('విషయం', 'తెలిసిందే')  ->  808\n",
            "('ఈ', 'నేపథ్యంలో')  ->  800\n",
            "('ఈ', 'సినిమాలో')  ->  794\n",
            "('ఈ', 'నెల')  ->  788\n",
            "('నోట్ల', 'రద్దు')  ->  767\n",
            "('వ్యక్తం', 'చేశారు')  ->  720\n",
            "('గత', 'ఏడాది')  ->  670\n",
            "('నరేంద్ర', 'మోదీ')  ->  659\n",
            "('ప్రధాని', 'మోదీ')  ->  640\n",
            "('సోషల్', 'మీడియాలో')  ->  630\n",
            "('ఈ', 'చిత్రం')  ->  629\n",
            "('ఆయన', 'చెప్పారు')  ->  556\n",
            "('పెద్ద', 'నోట్ల')  ->  542\n",
            "('కేంద్ర', 'ప్రభుత్వం')  ->  534\n",
            "('ఆ', 'సినిమా')  ->  531\n",
            "('అవకాశం', 'ఉంది')  ->  518\n",
            "('ఈ', 'మేరకు')  ->  502\n",
            "('స్పష్టం', 'చేశారు')  ->  490\n",
            "('ఇప్పటి', 'వరకు')  ->  466\n",
            "('ఈ', 'విషయాన్ని')  ->  461\n",
            "('ఆ', 'పార్టీ')  ->  451\n",
            "('చాలా', 'మంది')  ->  450\n",
            "('కోట్ల', 'రూపాయలు')  ->  441\n"
          ]
        }
      ],
      "source": [
        "k = 30\n",
        "print(\"Top\" ,k ,\"most-occuring bi-grams in the corpus are\\n\")\n",
        "c = 0\n",
        "for key in bigrams_telugu_vocab:\n",
        "  if c == k:\n",
        "    break\n",
        "  print(key , \" -> \", bigrams_telugu_vocab[key])\n",
        "  c += 1"
      ]
    },
    {
      "cell_type": "code",
      "execution_count": 37,
      "metadata": {
        "id": "iUuOO4GNWLrf"
      },
      "outputs": [],
      "source": [
        "trigrams_telugu_vocab = {}\n",
        "\n",
        "for sen in tot_sentences_proc:\n",
        "  tokens = indic_tokenize.trivial_tokenize(sen)\n",
        "  trigram = list(ngrams(tokens, 3))\n",
        "\n",
        "  for trig in trigram:\n",
        "    if tuple(trig) not in trigrams_telugu_vocab:\n",
        "      trigrams_telugu_vocab[tuple(trig)] = 1\n",
        "\n",
        "    else:\n",
        "      trigrams_telugu_vocab[tuple(trig)] += 1\n",
        "\n",
        "trigrams_telugu_vocab = {k: v for k, v in sorted(trigrams_telugu_vocab.items(), key=lambda item: item[1], reverse = True)}"
      ]
    },
    {
      "cell_type": "code",
      "execution_count": 38,
      "metadata": {
        "colab": {
          "base_uri": "https://localhost:8080/"
        },
        "id": "4A6RW1vwLFuy",
        "outputId": "aa956232-ff02-4cdd-f632-3c60970ca618"
      },
      "outputs": [
        {
          "name": "stdout",
          "output_type": "stream",
          "text": [
            "Top 30 most-occuring tri-grams in the corpus are\n",
            "\n",
            "('పెద్ద', 'నోట్ల', 'రద్దు')  ->  427\n",
            "('హైదరాబాద్', 'ఆంధ్రజ్యోతి', 'బిజినెస్')  ->  240\n",
            "('ప్రధాని', 'నరేంద్ర', 'మోదీ')  ->  219\n",
            "('కోట్ల', 'రూపాయల', 'నుంచి')  ->  165\n",
            "('మంత్రి', 'అరుణ్', 'జైట్లీ')  ->  156\n",
            "('ప్రధాన', 'మంత్రి', 'నరేంద్ర')  ->  152\n",
            "('ఆర్థిక', 'మంత్రి', 'అరుణ్')  ->  136\n",
            "('సమయానికి', 'క్లోజ్', 'చేసుకోవాలి')  ->  124\n",
            "('మంత్రి', 'నరేంద్ర', 'మోదీ')  ->  118\n",
            "('ఈ', 'సినిమా', 'షూటింగ్')  ->  115\n",
            "('కాంగ్రెస్', 'ఉపాధ్యక్షుడు', 'రాహుల్')  ->  113\n",
            "('అమెరికా', 'అధ్యక్షుడు', 'డొనాల్డ్')  ->  108\n",
            "('అధ్యక్షుడు', 'డొనాల్డ్', 'ట్రంప్')  ->  107\n",
            "('ఈ', 'సినిమా', 'కోసం')  ->  106\n",
            "('ఉపాధ్యక్షుడు', 'రాహుల్', 'గాంధీ')  ->  106\n",
            "('చేసిన', 'సంగతి', 'తెలిసిందే')  ->  105\n",
            "('కేంద్ర', 'ఆర్థిక', 'మంత్రి')  ->  99\n",
            "('ఈ', 'సందర్భంగా', 'ఆయన')  ->  98\n",
            "('భారతీయ', 'జనతా', 'పార్టీ')  ->  96\n",
            "('ఆగ్రహం', 'వ్యక్తం', 'చేశారు')  ->  94\n",
            "('ప్రధాన', 'మద్దతు', 'స్థాయి')  ->  93\n",
            "('నోట్ల', 'రద్దు', 'వల్ల')  ->  89\n",
            "('ఆవేదన', 'వ్యక్తం', 'చేశారు')  ->  86\n",
            "('కాంగ్రెస్', 'సీనియర్', 'నేత')  ->  84\n",
            "('నోట్ల', 'రద్దు', 'తర్వాత')  ->  83\n",
            "('బ్యాంక్', 'ఆఫ్', 'ఇండియా')  ->  81\n",
            "('లాంగ్', 'పొజిషన్లు', 'తీసుకుని')  ->  80\n",
            "('ట్రేడింగ్కు', 'ప్రారంభ', 'స్థాయి')  ->  77\n",
            "('ప్రారంభ', 'స్థాయి', 'కీలకం')  ->  77\n",
            "('అంతకన్నా', 'దిగువన', 'మాత్రమే')  ->  77\n"
          ]
        }
      ],
      "source": [
        "k = 30\n",
        "print(\"Top\" ,k ,\"most-occuring tri-grams in the corpus are\\n\")\n",
        "c = 0\n",
        "for key in trigrams_telugu_vocab:\n",
        "  if c == k:\n",
        "    break\n",
        "  print(key , \" -> \", trigrams_telugu_vocab[key])\n",
        "  c += 1"
      ]
    },
    {
      "cell_type": "code",
      "execution_count": 39,
      "metadata": {
        "colab": {
          "base_uri": "https://localhost:8080/"
        },
        "id": "uPHySgFALLSm",
        "outputId": "c563d104-d9d6-4a53-b368-f370ec6c801a"
      },
      "outputs": [
        {
          "name": "stdout",
          "output_type": "stream",
          "text": [
            "Total no.of unique tri-grams :-  1998929\n"
          ]
        }
      ],
      "source": [
        "print(\"Total no.of unique tri-grams :- \", len(trigrams_telugu_vocab))"
      ]
    },
    {
      "cell_type": "code",
      "execution_count": 40,
      "metadata": {
        "id": "bADeL2gSLTRa"
      },
      "outputs": [],
      "source": [
        "four_grams_telugu_vocab = {}\n",
        "\n",
        "for sen in tot_sentences_proc:\n",
        "  tokens = indic_tokenize.trivial_tokenize(sen)\n",
        "  fourgram = list(ngrams(tokens, 4))\n",
        "\n",
        "  for fourg in fourgram:\n",
        "    if tuple(fourg) not in four_grams_telugu_vocab:\n",
        "      four_grams_telugu_vocab[tuple(fourg)] = 1\n",
        "\n",
        "    else:\n",
        "      four_grams_telugu_vocab[tuple(fourg)] += 1\n",
        "\n",
        "four_grams_telugu_vocab = {k: v for k, v in sorted(four_grams_telugu_vocab.items(), key=lambda item: item[1], reverse = True)}"
      ]
    },
    {
      "cell_type": "code",
      "execution_count": 41,
      "metadata": {
        "colab": {
          "base_uri": "https://localhost:8080/"
        },
        "id": "wMKLo9btLXlN",
        "outputId": "322fa1a6-7e50-44dd-854f-508adbc3a21c"
      },
      "outputs": [
        {
          "name": "stdout",
          "output_type": "stream",
          "text": [
            "Top 30 most-occuring 4-grams in the corpus are\n",
            "\n",
            "('ఆర్థిక', 'మంత్రి', 'అరుణ్', 'జైట్లీ')  ->  119\n",
            "('ప్రధాన', 'మంత్రి', 'నరేంద్ర', 'మోదీ')  ->  117\n",
            "('కాంగ్రెస్', 'ఉపాధ్యక్షుడు', 'రాహుల్', 'గాంధీ')  ->  89\n",
            "('అమెరికా', 'అధ్యక్షుడు', 'డొనాల్డ్', 'ట్రంప్')  ->  87\n",
            "('ట్రేడింగ్కు', 'ప్రారంభ', 'స్థాయి', 'కీలకం')  ->  77\n",
            "('అంతకన్నా', 'దిగువన', 'మాత్రమే', 'షార్ట్')  ->  77\n",
            "('దిగువన', 'మాత్రమే', 'షార్ట్', 'పొజిషన్లు')  ->  77\n",
            "('మాత్రమే', 'షార్ట్', 'పొజిషన్లు', 'శ్రేయస్కరం')  ->  77\n",
            "('ఇంట్రాడే', 'ట్రేడింగ్కు', 'ప్రారంభ', 'స్థాయి')  ->  75\n",
            "('ట్రేడింగ్', 'వ్యూహం', 'నిఫ్టీ', 'ఫ్యూచర్స్')  ->  70\n",
            "('కేంద్ర', 'ఆర్థిక', 'మంత్రి', 'అరుణ్')  ->  69\n",
            "('వాస్తవిక', 'కదలికల', 'ఆధారంగా', 'నిర్ణయాలు')  ->  66\n",
            "('కదలికల', 'ఆధారంగా', 'నిర్ణయాలు', 'తీసుకోవాలి')  ->  66\n",
            "('మార్కెట్', 'వాస్తవిక', 'కదలికల', 'ఆధారంగా')  ->  65\n",
            "('అంశాల', 'ఆధారంగా', 'ఇచ్చిన', 'సూచన')  ->  63\n",
            "('ఇది', 'పూర్తిగా', 'ఆస్ర్టోటెక్నికల్', 'అంశాల')  ->  62\n",
            "('పూర్తిగా', 'ఆస్ర్టోటెక్నికల్', 'అంశాల', 'ఆధారంగా')  ->  62\n",
            "('ఆస్ర్టోటెక్నికల్', 'అంశాల', 'ఆధారంగా', 'ఇచ్చిన')  ->  61\n",
            "('సమయానికి', 'ప్రారంభ', 'స్థాయిసగటు', 'ఎటిపి')  ->  55\n",
            "('ప్రారంభ', 'స్థాయిసగటు', 'ఎటిపి', 'కన్నా')  ->  55\n",
            "('ఈ', 'సందర్భంగా', 'ఆయన', 'మాట్లాడుతూ')  ->  50\n",
            "('కోట్ల', 'రూపాయల', 'నికర', 'లాభాన్ని')  ->  49\n",
            "('పెద్ద', 'నోట్ల', 'రద్దు', 'తర్వాత')  ->  49\n",
            "('పెద్ద', 'నోట్ల', 'రద్దు', 'వల్ల')  ->  45\n",
            "('నేనే', 'రాజు', 'నేనే', 'మంత్రి')  ->  45\n",
            "('హోం', 'మంత్రి', 'రాజ్నాథ్', 'సింగ్')  ->  38\n",
            "('‘మ్యాన్', 'ఆఫ్', 'ద', 'మ్యాచ్’')  ->  37\n",
            "('మాజీ', 'ప్రధాని', 'మన్మోహన్', 'సింగ్')  ->  36\n",
            "('రాశుల', 'వారు', 'అప్రమత్తంగా', 'ఉండాలి')  ->  36\n",
            "('కోట్ల', 'రూపాయల', 'విలువ', 'గల')  ->  35\n"
          ]
        }
      ],
      "source": [
        "k = 30\n",
        "print(\"Top\" ,k ,\"most-occuring 4-grams in the corpus are\\n\")\n",
        "c = 0\n",
        "for key in four_grams_telugu_vocab:\n",
        "  if c == k:\n",
        "    break\n",
        "  print(key , \" -> \", four_grams_telugu_vocab[key])\n",
        "  c += 1"
      ]
    },
    {
      "cell_type": "code",
      "execution_count": 42,
      "metadata": {
        "colab": {
          "base_uri": "https://localhost:8080/"
        },
        "id": "Fk9k1M7pLapT",
        "outputId": "cb4337dc-e7ea-461e-b119-4a97afdbe145"
      },
      "outputs": [
        {
          "name": "stdout",
          "output_type": "stream",
          "text": [
            "Total no.of unique 4-grams :-  1882201\n"
          ]
        }
      ],
      "source": [
        "print(\"Total no.of unique 4-grams :- \", len(four_grams_telugu_vocab))"
      ]
    },
    {
      "cell_type": "code",
      "execution_count": 43,
      "metadata": {
        "id": "fYtik8uaLdXS"
      },
      "outputs": [],
      "source": [
        "five_grams_telugu_vocab = {}\n",
        "\n",
        "for sen in tot_sentences_proc:\n",
        "  tokens = indic_tokenize.trivial_tokenize(sen)\n",
        "  fivegram = list(ngrams(tokens, 5))\n",
        "\n",
        "  for fiveg in fivegram:\n",
        "    if tuple(fiveg) not in five_grams_telugu_vocab:\n",
        "      five_grams_telugu_vocab[tuple(fiveg)] = 1\n",
        "\n",
        "    else:\n",
        "      five_grams_telugu_vocab[tuple(fiveg)] += 1\n",
        "\n",
        "five_grams_telugu_vocab = {k: v for k, v in sorted(five_grams_telugu_vocab.items(), key=lambda item: item[1], reverse = True)}"
      ]
    },
    {
      "cell_type": "code",
      "execution_count": 44,
      "metadata": {
        "colab": {
          "base_uri": "https://localhost:8080/"
        },
        "id": "2BJQ-TmgLhHS",
        "outputId": "2041741d-27b8-457d-b1e2-1be20ad1969e"
      },
      "outputs": [
        {
          "name": "stdout",
          "output_type": "stream",
          "text": [
            "Top 30 most-occuring 5-grams in the corpus are\n",
            "\n",
            "('అంతకన్నా', 'దిగువన', 'మాత్రమే', 'షార్ట్', 'పొజిషన్లు')  ->  77\n",
            "('దిగువన', 'మాత్రమే', 'షార్ట్', 'పొజిషన్లు', 'శ్రేయస్కరం')  ->  77\n",
            "('ఇంట్రాడే', 'ట్రేడింగ్కు', 'ప్రారంభ', 'స్థాయి', 'కీలకం')  ->  75\n",
            "('వాస్తవిక', 'కదలికల', 'ఆధారంగా', 'నిర్ణయాలు', 'తీసుకోవాలి')  ->  66\n",
            "('మార్కెట్', 'వాస్తవిక', 'కదలికల', 'ఆధారంగా', 'నిర్ణయాలు')  ->  65\n",
            "('ఇది', 'పూర్తిగా', 'ఆస్ర్టోటెక్నికల్', 'అంశాల', 'ఆధారంగా')  ->  62\n",
            "('పూర్తిగా', 'ఆస్ర్టోటెక్నికల్', 'అంశాల', 'ఆధారంగా', 'ఇచ్చిన')  ->  61\n",
            "('ఆస్ర్టోటెక్నికల్', 'అంశాల', 'ఆధారంగా', 'ఇచ్చిన', 'సూచన')  ->  60\n",
            "('కేంద్ర', 'ఆర్థిక', 'మంత్రి', 'అరుణ్', 'జైట్లీ')  ->  57\n",
            "('సమయానికి', 'ప్రారంభ', 'స్థాయిసగటు', 'ఎటిపి', 'కన్నా')  ->  54\n",
            "('ట్రేడింగ్', 'వ్యూహం', 'నిఫ్టీ', 'ఫ్యూచర్స్', '930')  ->  33\n",
            "('ప్రారంభ', 'స్థాయిసగటు', 'ఎటిపి', 'కన్నా', 'పైన')  ->  33\n",
            "('స్థాయిసగటు', 'ఎటిపి', 'కన్నా', 'పైన', 'ట్రేడవుతుంటే')  ->  33\n",
            "('ఎటిపి', 'కన్నా', 'పైన', 'ట్రేడవుతుంటే', 'తగు')  ->  33\n",
            "('ట్రేడవుతుంటే', 'తగు', 'స్టాప్లా్సతో', 'లాంగ్', 'పొజిషన్లు')  ->  31\n",
            "('తగు', 'స్టాప్లా్సతో', 'లాంగ్', 'పొజిషన్లు', 'తీసుకుని')  ->  31\n",
            "('కేంద్ర', 'హోం', 'మంత్రి', 'రాజ్నాథ్', 'సింగ్')  ->  31\n",
            "('దిగువకు', 'వస్తే', 'షార్ట్', 'పొజిషన్లు', 'తీసుకుని')  ->  28\n",
            "('కదలికల', 'ఆధారంగా', 'నిర్ణయాలు', 'తీసుకోవాలి', 'డా')  ->  28\n",
            "('పైన', 'ట్రేడవుతుంటే', 'తగు', 'స్టాప్లా్సతో', 'లాంగ్')  ->  27\n",
            "('ఆధారంగా', 'నిర్ణయాలు', 'తీసుకోవాలి', 'డా', 'భువనగిరి')  ->  27\n",
            "('వ్యూహం', 'నిఫ్టీ', 'ఫ్యూచర్స్', '930', 'సమయానికి')  ->  27\n",
            "('నిఫ్టీ', 'ఫ్యూచర్స్', '930', 'సమయానికి', 'ప్రారంభ')  ->  27\n",
            "('ఫ్యూచర్స్', '930', 'సమయానికి', 'ప్రారంభ', 'స్థాయిసగటు')  ->  27\n",
            "('తగు', 'స్టాప్లా్సతో', 'షార్ట్', 'పొజిషన్లు', 'తీసుకుని')  ->  27\n",
            "('గురించి', 'ఈ', 'విషయాలు', 'మీకు', 'తెలుసా')  ->  26\n",
            "('గమనిక', 'ఇది', 'పూర్తిగా', 'ఆస్ర్టోటెక్నికల్', 'అంశాల')  ->  25\n",
            "('అమెరికా', 'ఆహార', 'ఔషధ', 'నియంత్రణ', 'మండలి')  ->  24\n",
            "('930', 'సమయానికి', 'ప్రారంభ', 'స్థాయిసగటు', 'ఎటిపి')  ->  24\n",
            "('పైకి', 'వస్తే', 'లాంగ్', 'పొజిషన్లు', 'తీసుకుని')  ->  24\n"
          ]
        }
      ],
      "source": [
        "k = 30\n",
        "print(\"Top\" ,k ,\"most-occuring 5-grams in the corpus are\\n\")\n",
        "c = 0\n",
        "for key in five_grams_telugu_vocab:\n",
        "  if c == k:\n",
        "    break\n",
        "  print(key , \" -> \", five_grams_telugu_vocab[key])\n",
        "  c += 1"
      ]
    },
    {
      "cell_type": "code",
      "execution_count": 45,
      "metadata": {
        "colab": {
          "base_uri": "https://localhost:8080/"
        },
        "id": "crXgzeW1LkZe",
        "outputId": "00da4f40-8305-4fc8-c0ad-f6d91642d8af"
      },
      "outputs": [
        {
          "name": "stdout",
          "output_type": "stream",
          "text": [
            "Total no.of unique 5-grams :-  1677911\n"
          ]
        }
      ],
      "source": [
        "print(\"Total no.of unique 5-grams :- \", len(five_grams_telugu_vocab))\n"
      ]
    },
    {
      "cell_type": "code",
      "execution_count": 46,
      "metadata": {
        "colab": {
          "base_uri": "https://localhost:8080/"
        },
        "id": "DxDmqkvcLnKO",
        "outputId": "922a1ada-2cf3-49fd-86e2-93cdb9c31893"
      },
      "outputs": [
        {
          "data": {
            "text/plain": [
              "[328911, 1609783, 1998929, 1882201, 1677911]"
            ]
          },
          "execution_count": 46,
          "metadata": {},
          "output_type": "execute_result"
        }
      ],
      "source": [
        "ngrams_count = []\n",
        "\n",
        "ngrams_count.append(len(vocab_dic_sorted))\n",
        "ngrams_count.append(len(bigrams_telugu_vocab))\n",
        "ngrams_count.append(len(trigrams_telugu_vocab))\n",
        "ngrams_count.append(len(four_grams_telugu_vocab))\n",
        "ngrams_count.append(len(five_grams_telugu_vocab))\n",
        "\n",
        "ngrams_count"
      ]
    },
    {
      "cell_type": "code",
      "execution_count": 47,
      "metadata": {
        "colab": {
          "base_uri": "https://localhost:8080/",
          "height": 497
        },
        "id": "mjzH9-j2Ls5L",
        "outputId": "c6932e27-7326-4fd6-f017-c9342101777b"
      },
      "outputs": [
        {
          "data": {
            "text/plain": [
              "Text(0.5, 0, 'N-grams')"
            ]
          },
          "execution_count": 47,
          "metadata": {},
          "output_type": "execute_result"
        },
        {
          "data": {
            "image/png": "[encoded data removed]",
            "text/plain": [
              "<Figure size 1000x500 with 1 Axes>"
            ]
          },
          "metadata": {},
          "output_type": "display_data"
        }
      ],
      "source": [
        "plt.figure(figsize = (10,5))\n",
        "plt.bar(x = [\"1-gram\",\"2-gram\",\"3-gram\",\"4-gram\",\"5-gram\"], height = ngrams_count)\n",
        "plt.ylabel(\"No.of unique n-grams\")\n",
        "plt.xlabel(\"N-grams\")"
      ]
    },
    {
      "cell_type": "markdown",
      "metadata": {
        "id": "3-WDFP06L3Wu"
      },
      "source": [
        "Using n grams and laplace smoothening"
      ]
    },
    {
      "cell_type": "code",
      "execution_count": 48,
      "metadata": {
        "colab": {
          "base_uri": "https://localhost:8080/"
        },
        "id": "BAtx6qB6LxnW",
        "outputId": "ede40e9b-2d74-413e-cb33-a502788e7781"
      },
      "outputs": [
        {
          "data": {
            "text/plain": [
              "array([0, 1, 2, 3, 4])"
            ]
          },
          "execution_count": 48,
          "metadata": {},
          "output_type": "execute_result"
        }
      ],
      "source": [
        "telugu_news_df[\"topic\"].unique()"
      ]
    },
    {
      "cell_type": "code",
      "execution_count": 49,
      "metadata": {
        "id": "fh6H81HEL8rD"
      },
      "outputs": [],
      "source": [
        "from indicnlp.tokenize import sentence_tokenize\n",
        "\n",
        "\n",
        "# function to build a n-gram vocabulary\n",
        "def build_n_gram_vocab(n, tot_sentences_proc):\n",
        "\n",
        "  if n > 1:\n",
        "    n_grams_telugu_vocab = {}\n",
        "\n",
        "    for sen in tot_sentences_proc:\n",
        "      tokens = indic_tokenize.trivial_tokenize(sen)\n",
        "      ngram = list(ngrams(tokens, n))\n",
        "      for ngm in ngram:\n",
        "        if tuple(ngm) not in n_grams_telugu_vocab:\n",
        "          n_grams_telugu_vocab[tuple(ngm)] = 1\n",
        "\n",
        "        else:\n",
        "          n_grams_telugu_vocab[tuple(ngm)] += 1\n",
        "\n",
        "    n_grams_telugu_vocab = {k: v for k, v in sorted(n_grams_telugu_vocab.items(), key=lambda item: item[1], reverse = True)}\n",
        "\n",
        "\n",
        "  else:\n",
        "    n_grams_telugu_vocab = {}\n",
        "\n",
        "    for sen in tot_sentences_proc:\n",
        "      tokens = indic_tokenize.trivial_tokenize(sen)\n",
        "      ngram = list(ngrams(tokens, 1))\n",
        "\n",
        "      for ngm in ngram:\n",
        "        if ngm not in n_grams_telugu_vocab:\n",
        "          n_grams_telugu_vocab[ngm] = 1\n",
        "\n",
        "        else:\n",
        "          n_grams_telugu_vocab[ngm] += 1\n",
        "\n",
        "    n_grams_telugu_vocab = {k: v for k, v in sorted(n_grams_telugu_vocab.items(), key=lambda item: item[1], reverse = True)}\n",
        "\n",
        "  return n_grams_telugu_vocab\n",
        "\n",
        "# function to get the vocabulary of the text of a class specified\n",
        "def get_class_vocab(class_id, n_grams = 1):\n",
        "  tot_text_class = \"\"\n",
        "\n",
        "  for t in telugu_news_df[telugu_news_df[\"topic\"] == class_id][\"body_processed\"]:\n",
        "    tot_text_class += t\n",
        "\n",
        "  tot_sentances_class = sentence_tokenize.sentence_split(tot_text_class, lang='te')\n",
        "\n",
        "  vocab = build_n_gram_vocab(n_grams, tot_sentances_class)\n",
        "\n",
        "  return vocab"
      ]
    },
    {
      "cell_type": "code",
      "execution_count": 50,
      "metadata": {
        "id": "Bt0ndNGFMDF-"
      },
      "outputs": [],
      "source": [
        "def get_prob_class_ngram(input_text, vocab, n_grams, class_id, laplace_param = 1):\n",
        "  total_tokens = len(vocab)\n",
        "  Prob_input = 1\n",
        "\n",
        "  tokens = indic_tokenize.trivial_tokenize(input_text)\n",
        "\n",
        "  vocab_n_1 = get_class_vocab(class_id, n_grams-1)\n",
        "\n",
        "  if n_grams > 1:\n",
        "    ngram = list(ngrams(tokens, n_grams))\n",
        "    for ngm in ngram:\n",
        "\n",
        "      prior_ngm = tuple(ngm[:n_grams-1])\n",
        "      if prior_ngm in vocab_n_1:\n",
        "        count_denom = vocab_n_1[prior_ngm]\n",
        "      else:\n",
        "        count_denom = 1\n",
        "\n",
        "      if tuple(ngm) in vocab:\n",
        "        count_w = vocab[tuple(ngm)]\n",
        "      else:\n",
        "        count_w = 0\n",
        "      Prob_input *= ((count_w + laplace_param)/(count_denom+(laplace_param*len(vocab_n_1))))\n",
        "\n",
        "  else:\n",
        "    tokens = indic_tokenize.trivial_tokenize(sen)\n",
        "    ngram = list(ngrams(tokens, 1))\n",
        "\n",
        "    for ngm in ngram:\n",
        "      if ngm in vocab:\n",
        "        count_w = vocab[ngm]\n",
        "      else:\n",
        "        count_w = 0\n",
        "\n",
        "      prob = count_w/total_tokens\n",
        "      Prob_input *= count_w/total_tokens\n",
        "\n",
        "  return Prob_input\n",
        "\n",
        "def get_max_ind(arr):\n",
        "\n",
        "  n = len(arr)\n",
        "\n",
        "  max_ind = 0\n",
        "  max_prob = arr[0]\n",
        "\n",
        "  for i in range(1,n):\n",
        "\n",
        "    if arr[i] > max_prob:\n",
        "      max_ind = i\n",
        "      max_prob = arr[i]\n",
        "\n",
        "  return max_ind, max_prob\n",
        "\n",
        "\n",
        "# Function to classify the given input text using the n_grams model\n",
        "def classify_text(text, n_grams, laplace_param = 0):\n",
        "\n",
        "  cls0_vocab = get_class_vocab(0, n_grams)\n",
        "  cls1_vocab = get_class_vocab(1, n_grams)\n",
        "  cls2_vocab = get_class_vocab(2, n_grams)\n",
        "  cls3_vocab = get_class_vocab(3, n_grams)\n",
        "  cls4_vocab = get_class_vocab(4, n_grams)\n",
        "\n",
        "  probs_arr = []\n",
        "\n",
        "  cls0_prob = get_prob_class_ngram(text, cls0_vocab, n_grams,0, laplace_param)\n",
        "  cls1_prob = get_prob_class_ngram(text, cls1_vocab, n_grams,1, laplace_param)\n",
        "  cls2_prob = get_prob_class_ngram(text, cls2_vocab, n_grams,2, laplace_param)\n",
        "  cls3_prob = get_prob_class_ngram(text, cls3_vocab, n_grams,3, laplace_param)\n",
        "  cls4_prob = get_prob_class_ngram(text, cls4_vocab, n_grams,4, laplace_param)\n",
        "\n",
        "  probs_arr.append(cls0_prob)\n",
        "  probs_arr.append(cls1_prob)\n",
        "  probs_arr.append(cls2_prob)\n",
        "  probs_arr.append(cls3_prob)\n",
        "  probs_arr.append(cls4_prob)\n",
        "\n",
        "#   We select the class with max probability as the final output\n",
        "  print(probs_arr)\n",
        "  class_pred, prob_cls = get_max_ind(probs_arr)\n",
        "\n",
        "  return class_pred, prob_cls\n"
      ]
    },
    {
      "cell_type": "code",
      "execution_count": 51,
      "metadata": {
        "colab": {
          "base_uri": "https://localhost:8080/"
        },
        "id": "irJA_6AvMLmC",
        "outputId": "2b7fff90-3297-4e73-eddc-3eb0b248e042"
      },
      "outputs": [
        {
          "name": "stdout",
          "output_type": "stream",
          "text": [
            "[0.0, 0.0, 1.5854392079695025e-25, 0.0, 0.0]\n",
            "Predticted class -> nation \n",
            "Predicted with probabilty =  1.5854392079695025e-23\n"
          ]
        }
      ],
      "source": [
        "text = \"స్టార్ హీరోగా వరుస సినిమాలతో బిజీగా ఉన్నప్పటికీ కుటుంబంతో గడిపే అవకాశాన్ని ఏ మాత్రం వదులుకోవడం\"\n",
        "class_pred, prob = classify_text(text, 1)\n",
        "print(\"Predticted class ->\",inv_topic_dict[class_pred], \"\\nPredicted with probabilty = \" ,prob*100)\n"
      ]
    },
    {
      "cell_type": "code",
      "execution_count": 52,
      "metadata": {
        "colab": {
          "base_uri": "https://localhost:8080/"
        },
        "id": "LNDGUxBSMRbd",
        "outputId": "7493eaf6-a4fe-4fb9-b3e5-76f14f1c6eb8"
      },
      "outputs": [
        {
          "name": "stdout",
          "output_type": "stream",
          "text": [
            "[7.539467241817366e-52, 7.31668157691397e-51, 1.1717407701942233e-55, 6.301709540971078e-50, 9.973784159019319e-55]\n",
            "Predticted class -> entertainment \n",
            "Predicted with probabilty =  6.301709540971078e-48\n"
          ]
        }
      ],
      "source": [
        "text = \"స్టార్ హీరోగా వరుస సినిమాలతో బిజీగా ఉన్నప్పటికీ కుటుంబంతో గడిపే అవకాశాన్ని ఏ మాత్రం వదులుకోవడం\"\n",
        "class_pred, prob = classify_text(text, 2, laplace_param = 2)\n",
        "print(\"Predticted class ->\",inv_topic_dict[class_pred], \"\\nPredicted with probabilty = \" ,prob*100)\n"
      ]
    },
    {
      "cell_type": "code",
      "execution_count": 53,
      "metadata": {
        "colab": {
          "base_uri": "https://localhost:8080/"
        },
        "id": "TvR8_RxQMSJq",
        "outputId": "7cf72bb1-bdfb-4f1e-cbf0-a524f612a553"
      },
      "outputs": [
        {
          "name": "stdout",
          "output_type": "stream",
          "text": [
            "[2.0110665825536858e-53, 3.024676982957221e-52, 7.831626215013029e-56, 3.126894856378308e-51, 1.6914625670477634e-55]\n",
            "Predticted class -> entertainment \n",
            "Predicted with probabilty =  3.1268948563783083e-49\n"
          ]
        }
      ],
      "source": [
        "# Using another text piece for the classification\n",
        "text = \"బాహుబలి2 సినిమా సంచలనం మెజారిటీ జనాలు మాత్రం బాహుబలి2ను ఆదరిస్తున్నారు సినీ ప్రముఖులు కూడా బాహుబలి2ను\"\n",
        "class_pred, prob = classify_text(text, 2, laplace_param = 2)\n",
        "print(\"Predticted class ->\",inv_topic_dict[class_pred], \"\\nPredicted with probabilty = \" ,prob*100)"
      ]
    },
    {
      "cell_type": "code",
      "execution_count": 54,
      "metadata": {
        "colab": {
          "base_uri": "https://localhost:8080/"
        },
        "id": "GkNplXACMVOE",
        "outputId": "c55da34d-afff-4d0d-86cc-ff0eb244eba3"
      },
      "outputs": [
        {
          "name": "stdout",
          "output_type": "stream",
          "text": [
            "[8.100269552898122e-77, 9.034344690378677e-75, 2.8067273076842573e-81, 8.737449308546919e-79, 4.301426135460897e-79]\n",
            "Predticted class -> sports \n",
            "Predicted with probabilty =  9.034344690378676e-73\n"
          ]
        }
      ],
      "source": [
        "text = \"బాహుబలి2 సినిమా సంచలనం మెజారిటీ జనాలు మాత్రం బాహుబలి2ను ఆదరిస్తున్నారు సినీ ప్రముఖులు కూడా బాహుబలి2ను దర్శకుడు రాజమౌళిని ప్రశంసలతో ముంచెత్తుతున్నారు\"\n",
        "class_pred, prob = classify_text(text, 3, laplace_param = 3)\n",
        "print(\"Predticted class ->\",inv_topic_dict[class_pred], \"\\nPredicted with probabilty = \" ,prob*100)\n"
      ]
    },
    {
      "cell_type": "code",
      "execution_count": 55,
      "metadata": {
        "colab": {
          "base_uri": "https://localhost:8080/"
        },
        "id": "w-8sGA8qMYOa",
        "outputId": "fe0d959e-8e63-4307-cce4-6ac563384908"
      },
      "outputs": [
        {
          "name": "stdout",
          "output_type": "stream",
          "text": [
            "[5.454295653100135e-73, 8.120930489231527e-71, 4.8162484724192635e-77, 1.3511229185333792e-75, 2.7514511154241185e-74]\n",
            "Predticted class -> sports \n",
            "Predicted with probabilty =  8.120930489231528e-69\n"
          ]
        }
      ],
      "source": [
        "text = \"బాహుబలి2 సినిమా సంచలనం మెజారిటీ జనాలు మాత్రం బాహుబలి2ను ఆదరిస్తున్నారు సినీ ప్రముఖులు కూడా బాహుబలి2ను దర్శకుడు రాజమౌళిని ప్రశంసలతో ముంచెత్తుతున్నారు\"\n",
        "class_pred, prob = classify_text(text, 4, laplace_param = 5)\n",
        "print(\"Predticted class ->\",inv_topic_dict[class_pred], \"\\nPredicted with probabilty = \" ,prob*100)"
      ]
    },
    {
      "cell_type": "code",
      "execution_count": 56,
      "metadata": {
        "colab": {
          "base_uri": "https://localhost:8080/"
        },
        "id": "a6_Spv5yMc85",
        "outputId": "2511aaec-fa6b-4120-b532-4fb8b6869259"
      },
      "outputs": [
        {
          "name": "stdout",
          "output_type": "stream",
          "text": [
            "[9.383043939066722e-68, 1.1700941656830867e-65, 2.1836803718626474e-71, 4.175812490954377e-70, 1.0438681175394662e-68]\n",
            "Predticted class -> sports \n",
            "Predicted with probabilty =  1.1700941656830867e-63\n"
          ]
        }
      ],
      "source": [
        "text = \"బాహుబలి2 సినిమా సంచలనం మెజారిటీ జనాలు మాత్రం బాహుబలి2ను ఆదరిస్తున్నారు సినీ ప్రముఖులు కూడా బాహుబలి2ను దర్శకుడు రాజమౌళిని ప్రశంసలతో ముంచెత్తుతున్నారు\"\n",
        "class_pred, prob = classify_text(text, 5, laplace_param = 5)\n",
        "print(\"Predticted class ->\",inv_topic_dict[class_pred], \"\\nPredicted with probabilty = \" ,prob*100)"
      ]
    },
    {
      "cell_type": "markdown",
      "metadata": {
        "id": "Zd4pQMa1O3YO"
      },
      "source": [
        "Classification of telugu text based on topic\n"
      ]
    },
    {
      "cell_type": "code",
      "execution_count": 57,
      "metadata": {
        "colab": {
          "base_uri": "https://localhost:8080/",
          "height": 206
        },
        "id": "8vPLRR-fO2Eb",
        "outputId": "66f17bdd-d1df-423e-e5c9-9222dafbf9ba"
      },
      "outputs": [
        {
          "data": {
            "application/vnd.google.colaboratory.intrinsic+json": {
              "summary": "{\n  \"name\": \"test_news_df\",\n  \"rows\": 4329,\n  \"fields\": [\n    {\n      \"column\": \"body\",\n      \"properties\": {\n        \"dtype\": \"string\",\n        \"num_unique_values\": 4328,\n        \"samples\": [\n          \"\\u0c1c\\u0c42\\u0c28\\u0c3f\\u0c2f\\u0c30\\u0c4d \\u0c0e\\u0c28\\u0c4d\\u0c1f\\u0c40\\u0c06\\u0c30\\u0c4d \\u0c38\\u0c02\\u0c2a\\u0c42\\u0c30\\u0c4d\\u0c23\\u0c2e\\u0c48\\u0c28 \\u0c28\\u0c1f\\u0c41\\u0c21\\u0c28\\u0c3f, \\u0c05\\u0c24\\u0c3f \\u0c1a\\u0c3f\\u0c28\\u0c4d\\u0c28 \\u0c35\\u0c2f\\u0c38\\u0c41\\u0c32\\u0c4b\\u0c28\\u0c47 \\u0c0e\\u0c02\\u0c24\\u0c4b \\u0c2a\\u0c30\\u0c3f\\u0c2a\\u0c15\\u0c4d\\u0c35\\u0c24 \\u0c1a\\u0c46\\u0c02\\u0c26\\u0c3f\\u0c28 \\u0c35\\u0c3e\\u0c21\\u0c28\\u0c3f \\u0c15\\u0c25\\u0c3e \\u0c30\\u0c1a\\u0c2f\\u0c3f\\u0c24 \\u0c1a\\u0c3f\\u0c28\\u0c4d\\u0c28\\u0c3f\\u0c15\\u0c43\\u0c37\\u0c4d\\u0c23 \\u0c05\\u0c28\\u0c4d\\u0c28\\u0c3e\\u0c30\\u0c41. \\u0c24\\u0c3e\\u0c30\\u0c15\\u0c4d\\u200c\\u0c24\\u0c4b \\u0c38\\u0c3f\\u0c28\\u0c3f\\u0c2e\\u0c3e \\u0c15\\u0c4b\\u0c38\\u0c02 \\u0c1a\\u0c3e\\u0c32\\u0c3e \\u0c38\\u0c3e\\u0c30\\u0c4d\\u0c32\\u0c41 \\u0c2a\\u0c4d\\u0c30\\u0c2f\\u0c24\\u0c4d\\u0c28\\u0c3f\\u0c02\\u0c1a\\u0c3e\\u0c2e\\u0c28\\u0c3f, \\u0c15\\u0c3e\\u0c28\\u0c40 \\u0c15\\u0c41\\u0c26\\u0c30\\u0c32\\u0c47\\u0c26\\u0c28\\u0c3f, \\u0c0e\\u0c2a\\u0c4d\\u0c2a\\u0c41\\u0c21\\u0c41 \\u0c26\\u0c4a\\u0c30\\u0c41\\u0c15\\u0c41\\u0c24\\u0c3e\\u0c21\\u0c3e \\u0c05\\u0c28\\u0c3f \\u0c0e\\u0c26\\u0c41\\u0c30\\u0c41 \\u0c1a\\u0c42\\u0c38\\u0c4d\\u0c24\\u0c41\\u0c28\\u0c4d\\u0c28\\u0c3e\\u0c28\\u0c28\\u0c3f \\u0c1a\\u0c3f\\u0c28\\u0c4d\\u0c28\\u0c3f\\u0c15\\u0c43\\u0c37\\u0c4d\\u0c23 \\u0c1a\\u0c46\\u0c2a\\u0c4d\\u0c2a\\u0c3e\\u0c30\\u0c41.\\u00a0\\u2018\\u2018\\u0c24\\u0c3e\\u0c30\\u0c15\\u0c4d \\u0c38\\u0c3f\\u0c28\\u0c3f\\u0c2e\\u0c3e \\u0c05\\u0c28\\u0c17\\u0c3e\\u0c28\\u0c47 \\u0c28\\u0c3e\\u0c15\\u0c41 \\u0c15\\u0c4a\\u0c02\\u0c1a\\u0c46\\u0c02 \\u0c35\\u0c48\\u0c2c\\u0c4d\\u0c30\\u0c47\\u0c37\\u0c28\\u0c4d \\u0c38\\u0c4d\\u0c1f\\u0c3e\\u0c30\\u0c4d\\u0c1f\\u0c4d \\u0c05\\u0c35\\u0c41\\u0c24\\u0c41\\u0c02\\u0c26\\u0c3f. \\u0c1a\\u0c46\\u0c02\\u0c17\\u0c32\\u0c4d\\u0c30\\u0c3e\\u0c35\\u0c4d \\u0c05\\u0c28\\u0c47 \\u0c12\\u0c15\\u0c2f\\u0c3e\\u0c28 \\u0c26\\u0c4d\\u0c35\\u0c3e\\u0c30\\u0c3e \\u0c2c\\u0c40 \\u0c17\\u0c4b\\u0c2a\\u0c3e\\u0c32\\u0c4d, \\u0c28\\u0c47\\u0c28\\u0c41 \\u0c24\\u0c3e\\u0c30\\u0c15\\u0c4d \\u0c15\\u0c4b\\u0c38\\u0c02 \\u0c1f\\u0c4d\\u0c30\\u0c48\\u0c32\\u0c4d\\u0c38\\u0c4d \\u0c35\\u0c47\\u0c36\\u0c3e\\u0c2e\\u0c41. \\u0c2e\\u0c47\\u0c02 \\u0c1f\\u0c4d\\u0c30\\u0c48\\u0c32\\u0c4d\\u0c38\\u0c4d \\u0c35\\u0c47\\u0c2f\\u0c21\\u0c02 \\u0c06 \\u0c05\\u0c2c\\u0c4d\\u0c2c\\u0c3e\\u0c2f\\u0c3f \\u0c30\\u0c3f\\u0c1c\\u0c46\\u0c15\\u0c4d\\u0c1f\\u0c4d \\u0c1a\\u0c47\\u0c2f\\u0c21\\u0c02 \\u0c1c\\u0c30\\u0c3f\\u0c17\\u0c3f\\u0c02\\u0c26\\u0c3f. \\u0c15\\u0c3e\\u0c28\\u0c40 \\u0c0e\\u0c2a\\u0c4d\\u0c2a\\u0c41\\u0c21\\u0c41 \\u0c26\\u0c4a\\u0c30\\u0c41\\u0c15\\u0c41\\u0c24\\u0c3e\\u0c21\\u0c3e \\u0c05\\u0c28\\u0c3f \\u0c0e\\u0c26\\u0c41\\u0c30\\u0c41 \\u0c1a\\u0c42\\u0c38\\u0c4d\\u0c24\\u0c41\\u0c28\\u0c4d\\u0c28\\u0c3e. \\u0c0e\\u0c02\\u0c26\\u0c41\\u0c15\\u0c02\\u0c1f\\u0c47 \\u0c24\\u0c3e\\u0c30\\u0c15\\u0c4d\\u200c\\u0c24\\u0c4b \\u0c38\\u0c02\\u0c2a\\u0c42\\u0c30\\u0c4d\\u0c23\\u0c2e\\u0c48\\u0c28 \\u0c06\\u0c35\\u0c3f\\u0c37\\u0c4d\\u0c15\\u0c30\\u0c23 \\u0c1a\\u0c47\\u0c2f\\u0c3e\\u0c32\\u0c3f. \\u0c05\\u0c28\\u0c4d\\u0c28\\u0c3f \\u0c21\\u0c48\\u0c30\\u0c46\\u0c15\\u0c4d\\u0c37\\u0c28\\u0c4d\\u0c32\\u0c32\\u0c4b \\u0c28\\u0c1f\\u0c3f\\u0c02\\u0c1a\\u0c17\\u0c32 \\u0c15\\u0c46\\u0c2a\\u0c3e\\u0c38\\u0c3f\\u0c1f\\u0c40 \\u0c24\\u0c3e\\u0c30\\u0c15\\u0c4d\\u200c\\u0c15\\u0c41 \\u0c09\\u0c02\\u0c26\\u0c3f. \\u0c05\\u0c38\\u0c32\\u0c41 \\u0c2c\\u0c3f\\u0c17\\u0c4d\\u200c\\u0c2c\\u0c3e\\u0c38\\u0c4d \\u0c37\\u0c4b \\u0c1a\\u0c42\\u0c38\\u0c4d\\u0c24\\u0c41\\u0c02\\u0c1f\\u0c47.. \\u0c38\\u0c4d\\u0c15\\u0c4d\\u0c30\\u0c3f\\u0c2a\\u0c4d\\u0c1f\\u0c4d \\u0c0f\\u0c2e\\u0c40 \\u0c32\\u0c47\\u0c15\\u0c41\\u0c02\\u0c21\\u0c3e\\u0c28\\u0c47 \\u0c17\\u0c02\\u0c1f\\u0c28\\u0c4d\\u0c28\\u0c30\\u0c2a\\u0c3e\\u0c1f\\u0c41 \\u0c1a\\u0c46\\u0c21\\u0c41\\u0c17\\u0c41\\u0c21\\u0c41 \\u0c06\\u0c21\\u0c47\\u0c38\\u0c4d\\u0c24\\u0c41\\u0c28\\u0c4d\\u0c28\\u0c3e\\u0c21\\u0c41. \\u0c24\\u0c3e\\u0c30\\u0c15\\u0c4d \\u0c2e\\u0c41\\u0c02\\u0c26\\u0c41 \\u0c07\\u0c2a\\u0c4d\\u0c2a\\u0c41\\u0c21\\u0c41\\u0c28\\u0c4d\\u0c28 \\u0c2f\\u0c3e\\u0c02\\u0c15\\u0c30\\u0c4d\\u0c32\\u0c02\\u0c26\\u0c30\\u0c42 \\u0c24\\u0c15\\u0c4d\\u0c15\\u0c41\\u0c35\\u0c47. \\u0c2f\\u0c3e\\u0c02\\u0c15\\u0c30\\u0c3f\\u0c02\\u0c17\\u0c4d \\u0c2b\\u0c40\\u0c32\\u0c4d\\u0c21\\u0c4d\\u200c\\u0c32\\u0c4b \\u0c28\\u0c46\\u0c02\\u0c2c\\u0c30\\u0c4d  \\u0c35\\u0c28\\u0c4d \\u0c05\\u0c2f\\u0c3f\\u0c2a\\u0c4b\\u0c2f\\u0c3e\\u0c21\\u0c41. \\u0c39\\u0c46\\u0c21\\u0c4d\\u200c\\u0c2b\\u0c4b\\u0c28\\u0c4d\\u200c\\u0c32\\u0c4b \\u0c1a\\u0c46\\u0c2a\\u0c4d\\u0c2a\\u0c47 \\u0c1a\\u0c3f\\u0c28\\u0c4d\\u0c28 \\u0c07\\u0c28\\u0c4d\\u200c\\u0c2a\\u0c41\\u0c1f\\u0c4d\\u200c\\u0c24\\u0c4b\\u0c28\\u0c47 \\u0c1a\\u0c46\\u0c21\\u0c41\\u0c17\\u0c41\\u0c21\\u0c41 \\u0c06\\u0c21\\u0c41\\u0c24\\u0c41\\u0c28\\u0c4d\\u0c28\\u0c3e\\u0c21\\u0c41. \\u0c05\\u0c1f\\u0c4d\\u0c32\\u0c3e\\u0c02\\u0c1f\\u0c3f\\u0c26\\u0c3f \\u0c12\\u0c15 \\u0c2a\\u0c35\\u0c30\\u0c4d\\u200c\\u0c2b\\u0c41\\u0c32\\u0c4d \\u0c38\\u0c2c\\u0c4d\\u0c1c\\u0c46\\u0c15\\u0c4d\\u0c1f\\u0c4d\\u200c\\u0c24\\u0c4b \\u0c35\\u0c38\\u0c4d\\u0c24\\u0c47 \\u0c28\\u0c3e\\u0c15\\u0c41 \\u0c24\\u0c46\\u0c32\\u0c3f\\u0c38\\u0c3f \\u0c24\\u0c46\\u0c32\\u0c41\\u0c17\\u0c41 \\u0c12\\u0c15\\u0c4d\\u0c15\\u0c1f\\u0c47 \\u0c15\\u0c3e\\u0c26\\u0c41.. \\u0c24\\u0c2e\\u0c3f\\u0c33\\u0c02, \\u0c15\\u0c28\\u0c4d\\u0c28\\u0c21, \\u0c2e\\u0c32\\u0c2f\\u0c3e\\u0c33\\u0c02.. \\u0c28\\u0c3e\\u0c32\\u0c41\\u0c17\\u0c41 \\u0c2d\\u0c3e\\u0c37\\u0c32\\u0c4d\\u0c32\\u0c4b \\u0c2d\\u0c42\\u0c15\\u0c02\\u0c2a\\u0c02 \\u0c38\\u0c43\\u0c37\\u0c4d\\u0c1f\\u0c3f\\u0c02\\u0c1a\\u0c47\\u0c38\\u0c4d\\u0c24\\u0c3e\\u0c21\\u0c41. \\u0c06 \\u0c35\\u0c3f\\u0c36\\u0c4d\\u0c35\\u0c30\\u0c42\\u0c2a\\u0c02 \\u0c38\\u0c02\\u0c26\\u0c30\\u0c4d\\u0c36\\u0c28\\u0c02 \\u0c15\\u0c4b\\u0c38\\u0c02 \\u0c28\\u0c47\\u0c28\\u0c42 \\u0c35\\u0c46\\u0c2f\\u0c3f\\u0c02\\u0c17\\u0c4d.. \\u0c28\\u0c3e \\u0c15\\u0c25 \\u0c35\\u0c46\\u0c2f\\u0c3f\\u0c1f\\u0c3f\\u0c02\\u0c17\\u0c4d.\\u2019\\u2019 \\u0c05\\u0c02\\u0c1f\\u0c42 \\u0c24\\u0c28 \\u0c15\\u0c4b\\u0c30\\u0c3f\\u0c15\\u0c28\\u0c41 \\u0c2c\\u0c2f\\u0c1f\\u0c2a\\u0c46\\u0c1f\\u0c4d\\u0c1f\\u0c3e\\u0c30\\u0c41 \\u0c1a\\u0c3f\\u0c28\\u0c4d\\u0c28\\u0c3f\\u0c15\\u0c43\\u0c37\\u0c4d\\u0c23.\",\n          \"\\n\\u0c26\\u0c30\\u0c4d\\u0c36\\u0c15\\u0c30\\u0c24\\u0c4d\\u0c28 \\u0c26\\u0c3e\\u0c38\\u0c30\\u0c40!\\u0c1a\\u0c3f\\u0c24\\u0c4d\\u0c30 \\u0c2a\\u0c30\\u0c3f\\u0c36\\u0c4d\\u0c30\\u0c2e\\u0c32\\u0c4b \\u0c28\\u0c40\\u0c15\\u0c46\\u0c35\\u0c4d\\u0c35\\u0c30\\u0c41 \\u0c32\\u0c47\\u0c30\\u0c41 \\u0c38\\u0c30\\u0c3f!\\u0c26\\u0c3e\\u0c30\\u0c4d\\u0c36\\u0c28\\u0c3f\\u0c15\\u0c41\\u0c32\\u0c4d\\u0c32\\u0c4b\\u0c28\\u0c41 \\u0c26\\u0c30\\u0c4d\\u0c36\\u0c15\\u0c41\\u0c32\\u0c4d\\u0c32\\u0c4b\\u0c28\\u0c41 \\u0c28\\u0c41\\u0c35\\u0c4d\\u0c35\\u0c47 \\u0c05\\u0c17\\u0c4d\\u0c30 \\u0c15\\u0c47\\u0c38\\u0c30\\u0c3f!\\u0c28\\u0c3e\\u0c1f\\u0c15\\u0c30\\u0c02\\u0c17\\u0c3e\\u0c28\\u0c4d\\u0c28\\u0c3f \\u0c05\\u0c02\\u0c24\\u0c30\\u0c02\\u0c17\\u0c02\\u0c32\\u0c4b \\u0c2a\\u0c46\\u0c1f\\u0c4d\\u0c1f\\u0c41\\u0c15\\u0c41\\u0c28\\u0c4d\\u0c28\\u0c3e\\u0c35\\u0c41\\u0c2a\\u0c3e\\u0c32\\u0c15\\u0c4a\\u0c32\\u0c4d\\u0c32\\u0c41 \\u0c28\\u0c41\\u0c02\\u0c1a\\u0c3f \\u0c2a\\u0c3e\\u0c02\\u0c21\\u0c40\\u0c2c\\u0c1c\\u0c3e\\u0c30\\u0c41 \\u0c35\\u0c46\\u0c33\\u0c4d\\u0c33\\u0c3f\\u0c24\\u0c46\\u0c32\\u0c41\\u0c17\\u0c41 \\u0c1a\\u0c3f\\u0c24\\u0c4d\\u0c30 \\u0c1c\\u0c17\\u0c24\\u0c4d\\u0c24\\u0c41\\u0c32\\u0c4b \\u0c2e\\u0c3e\\u0c2f\\u0c3e\\u0c2c\\u0c1c\\u0c3e\\u0c30\\u0c41\\u0c28\\u0c41 \\u0c38\\u0c43\\u0c37\\u0c4d\\u0c1f\\u0c3f\\u0c02\\u0c1a\\u0c3e\\u0c35\\u0c41\\u0c12\\u0c15\\u0c4d\\u0c15\\u0c21\\u0c3f\\u0c35\\u0c48 \\u0c35\\u0c1a\\u0c4d\\u0c1a\\u0c3f \\u0c26\\u0c3f\\u0c15\\u0c4d\\u0c15\\u0c41\\u0c32\\u0c41 \\u0c2a\\u0c3f\\u0c15\\u0c4d\\u0c15\\u0c1f\\u0c3f\\u0c32\\u0c4d\\u0c32\\u0c47\\u0c32\\u0c3e\\u0c2c\\u0c4a\\u0c2c\\u0c4d\\u0c2c\\u0c3f\\u0c32\\u0c3f\\u0c2a\\u0c41\\u0c32\\u0c3f\\u0c35\\u0c48 \\u0c17\\u0c30\\u0c4d\\u0c1c\\u0c3f\\u0c02\\u0c1a\\u0c3f\\u0c2e\\u0c39\\u0c3e\\u0c38\\u0c48\\u0c28\\u0c4d\\u0c2f\\u0c3e\\u0c28\\u0c4d\\u0c28\\u0c3f \\u0c24\\u0c2f\\u0c3e\\u0c30\\u0c41 \\u0c1a\\u0c47\\u0c38\\u0c41\\u0c15\\u0c41\\u0c28\\u0c4d\\u0c28\\u0c3e\\u0c35\\u0c41\\u0c0e\\u0c02\\u0c24\\u0c2e\\u0c02\\u0c26\\u0c3f \\u0c36\\u0c3f\\u0c37\\u0c4d\\u0c2f\\u0c1a\\u0c42\\u0c21\\u0c3e\\u0c2e\\u0c23\\u0c41\\u0c32\\u0c41 \\u0c28\\u0c40\\u0c15\\u0c41\\u0c0e\\u0c02\\u0c24\\u0c2e\\u0c02\\u0c26\\u0c3f \\u0c05\\u0c2d\\u0c3f\\u0c2e\\u0c3e\\u0c28 \\u0c15\\u0c4b\\u0c1f\\u0c3f \\u0c28\\u0c40\\u0c15\\u0c41\\u0c15\\u0c41\\u0c30\\u0c41, \\u0c2a\\u0c3e\\u0c02\\u0c21\\u0c35\\u0c41\\u0c32 \\u0c05\\u0c15\\u0c4d\\u0c37\\u0c4c\\u0c39\\u0c3f\\u0c23\\u0c3f\\u0c32\\u0c3e\\u0c2e\\u0c3e\\u0c2e\\u0c42\\u0c32\\u0c41 \\u0c2e\\u0c3e\\u0c1f\\u0c32\\u0c28\\u0c41 \\u0c38\\u0c02\\u0c2d\\u0c3e\\u0c37\\u0c23\\u0c32\\u0c41\\u0c17\\u0c3e \\u0c30\\u0c3e\\u0c38\\u0c3e\\u0c35\\u0c41\\u0c32\\u0c4a\\u0c32\\u0c4d\\u0c32\\u0c3e\\u0c2f\\u0c3f \\u0c2a\\u0c26\\u0c3e\\u0c32\\u0c28\\u0c41 \\u0c2a\\u0c3e\\u0c1f\\u0c32\\u0c41\\u0c17\\u0c3e \\u0c26\\u0c3f\\u0c26\\u0c4d\\u0c26\\u0c3e\\u0c35\\u0c41\\u0c2a\\u0c32\\u0c41\\u0c36\\u0c3e\\u0c16\\u0c32\\u0c2a\\u0c48 \\u0c2a\\u0c4d\\u0c30\\u0c3e\\u0c35\\u0c40\\u0c23\\u0c4d\\u0c2f\\u0c02 \\u0c38\\u0c3e\\u0c27\\u0c3f\\u0c02\\u0c1a\\u0c3f \\u0c35\\u0c46\\u0c02\\u0c21\\u0c3f\\u0c24\\u0c46\\u0c30 \\u0c2e\\u0c4a\\u0c24\\u0c4d\\u0c24\\u0c3e\\u0c28\\u0c4d\\u0c28\\u0c3f \\u0c06\\u0c15\\u0c4d\\u0c30\\u0c2e\\u0c3f\\u0c02\\u0c1a\\u0c41\\u0c15\\u0c41\\u0c28\\u0c4d\\u0c28\\u0c3e\\u0c35\\u0c41\\u0c2d\\u0c17\\u0c4d\\u0c28\\u0c2a\\u0c4d\\u0c30\\u0c47\\u0c2e\\u0c3f\\u0c15\\u0c41\\u0c32\\u0c15\\u0c41 \\u0c2e\\u0c47\\u0c18\\u0c38\\u0c02\\u0c26\\u0c47\\u0c36\\u0c3e\\u0c28\\u0c4d\\u0c28\\u0c3f \\u0c35\\u0c3f\\u0c28\\u0c4d\\u0c2a\\u0c3f\\u0c02\\u0c1a\\u0c3e\\u0c35\\u0c41\\u0c35\\u0c3f\\u0c30\\u0c39\\u0c3f\\u0c23\\u0c41\\u0c32 \\u0c0e\\u0c21\\u0c26\\u0c32\\u0c2a\\u0c48 \\u0c36\\u0c3f\\u0c35\\u0c30\\u0c02\\u0c1c\\u0c28\\u0c3f \\u0c30\\u0c3e\\u0c17\\u0c3e\\u0c28\\u0c4d\\u0c28\\u0c3f \\u0c06\\u0c32\\u0c2a\\u0c3f\\u0c02\\u0c1a\\u0c3e\\u0c35\\u0c41\\u0c28\\u0c3f\\u0c30\\u0c4d\\u0c2e\\u0c32 \\u0c2a\\u0c4d\\u0c30\\u0c47\\u0c2e\\u0c3f\\u0c15\\u0c41\\u0c32\\u0c15\\u0c41 \\u0c2a\\u0c4d\\u0c30\\u0c47\\u0c2e\\u0c3e\\u0c2d\\u0c3f\\u0c37\\u0c47\\u0c15\\u0c02 \\u0c1a\\u0c47\\u0c38\\u0c3f\\u0c38\\u0c41\\u0c26\\u0c42\\u0c30 \\u0c24\\u0c40\\u0c30\\u0c3e\\u0c32\\u0c15\\u0c41 \\u0c35\\u0c46\\u0c33\\u0c4d\\u0c33\\u0c3f\\u0c2a\\u0c4b\\u0c2f\\u0c3e\\u0c35\\u0c3e... \\u0c2c\\u0c39\\u0c41\\u0c26\\u0c42\\u0c30\\u0c2a\\u0c41 \\u0c2c\\u0c3e\\u0c1f\\u0c38\\u0c3e\\u0c30\\u0c40!- \\u0c1c\\u0c3f. \\u0c38\\u0c42\\u0c30\\u0c4d\\u0c2f\\u0c28\\u0c3e\\u0c30\\u0c3e\\u0c2f\\u0c23, \\u0c2c\\u0c02\\u0c26\\u0c32\\u0c3e\\u0c2f\\u0c3f \\u0c1a\\u0c46\\u0c30\\u0c41\\u0c35\\u0c41, \\u0c15\\u0c43\\u0c37\\u0c4d\\u0c23\\u0c3e \\u0c1c\\u0c3f\\u0c32\\u0c4d\\u0c32\\u0c3e\",\n          \"\\u0c39\\u0c48\\u0c26\\u0c30\\u0c3e\\u0c2c\\u0c3e\\u0c26\\u0c4d: \\u0c2e\\u0c17\\u0c27\\u0c40\\u0c30\\u200c\\u0c28\\u0c41 \\u0c15\\u0c3e\\u0c2a\\u0c40 \\u0c2a\\u0c47\\u0c38\\u0c4d\\u0c1f\\u0c41 \\u0c1a\\u0c47\\u0c38\\u0c4d\\u0c24\\u0c47 \\u0c30\\u0c3e\\u0c2c\\u0c4d\\u0c24\\u0c3e \\u0c38\\u0c3f\\u0c28\\u0c3f\\u0c2e\\u0c3e\\u0c2f\\u0c3e..?. \\u0c15\\u0c02\\u0c1f\\u0c46\\u0c02\\u0c1f\\u0c46 \\u0c09\\u0c02\\u0c1f\\u0c47 \\u0c1a\\u0c3e\\u0c32\\u0c41, \\u0c2e\\u0c15\\u0c4d\\u0c15\\u0c40\\u0c15\\u0c3f \\u0c2e\\u0c15\\u0c4d\\u0c15\\u0c40 \\u0c26\\u0c3f\\u0c02\\u0c2a\\u0c47\\u0c38\\u0c4d\\u0c24\\u0c3e\\u0c30\\u0c3e..?. \\u0c2e\\u0c42\\u0c32 \\u0c15\\u0c25\\u0c32\\u0c41 \\u0c35\\u0c46\\u0c24\\u0c41\\u0c15\\u0c4d\\u0c15\\u0c41\\u0c02\\u0c1f\\u0c42 \\u0c2e\\u0c30\\u0c40 \\u0c05,\\u0c06\\u0c32\\u0c41 \\u0c26\\u0c3f\\u0c26\\u0c4d\\u0c26\\u0c41\\u0c24\\u0c3e\\u0c30\\u0c3e..?. \\u0c2c\\u0c3e\\u0c15\\u0c4d\\u0c38\\u0c3e\\u0c2b\\u0c40\\u0c38\\u0c41 \\u0c26\\u0c17\\u0c4d\\u0c17\\u0c30 \\u0c36\\u0c4d\\u0c30\\u0c40\\u0c2e\\u0c02\\u0c24\\u0c41\\u0c32\\u0c2f\\u0c4d\\u0c2f\\u0c47 \\u0c2b\\u0c3e\\u0c30\\u0c4d\\u0c2e\\u0c41\\u0c32\\u0c3e \\u0c07\\u0c26\\u0c47\\u0c28\\u0c3e..?. \\u0c07\\u0c02\\u0c24\\u0c15\\u0c40 \\u0c0f\\u0c26\\u0c3f \\u0c15\\u0c3e\\u0c2a\\u0c40..? \\u0c0e\\u0c35\\u0c30\\u0c41 \\u0c39\\u0c4d\\u0c2f\\u0c3e\\u0c2a\\u0c40..?. \\u0c15\\u0c3e\\u0c2a\\u0c40\\u0c32 \\u0c35\\u0c46\\u0c28\\u0c41\\u0c15 \\u0c05\\u0c38\\u0c32\\u0c41 \\u0c15\\u0c25\\u0c47\\u0c02\\u0c1f\\u0c3f..?\\u00a0\\u0c30\\u0c3e\\u0c2c\\u0c4d\\u0c24\\u0c3e \\u0c38\\u0c3f\\u0c28\\u0c3f\\u0c2e\\u0c3e \\u0c1a\\u0c41\\u0c1f\\u0c4d\\u0c1f\\u0c42 \\u0c35\\u0c3f\\u0c35\\u0c3e\\u0c26\\u0c02 \\u0c15\\u0c4b\\u0c30\\u0c4d\\u0c1f\\u0c41 \\u0c17\\u0c41\\u0c2e\\u0c4d\\u0c2e\\u0c02 \\u0c0e\\u0c15\\u0c4d\\u0c15\\u0c3f\\u0c02\\u0c26\\u0c3f. \\u0c2e\\u0c17\\u0c27\\u0c40\\u0c30 \\u0c38\\u0c3f\\u0c28\\u0c3f\\u0c2e\\u0c3e \\u0c39\\u0c3f\\u0c02\\u0c26\\u0c40\\u0c32\\u0c4b\\u0c15\\u0c3f \\u0c30\\u0c40\\u0c2e\\u0c47\\u0c15\\u0c4d \\u0c1a\\u0c47\\u0c38\\u0c3f \\u0c15\\u0c4b\\u0c1f\\u0c4d\\u0c32\\u0c41 \\u0c15\\u0c4a\\u0c32\\u0c4d\\u0c32\\u0c17\\u0c4a\\u0c1f\\u0c4d\\u0c1f\\u0c3e\\u0c32\\u0c28\\u0c3f \\u0c1a\\u0c42\\u0c38\\u0c3f\\u0c28 \\u0c28\\u0c3f\\u0c30\\u0c4d\\u0c2e\\u0c3e\\u0c24\\u0c32 \\u0c06\\u0c36\\u0c32\\u0c2a\\u0c48 \\u0c30\\u0c3e\\u0c2c\\u0c4d\\u0c24\\u0c3e \\u0c1f\\u0c4d\\u0c30\\u0c48\\u0c32\\u0c30\\u0c4d \\u0c28\\u0c40\\u0c33\\u0c4d\\u0c32\\u0c41 \\u0c1a\\u0c32\\u0c4d\\u0c32\\u0c3f\\u0c28\\u0c1f\\u0c48\\u0c02\\u0c26\\u0c3f. \\u0c05\\u0c1a\\u0c4d\\u0c1a\\u0c02\\u0c17\\u0c3e \\u0c2e\\u0c17\\u0c27\\u0c40\\u0c30 \\u0c2a\\u0c4b\\u0c32\\u0c3f\\u0c15\\u0c32\\u0c24\\u0c4b \\u0c2b\\u0c40\\u0c32\\u0c41 \\u0c1a\\u0c42\\u0c38\\u0c3f \\u0c09\\u0c32\\u0c3f\\u0c15\\u0c4d\\u0c15\\u0c3f\\u0c2a\\u0c21\\u0c4d\\u0c21 \\u0c28\\u0c3f\\u0c30\\u0c4d\\u0c2e\\u0c3e\\u0c24\\u0c32\\u0c41 \\u0c15\\u0c47\\u0c15\\u0c32\\u0c41 \\u0c35\\u0c30\\u0c15\\u0c42 \\u0c35\\u0c46\\u0c33\\u0c4d\\u0c32\\u0c3e\\u0c30\\u0c41. \\u0c07\\u0c02\\u0c24\\u0c15\\u0c40 \\u0c30\\u0c3e\\u0c2c\\u0c4d\\u0c24\\u0c3e\\u0c15\\u0c40 \\u0c2e\\u0c17\\u0c27\\u0c40\\u0c30\\u0c24\\u0c4b \\u0c15\\u0c28\\u0c46\\u0c15\\u0c4d\\u0c37\\u0c28\\u0c4d \\u0c0e\\u0c02\\u0c24 \\u0c35\\u0c30\\u0c15\\u0c42.  \\u0c08 \\u0c35\\u0c3f\\u0c37\\u0c2f\\u0c3e\\u0c32\\u0c41 \\u0c24\\u0c46\\u0c32\\u0c41\\u0c38\\u0c41\\u0c15\\u0c4b\\u0c35\\u0c3e\\u0c32\\u0c02\\u0c1f\\u0c47 \\u0c35\\u0c40\\u0c21\\u0c3f\\u0c2f\\u0c4b \\u0c15\\u0c4d\\u0c32\\u0c3f\\u0c15\\u0c4d \\u0c1a\\u0c47\\u0c2f\\u0c02\\u0c21\\u0c3f.\"\n        ],\n        \"semantic_type\": \"\",\n        \"description\": \"\"\n      }\n    },\n    {\n      \"column\": \"topic\",\n      \"properties\": {\n        \"dtype\": \"category\",\n        \"num_unique_values\": 5,\n        \"samples\": [\n          \"nation\",\n          \"sports\",\n          \"business\"\n        ],\n        \"semantic_type\": \"\",\n        \"description\": \"\"\n      }\n    }\n  ]\n}",
              "type": "dataframe",
              "variable_name": "test_news_df"
            },
            "text/html": [
              "\n",
              "  <div id=\"df-09880d7b-24ae-4224-8a63-9b2e1d7267b5\" class=\"colab-df-container\">\n",
              "    <div>\n",
              "<style scoped>\n",
              "    .dataframe tbody tr th:only-of-type {\n",
              "        vertical-align: middle;\n",
              "    }\n",
              "\n",
              "    .dataframe tbody tr th {\n",
              "        vertical-align: top;\n",
              "    }\n",
              "\n",
              "    .dataframe thead th {\n",
              "        text-align: right;\n",
              "    }\n",
              "</style>\n",
              "<table border=\"1\" class=\"dataframe\">\n",
              "  <thead>\n",
              "    <tr style=\"text-align: right;\">\n",
              "      <th></th>\n",
              "      <th>body</th>\n",
              "      <th>topic</th>\n",
              "    </tr>\n",
              "  </thead>\n",
              "  <tbody>\n",
              "    <tr>\n",
              "      <th>0</th>\n",
              "      <td>హీరోగా తెలుగు సినిమాల్లోకి ఎంట్రీ ఇచ్చిన నిఖిల...</td>\n",
              "      <td>entertainment</td>\n",
              "    </tr>\n",
              "    <tr>\n",
              "      <th>1</th>\n",
              "      <td>సినిమాల్లో యాక్షన్ స్టంట్లు చేసేటప్పుడు ఎక్కు...</td>\n",
              "      <td>entertainment</td>\n",
              "    </tr>\n",
              "    <tr>\n",
              "      <th>2</th>\n",
              "      <td>దక్షిణ భారతాన్ని ఆక్రమించేందుకు బీజేపీ పంచెలు ...</td>\n",
              "      <td>nation</td>\n",
              "    </tr>\n",
              "    <tr>\n",
              "      <th>3</th>\n",
              "      <td>నేటి మధ్యాహ్నం 1.59కి కౌంట్‌డౌన్‌ షురూశ్రీహరి...</td>\n",
              "      <td>nation</td>\n",
              "    </tr>\n",
              "    <tr>\n",
              "      <th>4</th>\n",
              "      <td>‘ఏమి రా... అబ్బి... యాడికి పోయినావు’ అంటూ రాయ...</td>\n",
              "      <td>entertainment</td>\n",
              "    </tr>\n",
              "  </tbody>\n",
              "</table>\n",
              "</div>\n",
              "    <div class=\"colab-df-buttons\">\n",
              "\n",
              "  <div class=\"colab-df-container\">\n",
              "    <button class=\"colab-df-convert\" onclick=\"convertToInteractive('df-09880d7b-24ae-4224-8a63-9b2e1d7267b5')\"\n",
              "            title=\"Convert this dataframe to an interactive table.\"\n",
              "            style=\"display:none;\">\n",
              "\n",
              "  <svg xmlns=\"http://www.w3.org/2000/svg\" height=\"24px\" viewBox=\"0 -960 960 960\">\n",
              "    <path d=\"M120-120v-720h720v720H120Zm60-500h600v-160H180v160Zm220 220h160v-160H400v160Zm0 220h160v-160H400v160ZM180-400h160v-160H180v160Zm440 0h160v-160H620v160ZM180-180h160v-160H180v160Zm440 0h160v-160H620v160Z\"/>\n",
              "  </svg>\n",
              "    </button>\n",
              "\n",
              "  <style>\n",
              "    .colab-df-container {\n",
              "      display:flex;\n",
              "      gap: 12px;\n",
              "    }\n",
              "\n",
              "    .colab-df-convert {\n",
              "      background-color: #E8F0FE;\n",
              "      border: none;\n",
              "      border-radius: 50%;\n",
              "      cursor: pointer;\n",
              "      display: none;\n",
              "      fill: #1967D2;\n",
              "      height: 32px;\n",
              "      padding: 0 0 0 0;\n",
              "      width: 32px;\n",
              "    }\n",
              "\n",
              "    .colab-df-convert:hover {\n",
              "      background-color: #E2EBFA;\n",
              "      box-shadow: 0px 1px 2px rgba(60, 64, 67, 0.3), 0px 1px 3px 1px rgba(60, 64, 67, 0.15);\n",
              "      fill: #174EA6;\n",
              "    }\n",
              "\n",
              "    .colab-df-buttons div {\n",
              "      margin-bottom: 4px;\n",
              "    }\n",
              "\n",
              "    [theme=dark] .colab-df-convert {\n",
              "      background-color: #3B4455;\n",
              "      fill: #D2E3FC;\n",
              "    }\n",
              "\n",
              "    [theme=dark] .colab-df-convert:hover {\n",
              "      background-color: #434B5C;\n",
              "      box-shadow: 0px 1px 3px 1px rgba(0, 0, 0, 0.15);\n",
              "      filter: drop-shadow(0px 1px 2px rgba(0, 0, 0, 0.3));\n",
              "      fill: #FFFFFF;\n",
              "    }\n",
              "  </style>\n",
              "\n",
              "    <script>\n",
              "      const buttonEl =\n",
              "        document.querySelector('#df-09880d7b-24ae-4224-8a63-9b2e1d7267b5 button.colab-df-convert');\n",
              "      buttonEl.style.display =\n",
              "        google.colab.kernel.accessAllowed ? 'block' : 'none';\n",
              "\n",
              "      async function convertToInteractive(key) {\n",
              "        const element = document.querySelector('#df-09880d7b-24ae-4224-8a63-9b2e1d7267b5');\n",
              "        const dataTable =\n",
              "          await google.colab.kernel.invokeFunction('convertToInteractive',\n",
              "                                                    [key], {});\n",
              "        if (!dataTable) return;\n",
              "\n",
              "        const docLinkHtml = 'Like what you see? Visit the ' +\n",
              "          '<a target=\"_blank\" href=https://colab.research.google.com/notebooks/data_table.ipynb>data table notebook</a>'\n",
              "          + ' to learn more about interactive tables.';\n",
              "        element.innerHTML = '';\n",
              "        dataTable['output_type'] = 'display_data';\n",
              "        await google.colab.output.renderOutput(dataTable, element);\n",
              "        const docLink = document.createElement('div');\n",
              "        docLink.innerHTML = docLinkHtml;\n",
              "        element.appendChild(docLink);\n",
              "      }\n",
              "    </script>\n",
              "  </div>\n",
              "\n",
              "\n",
              "<div id=\"df-34e8b136-289f-4b26-acaa-05e0e27d21a9\">\n",
              "  <button class=\"colab-df-quickchart\" onclick=\"quickchart('df-34e8b136-289f-4b26-acaa-05e0e27d21a9')\"\n",
              "            title=\"Suggest charts\"\n",
              "            style=\"display:none;\">\n",
              "\n",
              "<svg xmlns=\"http://www.w3.org/2000/svg\" height=\"24px\"viewBox=\"0 0 24 24\"\n",
              "     width=\"24px\">\n",
              "    <g>\n",
              "        <path d=\"M19 3H5c-1.1 0-2 .9-2 2v14c0 1.1.9 2 2 2h14c1.1 0 2-.9 2-2V5c0-1.1-.9-2-2-2zM9 17H7v-7h2v7zm4 0h-2V7h2v10zm4 0h-2v-4h2v4z\"/>\n",
              "    </g>\n",
              "</svg>\n",
              "  </button>\n",
              "\n",
              "<style>\n",
              "  .colab-df-quickchart {\n",
              "      --bg-color: #E8F0FE;\n",
              "      --fill-color: #1967D2;\n",
              "      --hover-bg-color: #E2EBFA;\n",
              "      --hover-fill-color: #174EA6;\n",
              "      --disabled-fill-color: #AAA;\n",
              "      --disabled-bg-color: #DDD;\n",
              "  }\n",
              "\n",
              "  [theme=dark] .colab-df-quickchart {\n",
              "      --bg-color: #3B4455;\n",
              "      --fill-color: #D2E3FC;\n",
              "      --hover-bg-color: #434B5C;\n",
              "      --hover-fill-color: #FFFFFF;\n",
              "      --disabled-bg-color: #3B4455;\n",
              "      --disabled-fill-color: #666;\n",
              "  }\n",
              "\n",
              "  .colab-df-quickchart {\n",
              "    background-color: var(--bg-color);\n",
              "    border: none;\n",
              "    border-radius: 50%;\n",
              "    cursor: pointer;\n",
              "    display: none;\n",
              "    fill: var(--fill-color);\n",
              "    height: 32px;\n",
              "    padding: 0;\n",
              "    width: 32px;\n",
              "  }\n",
              "\n",
              "  .colab-df-quickchart:hover {\n",
              "    background-color: var(--hover-bg-color);\n",
              "    box-shadow: 0 1px 2px rgba(60, 64, 67, 0.3), 0 1px 3px 1px rgba(60, 64, 67, 0.15);\n",
              "    fill: var(--button-hover-fill-color);\n",
              "  }\n",
              "\n",
              "  .colab-df-quickchart-complete:disabled,\n",
              "  .colab-df-quickchart-complete:disabled:hover {\n",
              "    background-color: var(--disabled-bg-color);\n",
              "    fill: var(--disabled-fill-color);\n",
              "    box-shadow: none;\n",
              "  }\n",
              "\n",
              "  .colab-df-spinner {\n",
              "    border: 2px solid var(--fill-color);\n",
              "    border-color: transparent;\n",
              "    border-bottom-color: var(--fill-color);\n",
              "    animation:\n",
              "      spin 1s steps(1) infinite;\n",
              "  }\n",
              "\n",
              "  @keyframes spin {\n",
              "    0% {\n",
              "      border-color: transparent;\n",
              "      border-bottom-color: var(--fill-color);\n",
              "      border-left-color: var(--fill-color);\n",
              "    }\n",
              "    20% {\n",
              "      border-color: transparent;\n",
              "      border-left-color: var(--fill-color);\n",
              "      border-top-color: var(--fill-color);\n",
              "    }\n",
              "    30% {\n",
              "      border-color: transparent;\n",
              "      border-left-color: var(--fill-color);\n",
              "      border-top-color: var(--fill-color);\n",
              "      border-right-color: var(--fill-color);\n",
              "    }\n",
              "    40% {\n",
              "      border-color: transparent;\n",
              "      border-right-color: var(--fill-color);\n",
              "      border-top-color: var(--fill-color);\n",
              "    }\n",
              "    60% {\n",
              "      border-color: transparent;\n",
              "      border-right-color: var(--fill-color);\n",
              "    }\n",
              "    80% {\n",
              "      border-color: transparent;\n",
              "      border-right-color: var(--fill-color);\n",
              "      border-bottom-color: var(--fill-color);\n",
              "    }\n",
              "    90% {\n",
              "      border-color: transparent;\n",
              "      border-bottom-color: var(--fill-color);\n",
              "    }\n",
              "  }\n",
              "</style>\n",
              "\n",
              "  <script>\n",
              "    async function quickchart(key) {\n",
              "      const quickchartButtonEl =\n",
              "        document.querySelector('#' + key + ' button');\n",
              "      quickchartButtonEl.disabled = true;  // To prevent multiple clicks.\n",
              "      quickchartButtonEl.classList.add('colab-df-spinner');\n",
              "      try {\n",
              "        const charts = await google.colab.kernel.invokeFunction(\n",
              "            'suggestCharts', [key], {});\n",
              "      } catch (error) {\n",
              "        console.error('Error during call to suggestCharts:', error);\n",
              "      }\n",
              "      quickchartButtonEl.classList.remove('colab-df-spinner');\n",
              "      quickchartButtonEl.classList.add('colab-df-quickchart-complete');\n",
              "    }\n",
              "    (() => {\n",
              "      let quickchartButtonEl =\n",
              "        document.querySelector('#df-34e8b136-289f-4b26-acaa-05e0e27d21a9 button');\n",
              "      quickchartButtonEl.style.display =\n",
              "        google.colab.kernel.accessAllowed ? 'block' : 'none';\n",
              "    })();\n",
              "  </script>\n",
              "</div>\n",
              "    </div>\n",
              "  </div>\n"
            ],
            "text/plain": [
              "                                                body          topic\n",
              "0  హీరోగా తెలుగు సినిమాల్లోకి ఎంట్రీ ఇచ్చిన నిఖిల...  entertainment\n",
              "1   సినిమాల్లో యాక్షన్ స్టంట్లు చేసేటప్పుడు ఎక్కు...  entertainment\n",
              "2  దక్షిణ భారతాన్ని ఆక్రమించేందుకు బీజేపీ పంచెలు ...         nation\n",
              "3   నేటి మధ్యాహ్నం 1.59కి కౌంట్‌డౌన్‌ షురూశ్రీహరి...         nation\n",
              "4   ‘ఏమి రా... అబ్బి... యాడికి పోయినావు’ అంటూ రాయ...  entertainment"
            ]
          },
          "execution_count": 57,
          "metadata": {},
          "output_type": "execute_result"
        }
      ],
      "source": [
        "test_path = \"/content/test_telugu_news.csv\"\n",
        "\n",
        "test_news_df = pd.read_csv(test_path)\n",
        "\n",
        "del test_news_df[\"heading\"]\n",
        "del test_news_df[\"SNo\"]\n",
        "del test_news_df[\"date\"]\n",
        "\n",
        "test_news_df.head()"
      ]
    },
    {
      "cell_type": "code",
      "execution_count": 58,
      "metadata": {
        "id": "tG4CMTWuO7KE"
      },
      "outputs": [],
      "source": [
        "y_test = test_news_df[\"topic\"].apply(func_topic)\n",
        "del test_news_df[\"topic\"]"
      ]
    },
    {
      "cell_type": "code",
      "execution_count": 59,
      "metadata": {
        "colab": {
          "base_uri": "https://localhost:8080/"
        },
        "id": "_MY4nXuIugV0",
        "outputId": "c2dbb499-ea6c-401d-8285-00e6c754559b"
      },
      "outputs": [
        {
          "data": {
            "text/plain": [
              "0       3\n",
              "1       3\n",
              "2       2\n",
              "3       2\n",
              "4       3\n",
              "       ..\n",
              "4324    4\n",
              "4325    2\n",
              "4326    2\n",
              "4327    2\n",
              "4328    3\n",
              "Name: topic, Length: 4329, dtype: int64"
            ]
          },
          "execution_count": 59,
          "metadata": {},
          "output_type": "execute_result"
        }
      ],
      "source": [
        "y_test"
      ]
    },
    {
      "cell_type": "code",
      "execution_count": 60,
      "metadata": {
        "id": "786KsMl_O-0p"
      },
      "outputs": [],
      "source": [
        "test_news_df[\"body_processed\"] = test_news_df[\"body\"].str.replace('\\u200c', '')\n",
        "test_news_df[\"body_processed\"] = test_news_df[\"body_processed\"].str.replace('\\n', '')\n",
        "test_news_df[\"body_processed\"] = test_news_df[\"body_processed\"].str.replace('\\t', '')\n",
        "test_news_df[\"body_processed\"] = test_news_df[\"body_processed\"].str.replace('\\xa0', '')\n",
        "\n",
        "test_news_df[\"body_processed\"] = test_news_df[\"body_processed\"].apply(lambda text: remove_punctuation(text))\n",
        "\n",
        "del test_news_df[\"body\"]"
      ]
    },
    {
      "cell_type": "code",
      "execution_count": 61,
      "metadata": {
        "colab": {
          "base_uri": "https://localhost:8080/",
          "height": 206
        },
        "id": "vHN9sjVjPCVk",
        "outputId": "a8fefa77-7141-438b-e439-d2cb62f3fe38"
      },
      "outputs": [
        {
          "data": {
            "application/vnd.google.colaboratory.intrinsic+json": {
              "summary": "{\n  \"name\": \"test_news_df\",\n  \"rows\": 4329,\n  \"fields\": [\n    {\n      \"column\": \"body_processed\",\n      \"properties\": {\n        \"dtype\": \"string\",\n        \"num_unique_values\": 4328,\n        \"samples\": [\n          \"\\u0c1c\\u0c42\\u0c28\\u0c3f\\u0c2f\\u0c30\\u0c4d \\u0c0e\\u0c28\\u0c4d\\u0c1f\\u0c40\\u0c06\\u0c30\\u0c4d \\u0c38\\u0c02\\u0c2a\\u0c42\\u0c30\\u0c4d\\u0c23\\u0c2e\\u0c48\\u0c28 \\u0c28\\u0c1f\\u0c41\\u0c21\\u0c28\\u0c3f \\u0c05\\u0c24\\u0c3f \\u0c1a\\u0c3f\\u0c28\\u0c4d\\u0c28 \\u0c35\\u0c2f\\u0c38\\u0c41\\u0c32\\u0c4b\\u0c28\\u0c47 \\u0c0e\\u0c02\\u0c24\\u0c4b \\u0c2a\\u0c30\\u0c3f\\u0c2a\\u0c15\\u0c4d\\u0c35\\u0c24 \\u0c1a\\u0c46\\u0c02\\u0c26\\u0c3f\\u0c28 \\u0c35\\u0c3e\\u0c21\\u0c28\\u0c3f \\u0c15\\u0c25\\u0c3e \\u0c30\\u0c1a\\u0c2f\\u0c3f\\u0c24 \\u0c1a\\u0c3f\\u0c28\\u0c4d\\u0c28\\u0c3f\\u0c15\\u0c43\\u0c37\\u0c4d\\u0c23 \\u0c05\\u0c28\\u0c4d\\u0c28\\u0c3e\\u0c30\\u0c41 \\u0c24\\u0c3e\\u0c30\\u0c15\\u0c4d\\u0c24\\u0c4b \\u0c38\\u0c3f\\u0c28\\u0c3f\\u0c2e\\u0c3e \\u0c15\\u0c4b\\u0c38\\u0c02 \\u0c1a\\u0c3e\\u0c32\\u0c3e \\u0c38\\u0c3e\\u0c30\\u0c4d\\u0c32\\u0c41 \\u0c2a\\u0c4d\\u0c30\\u0c2f\\u0c24\\u0c4d\\u0c28\\u0c3f\\u0c02\\u0c1a\\u0c3e\\u0c2e\\u0c28\\u0c3f \\u0c15\\u0c3e\\u0c28\\u0c40 \\u0c15\\u0c41\\u0c26\\u0c30\\u0c32\\u0c47\\u0c26\\u0c28\\u0c3f \\u0c0e\\u0c2a\\u0c4d\\u0c2a\\u0c41\\u0c21\\u0c41 \\u0c26\\u0c4a\\u0c30\\u0c41\\u0c15\\u0c41\\u0c24\\u0c3e\\u0c21\\u0c3e \\u0c05\\u0c28\\u0c3f \\u0c0e\\u0c26\\u0c41\\u0c30\\u0c41 \\u0c1a\\u0c42\\u0c38\\u0c4d\\u0c24\\u0c41\\u0c28\\u0c4d\\u0c28\\u0c3e\\u0c28\\u0c28\\u0c3f \\u0c1a\\u0c3f\\u0c28\\u0c4d\\u0c28\\u0c3f\\u0c15\\u0c43\\u0c37\\u0c4d\\u0c23 \\u0c1a\\u0c46\\u0c2a\\u0c4d\\u0c2a\\u0c3e\\u0c30\\u0c41\\u2018\\u2018\\u0c24\\u0c3e\\u0c30\\u0c15\\u0c4d \\u0c38\\u0c3f\\u0c28\\u0c3f\\u0c2e\\u0c3e \\u0c05\\u0c28\\u0c17\\u0c3e\\u0c28\\u0c47 \\u0c28\\u0c3e\\u0c15\\u0c41 \\u0c15\\u0c4a\\u0c02\\u0c1a\\u0c46\\u0c02 \\u0c35\\u0c48\\u0c2c\\u0c4d\\u0c30\\u0c47\\u0c37\\u0c28\\u0c4d \\u0c38\\u0c4d\\u0c1f\\u0c3e\\u0c30\\u0c4d\\u0c1f\\u0c4d \\u0c05\\u0c35\\u0c41\\u0c24\\u0c41\\u0c02\\u0c26\\u0c3f \\u0c1a\\u0c46\\u0c02\\u0c17\\u0c32\\u0c4d\\u0c30\\u0c3e\\u0c35\\u0c4d \\u0c05\\u0c28\\u0c47 \\u0c12\\u0c15\\u0c2f\\u0c3e\\u0c28 \\u0c26\\u0c4d\\u0c35\\u0c3e\\u0c30\\u0c3e \\u0c2c\\u0c40 \\u0c17\\u0c4b\\u0c2a\\u0c3e\\u0c32\\u0c4d \\u0c28\\u0c47\\u0c28\\u0c41 \\u0c24\\u0c3e\\u0c30\\u0c15\\u0c4d \\u0c15\\u0c4b\\u0c38\\u0c02 \\u0c1f\\u0c4d\\u0c30\\u0c48\\u0c32\\u0c4d\\u0c38\\u0c4d \\u0c35\\u0c47\\u0c36\\u0c3e\\u0c2e\\u0c41 \\u0c2e\\u0c47\\u0c02 \\u0c1f\\u0c4d\\u0c30\\u0c48\\u0c32\\u0c4d\\u0c38\\u0c4d \\u0c35\\u0c47\\u0c2f\\u0c21\\u0c02 \\u0c06 \\u0c05\\u0c2c\\u0c4d\\u0c2c\\u0c3e\\u0c2f\\u0c3f \\u0c30\\u0c3f\\u0c1c\\u0c46\\u0c15\\u0c4d\\u0c1f\\u0c4d \\u0c1a\\u0c47\\u0c2f\\u0c21\\u0c02 \\u0c1c\\u0c30\\u0c3f\\u0c17\\u0c3f\\u0c02\\u0c26\\u0c3f \\u0c15\\u0c3e\\u0c28\\u0c40 \\u0c0e\\u0c2a\\u0c4d\\u0c2a\\u0c41\\u0c21\\u0c41 \\u0c26\\u0c4a\\u0c30\\u0c41\\u0c15\\u0c41\\u0c24\\u0c3e\\u0c21\\u0c3e \\u0c05\\u0c28\\u0c3f \\u0c0e\\u0c26\\u0c41\\u0c30\\u0c41 \\u0c1a\\u0c42\\u0c38\\u0c4d\\u0c24\\u0c41\\u0c28\\u0c4d\\u0c28\\u0c3e \\u0c0e\\u0c02\\u0c26\\u0c41\\u0c15\\u0c02\\u0c1f\\u0c47 \\u0c24\\u0c3e\\u0c30\\u0c15\\u0c4d\\u0c24\\u0c4b \\u0c38\\u0c02\\u0c2a\\u0c42\\u0c30\\u0c4d\\u0c23\\u0c2e\\u0c48\\u0c28 \\u0c06\\u0c35\\u0c3f\\u0c37\\u0c4d\\u0c15\\u0c30\\u0c23 \\u0c1a\\u0c47\\u0c2f\\u0c3e\\u0c32\\u0c3f \\u0c05\\u0c28\\u0c4d\\u0c28\\u0c3f \\u0c21\\u0c48\\u0c30\\u0c46\\u0c15\\u0c4d\\u0c37\\u0c28\\u0c4d\\u0c32\\u0c32\\u0c4b \\u0c28\\u0c1f\\u0c3f\\u0c02\\u0c1a\\u0c17\\u0c32 \\u0c15\\u0c46\\u0c2a\\u0c3e\\u0c38\\u0c3f\\u0c1f\\u0c40 \\u0c24\\u0c3e\\u0c30\\u0c15\\u0c4d\\u0c15\\u0c41 \\u0c09\\u0c02\\u0c26\\u0c3f \\u0c05\\u0c38\\u0c32\\u0c41 \\u0c2c\\u0c3f\\u0c17\\u0c4d\\u0c2c\\u0c3e\\u0c38\\u0c4d \\u0c37\\u0c4b \\u0c1a\\u0c42\\u0c38\\u0c4d\\u0c24\\u0c41\\u0c02\\u0c1f\\u0c47 \\u0c38\\u0c4d\\u0c15\\u0c4d\\u0c30\\u0c3f\\u0c2a\\u0c4d\\u0c1f\\u0c4d \\u0c0f\\u0c2e\\u0c40 \\u0c32\\u0c47\\u0c15\\u0c41\\u0c02\\u0c21\\u0c3e\\u0c28\\u0c47 \\u0c17\\u0c02\\u0c1f\\u0c28\\u0c4d\\u0c28\\u0c30\\u0c2a\\u0c3e\\u0c1f\\u0c41 \\u0c1a\\u0c46\\u0c21\\u0c41\\u0c17\\u0c41\\u0c21\\u0c41 \\u0c06\\u0c21\\u0c47\\u0c38\\u0c4d\\u0c24\\u0c41\\u0c28\\u0c4d\\u0c28\\u0c3e\\u0c21\\u0c41 \\u0c24\\u0c3e\\u0c30\\u0c15\\u0c4d \\u0c2e\\u0c41\\u0c02\\u0c26\\u0c41 \\u0c07\\u0c2a\\u0c4d\\u0c2a\\u0c41\\u0c21\\u0c41\\u0c28\\u0c4d\\u0c28 \\u0c2f\\u0c3e\\u0c02\\u0c15\\u0c30\\u0c4d\\u0c32\\u0c02\\u0c26\\u0c30\\u0c42 \\u0c24\\u0c15\\u0c4d\\u0c15\\u0c41\\u0c35\\u0c47 \\u0c2f\\u0c3e\\u0c02\\u0c15\\u0c30\\u0c3f\\u0c02\\u0c17\\u0c4d \\u0c2b\\u0c40\\u0c32\\u0c4d\\u0c21\\u0c4d\\u0c32\\u0c4b \\u0c28\\u0c46\\u0c02\\u0c2c\\u0c30\\u0c4d  \\u0c35\\u0c28\\u0c4d \\u0c05\\u0c2f\\u0c3f\\u0c2a\\u0c4b\\u0c2f\\u0c3e\\u0c21\\u0c41 \\u0c39\\u0c46\\u0c21\\u0c4d\\u0c2b\\u0c4b\\u0c28\\u0c4d\\u0c32\\u0c4b \\u0c1a\\u0c46\\u0c2a\\u0c4d\\u0c2a\\u0c47 \\u0c1a\\u0c3f\\u0c28\\u0c4d\\u0c28 \\u0c07\\u0c28\\u0c4d\\u0c2a\\u0c41\\u0c1f\\u0c4d\\u0c24\\u0c4b\\u0c28\\u0c47 \\u0c1a\\u0c46\\u0c21\\u0c41\\u0c17\\u0c41\\u0c21\\u0c41 \\u0c06\\u0c21\\u0c41\\u0c24\\u0c41\\u0c28\\u0c4d\\u0c28\\u0c3e\\u0c21\\u0c41 \\u0c05\\u0c1f\\u0c4d\\u0c32\\u0c3e\\u0c02\\u0c1f\\u0c3f\\u0c26\\u0c3f \\u0c12\\u0c15 \\u0c2a\\u0c35\\u0c30\\u0c4d\\u0c2b\\u0c41\\u0c32\\u0c4d \\u0c38\\u0c2c\\u0c4d\\u0c1c\\u0c46\\u0c15\\u0c4d\\u0c1f\\u0c4d\\u0c24\\u0c4b \\u0c35\\u0c38\\u0c4d\\u0c24\\u0c47 \\u0c28\\u0c3e\\u0c15\\u0c41 \\u0c24\\u0c46\\u0c32\\u0c3f\\u0c38\\u0c3f \\u0c24\\u0c46\\u0c32\\u0c41\\u0c17\\u0c41 \\u0c12\\u0c15\\u0c4d\\u0c15\\u0c1f\\u0c47 \\u0c15\\u0c3e\\u0c26\\u0c41 \\u0c24\\u0c2e\\u0c3f\\u0c33\\u0c02 \\u0c15\\u0c28\\u0c4d\\u0c28\\u0c21 \\u0c2e\\u0c32\\u0c2f\\u0c3e\\u0c33\\u0c02 \\u0c28\\u0c3e\\u0c32\\u0c41\\u0c17\\u0c41 \\u0c2d\\u0c3e\\u0c37\\u0c32\\u0c4d\\u0c32\\u0c4b \\u0c2d\\u0c42\\u0c15\\u0c02\\u0c2a\\u0c02 \\u0c38\\u0c43\\u0c37\\u0c4d\\u0c1f\\u0c3f\\u0c02\\u0c1a\\u0c47\\u0c38\\u0c4d\\u0c24\\u0c3e\\u0c21\\u0c41 \\u0c06 \\u0c35\\u0c3f\\u0c36\\u0c4d\\u0c35\\u0c30\\u0c42\\u0c2a\\u0c02 \\u0c38\\u0c02\\u0c26\\u0c30\\u0c4d\\u0c36\\u0c28\\u0c02 \\u0c15\\u0c4b\\u0c38\\u0c02 \\u0c28\\u0c47\\u0c28\\u0c42 \\u0c35\\u0c46\\u0c2f\\u0c3f\\u0c02\\u0c17\\u0c4d \\u0c28\\u0c3e \\u0c15\\u0c25 \\u0c35\\u0c46\\u0c2f\\u0c3f\\u0c1f\\u0c3f\\u0c02\\u0c17\\u0c4d\\u2019\\u2019 \\u0c05\\u0c02\\u0c1f\\u0c42 \\u0c24\\u0c28 \\u0c15\\u0c4b\\u0c30\\u0c3f\\u0c15\\u0c28\\u0c41 \\u0c2c\\u0c2f\\u0c1f\\u0c2a\\u0c46\\u0c1f\\u0c4d\\u0c1f\\u0c3e\\u0c30\\u0c41 \\u0c1a\\u0c3f\\u0c28\\u0c4d\\u0c28\\u0c3f\\u0c15\\u0c43\\u0c37\\u0c4d\\u0c23\",\n          \"\\u0c26\\u0c30\\u0c4d\\u0c36\\u0c15\\u0c30\\u0c24\\u0c4d\\u0c28 \\u0c26\\u0c3e\\u0c38\\u0c30\\u0c40\\u0c1a\\u0c3f\\u0c24\\u0c4d\\u0c30 \\u0c2a\\u0c30\\u0c3f\\u0c36\\u0c4d\\u0c30\\u0c2e\\u0c32\\u0c4b \\u0c28\\u0c40\\u0c15\\u0c46\\u0c35\\u0c4d\\u0c35\\u0c30\\u0c41 \\u0c32\\u0c47\\u0c30\\u0c41 \\u0c38\\u0c30\\u0c3f\\u0c26\\u0c3e\\u0c30\\u0c4d\\u0c36\\u0c28\\u0c3f\\u0c15\\u0c41\\u0c32\\u0c4d\\u0c32\\u0c4b\\u0c28\\u0c41 \\u0c26\\u0c30\\u0c4d\\u0c36\\u0c15\\u0c41\\u0c32\\u0c4d\\u0c32\\u0c4b\\u0c28\\u0c41 \\u0c28\\u0c41\\u0c35\\u0c4d\\u0c35\\u0c47 \\u0c05\\u0c17\\u0c4d\\u0c30 \\u0c15\\u0c47\\u0c38\\u0c30\\u0c3f\\u0c28\\u0c3e\\u0c1f\\u0c15\\u0c30\\u0c02\\u0c17\\u0c3e\\u0c28\\u0c4d\\u0c28\\u0c3f \\u0c05\\u0c02\\u0c24\\u0c30\\u0c02\\u0c17\\u0c02\\u0c32\\u0c4b \\u0c2a\\u0c46\\u0c1f\\u0c4d\\u0c1f\\u0c41\\u0c15\\u0c41\\u0c28\\u0c4d\\u0c28\\u0c3e\\u0c35\\u0c41\\u0c2a\\u0c3e\\u0c32\\u0c15\\u0c4a\\u0c32\\u0c4d\\u0c32\\u0c41 \\u0c28\\u0c41\\u0c02\\u0c1a\\u0c3f \\u0c2a\\u0c3e\\u0c02\\u0c21\\u0c40\\u0c2c\\u0c1c\\u0c3e\\u0c30\\u0c41 \\u0c35\\u0c46\\u0c33\\u0c4d\\u0c33\\u0c3f\\u0c24\\u0c46\\u0c32\\u0c41\\u0c17\\u0c41 \\u0c1a\\u0c3f\\u0c24\\u0c4d\\u0c30 \\u0c1c\\u0c17\\u0c24\\u0c4d\\u0c24\\u0c41\\u0c32\\u0c4b \\u0c2e\\u0c3e\\u0c2f\\u0c3e\\u0c2c\\u0c1c\\u0c3e\\u0c30\\u0c41\\u0c28\\u0c41 \\u0c38\\u0c43\\u0c37\\u0c4d\\u0c1f\\u0c3f\\u0c02\\u0c1a\\u0c3e\\u0c35\\u0c41\\u0c12\\u0c15\\u0c4d\\u0c15\\u0c21\\u0c3f\\u0c35\\u0c48 \\u0c35\\u0c1a\\u0c4d\\u0c1a\\u0c3f \\u0c26\\u0c3f\\u0c15\\u0c4d\\u0c15\\u0c41\\u0c32\\u0c41 \\u0c2a\\u0c3f\\u0c15\\u0c4d\\u0c15\\u0c1f\\u0c3f\\u0c32\\u0c4d\\u0c32\\u0c47\\u0c32\\u0c3e\\u0c2c\\u0c4a\\u0c2c\\u0c4d\\u0c2c\\u0c3f\\u0c32\\u0c3f\\u0c2a\\u0c41\\u0c32\\u0c3f\\u0c35\\u0c48 \\u0c17\\u0c30\\u0c4d\\u0c1c\\u0c3f\\u0c02\\u0c1a\\u0c3f\\u0c2e\\u0c39\\u0c3e\\u0c38\\u0c48\\u0c28\\u0c4d\\u0c2f\\u0c3e\\u0c28\\u0c4d\\u0c28\\u0c3f \\u0c24\\u0c2f\\u0c3e\\u0c30\\u0c41 \\u0c1a\\u0c47\\u0c38\\u0c41\\u0c15\\u0c41\\u0c28\\u0c4d\\u0c28\\u0c3e\\u0c35\\u0c41\\u0c0e\\u0c02\\u0c24\\u0c2e\\u0c02\\u0c26\\u0c3f \\u0c36\\u0c3f\\u0c37\\u0c4d\\u0c2f\\u0c1a\\u0c42\\u0c21\\u0c3e\\u0c2e\\u0c23\\u0c41\\u0c32\\u0c41 \\u0c28\\u0c40\\u0c15\\u0c41\\u0c0e\\u0c02\\u0c24\\u0c2e\\u0c02\\u0c26\\u0c3f \\u0c05\\u0c2d\\u0c3f\\u0c2e\\u0c3e\\u0c28 \\u0c15\\u0c4b\\u0c1f\\u0c3f \\u0c28\\u0c40\\u0c15\\u0c41\\u0c15\\u0c41\\u0c30\\u0c41 \\u0c2a\\u0c3e\\u0c02\\u0c21\\u0c35\\u0c41\\u0c32 \\u0c05\\u0c15\\u0c4d\\u0c37\\u0c4c\\u0c39\\u0c3f\\u0c23\\u0c3f\\u0c32\\u0c3e\\u0c2e\\u0c3e\\u0c2e\\u0c42\\u0c32\\u0c41 \\u0c2e\\u0c3e\\u0c1f\\u0c32\\u0c28\\u0c41 \\u0c38\\u0c02\\u0c2d\\u0c3e\\u0c37\\u0c23\\u0c32\\u0c41\\u0c17\\u0c3e \\u0c30\\u0c3e\\u0c38\\u0c3e\\u0c35\\u0c41\\u0c32\\u0c4a\\u0c32\\u0c4d\\u0c32\\u0c3e\\u0c2f\\u0c3f \\u0c2a\\u0c26\\u0c3e\\u0c32\\u0c28\\u0c41 \\u0c2a\\u0c3e\\u0c1f\\u0c32\\u0c41\\u0c17\\u0c3e \\u0c26\\u0c3f\\u0c26\\u0c4d\\u0c26\\u0c3e\\u0c35\\u0c41\\u0c2a\\u0c32\\u0c41\\u0c36\\u0c3e\\u0c16\\u0c32\\u0c2a\\u0c48 \\u0c2a\\u0c4d\\u0c30\\u0c3e\\u0c35\\u0c40\\u0c23\\u0c4d\\u0c2f\\u0c02 \\u0c38\\u0c3e\\u0c27\\u0c3f\\u0c02\\u0c1a\\u0c3f \\u0c35\\u0c46\\u0c02\\u0c21\\u0c3f\\u0c24\\u0c46\\u0c30 \\u0c2e\\u0c4a\\u0c24\\u0c4d\\u0c24\\u0c3e\\u0c28\\u0c4d\\u0c28\\u0c3f \\u0c06\\u0c15\\u0c4d\\u0c30\\u0c2e\\u0c3f\\u0c02\\u0c1a\\u0c41\\u0c15\\u0c41\\u0c28\\u0c4d\\u0c28\\u0c3e\\u0c35\\u0c41\\u0c2d\\u0c17\\u0c4d\\u0c28\\u0c2a\\u0c4d\\u0c30\\u0c47\\u0c2e\\u0c3f\\u0c15\\u0c41\\u0c32\\u0c15\\u0c41 \\u0c2e\\u0c47\\u0c18\\u0c38\\u0c02\\u0c26\\u0c47\\u0c36\\u0c3e\\u0c28\\u0c4d\\u0c28\\u0c3f \\u0c35\\u0c3f\\u0c28\\u0c4d\\u0c2a\\u0c3f\\u0c02\\u0c1a\\u0c3e\\u0c35\\u0c41\\u0c35\\u0c3f\\u0c30\\u0c39\\u0c3f\\u0c23\\u0c41\\u0c32 \\u0c0e\\u0c21\\u0c26\\u0c32\\u0c2a\\u0c48 \\u0c36\\u0c3f\\u0c35\\u0c30\\u0c02\\u0c1c\\u0c28\\u0c3f \\u0c30\\u0c3e\\u0c17\\u0c3e\\u0c28\\u0c4d\\u0c28\\u0c3f \\u0c06\\u0c32\\u0c2a\\u0c3f\\u0c02\\u0c1a\\u0c3e\\u0c35\\u0c41\\u0c28\\u0c3f\\u0c30\\u0c4d\\u0c2e\\u0c32 \\u0c2a\\u0c4d\\u0c30\\u0c47\\u0c2e\\u0c3f\\u0c15\\u0c41\\u0c32\\u0c15\\u0c41 \\u0c2a\\u0c4d\\u0c30\\u0c47\\u0c2e\\u0c3e\\u0c2d\\u0c3f\\u0c37\\u0c47\\u0c15\\u0c02 \\u0c1a\\u0c47\\u0c38\\u0c3f\\u0c38\\u0c41\\u0c26\\u0c42\\u0c30 \\u0c24\\u0c40\\u0c30\\u0c3e\\u0c32\\u0c15\\u0c41 \\u0c35\\u0c46\\u0c33\\u0c4d\\u0c33\\u0c3f\\u0c2a\\u0c4b\\u0c2f\\u0c3e\\u0c35\\u0c3e \\u0c2c\\u0c39\\u0c41\\u0c26\\u0c42\\u0c30\\u0c2a\\u0c41 \\u0c2c\\u0c3e\\u0c1f\\u0c38\\u0c3e\\u0c30\\u0c40 \\u0c1c\\u0c3f \\u0c38\\u0c42\\u0c30\\u0c4d\\u0c2f\\u0c28\\u0c3e\\u0c30\\u0c3e\\u0c2f\\u0c23 \\u0c2c\\u0c02\\u0c26\\u0c32\\u0c3e\\u0c2f\\u0c3f \\u0c1a\\u0c46\\u0c30\\u0c41\\u0c35\\u0c41 \\u0c15\\u0c43\\u0c37\\u0c4d\\u0c23\\u0c3e \\u0c1c\\u0c3f\\u0c32\\u0c4d\\u0c32\\u0c3e\",\n          \"\\u0c39\\u0c48\\u0c26\\u0c30\\u0c3e\\u0c2c\\u0c3e\\u0c26\\u0c4d \\u0c2e\\u0c17\\u0c27\\u0c40\\u0c30\\u0c28\\u0c41 \\u0c15\\u0c3e\\u0c2a\\u0c40 \\u0c2a\\u0c47\\u0c38\\u0c4d\\u0c1f\\u0c41 \\u0c1a\\u0c47\\u0c38\\u0c4d\\u0c24\\u0c47 \\u0c30\\u0c3e\\u0c2c\\u0c4d\\u0c24\\u0c3e \\u0c38\\u0c3f\\u0c28\\u0c3f\\u0c2e\\u0c3e\\u0c2f\\u0c3e \\u0c15\\u0c02\\u0c1f\\u0c46\\u0c02\\u0c1f\\u0c46 \\u0c09\\u0c02\\u0c1f\\u0c47 \\u0c1a\\u0c3e\\u0c32\\u0c41 \\u0c2e\\u0c15\\u0c4d\\u0c15\\u0c40\\u0c15\\u0c3f \\u0c2e\\u0c15\\u0c4d\\u0c15\\u0c40 \\u0c26\\u0c3f\\u0c02\\u0c2a\\u0c47\\u0c38\\u0c4d\\u0c24\\u0c3e\\u0c30\\u0c3e \\u0c2e\\u0c42\\u0c32 \\u0c15\\u0c25\\u0c32\\u0c41 \\u0c35\\u0c46\\u0c24\\u0c41\\u0c15\\u0c4d\\u0c15\\u0c41\\u0c02\\u0c1f\\u0c42 \\u0c2e\\u0c30\\u0c40 \\u0c05\\u0c06\\u0c32\\u0c41 \\u0c26\\u0c3f\\u0c26\\u0c4d\\u0c26\\u0c41\\u0c24\\u0c3e\\u0c30\\u0c3e \\u0c2c\\u0c3e\\u0c15\\u0c4d\\u0c38\\u0c3e\\u0c2b\\u0c40\\u0c38\\u0c41 \\u0c26\\u0c17\\u0c4d\\u0c17\\u0c30 \\u0c36\\u0c4d\\u0c30\\u0c40\\u0c2e\\u0c02\\u0c24\\u0c41\\u0c32\\u0c2f\\u0c4d\\u0c2f\\u0c47 \\u0c2b\\u0c3e\\u0c30\\u0c4d\\u0c2e\\u0c41\\u0c32\\u0c3e \\u0c07\\u0c26\\u0c47\\u0c28\\u0c3e \\u0c07\\u0c02\\u0c24\\u0c15\\u0c40 \\u0c0f\\u0c26\\u0c3f \\u0c15\\u0c3e\\u0c2a\\u0c40 \\u0c0e\\u0c35\\u0c30\\u0c41 \\u0c39\\u0c4d\\u0c2f\\u0c3e\\u0c2a\\u0c40 \\u0c15\\u0c3e\\u0c2a\\u0c40\\u0c32 \\u0c35\\u0c46\\u0c28\\u0c41\\u0c15 \\u0c05\\u0c38\\u0c32\\u0c41 \\u0c15\\u0c25\\u0c47\\u0c02\\u0c1f\\u0c3f\\u0c30\\u0c3e\\u0c2c\\u0c4d\\u0c24\\u0c3e \\u0c38\\u0c3f\\u0c28\\u0c3f\\u0c2e\\u0c3e \\u0c1a\\u0c41\\u0c1f\\u0c4d\\u0c1f\\u0c42 \\u0c35\\u0c3f\\u0c35\\u0c3e\\u0c26\\u0c02 \\u0c15\\u0c4b\\u0c30\\u0c4d\\u0c1f\\u0c41 \\u0c17\\u0c41\\u0c2e\\u0c4d\\u0c2e\\u0c02 \\u0c0e\\u0c15\\u0c4d\\u0c15\\u0c3f\\u0c02\\u0c26\\u0c3f \\u0c2e\\u0c17\\u0c27\\u0c40\\u0c30 \\u0c38\\u0c3f\\u0c28\\u0c3f\\u0c2e\\u0c3e \\u0c39\\u0c3f\\u0c02\\u0c26\\u0c40\\u0c32\\u0c4b\\u0c15\\u0c3f \\u0c30\\u0c40\\u0c2e\\u0c47\\u0c15\\u0c4d \\u0c1a\\u0c47\\u0c38\\u0c3f \\u0c15\\u0c4b\\u0c1f\\u0c4d\\u0c32\\u0c41 \\u0c15\\u0c4a\\u0c32\\u0c4d\\u0c32\\u0c17\\u0c4a\\u0c1f\\u0c4d\\u0c1f\\u0c3e\\u0c32\\u0c28\\u0c3f \\u0c1a\\u0c42\\u0c38\\u0c3f\\u0c28 \\u0c28\\u0c3f\\u0c30\\u0c4d\\u0c2e\\u0c3e\\u0c24\\u0c32 \\u0c06\\u0c36\\u0c32\\u0c2a\\u0c48 \\u0c30\\u0c3e\\u0c2c\\u0c4d\\u0c24\\u0c3e \\u0c1f\\u0c4d\\u0c30\\u0c48\\u0c32\\u0c30\\u0c4d \\u0c28\\u0c40\\u0c33\\u0c4d\\u0c32\\u0c41 \\u0c1a\\u0c32\\u0c4d\\u0c32\\u0c3f\\u0c28\\u0c1f\\u0c48\\u0c02\\u0c26\\u0c3f \\u0c05\\u0c1a\\u0c4d\\u0c1a\\u0c02\\u0c17\\u0c3e \\u0c2e\\u0c17\\u0c27\\u0c40\\u0c30 \\u0c2a\\u0c4b\\u0c32\\u0c3f\\u0c15\\u0c32\\u0c24\\u0c4b \\u0c2b\\u0c40\\u0c32\\u0c41 \\u0c1a\\u0c42\\u0c38\\u0c3f \\u0c09\\u0c32\\u0c3f\\u0c15\\u0c4d\\u0c15\\u0c3f\\u0c2a\\u0c21\\u0c4d\\u0c21 \\u0c28\\u0c3f\\u0c30\\u0c4d\\u0c2e\\u0c3e\\u0c24\\u0c32\\u0c41 \\u0c15\\u0c47\\u0c15\\u0c32\\u0c41 \\u0c35\\u0c30\\u0c15\\u0c42 \\u0c35\\u0c46\\u0c33\\u0c4d\\u0c32\\u0c3e\\u0c30\\u0c41 \\u0c07\\u0c02\\u0c24\\u0c15\\u0c40 \\u0c30\\u0c3e\\u0c2c\\u0c4d\\u0c24\\u0c3e\\u0c15\\u0c40 \\u0c2e\\u0c17\\u0c27\\u0c40\\u0c30\\u0c24\\u0c4b \\u0c15\\u0c28\\u0c46\\u0c15\\u0c4d\\u0c37\\u0c28\\u0c4d \\u0c0e\\u0c02\\u0c24 \\u0c35\\u0c30\\u0c15\\u0c42  \\u0c08 \\u0c35\\u0c3f\\u0c37\\u0c2f\\u0c3e\\u0c32\\u0c41 \\u0c24\\u0c46\\u0c32\\u0c41\\u0c38\\u0c41\\u0c15\\u0c4b\\u0c35\\u0c3e\\u0c32\\u0c02\\u0c1f\\u0c47 \\u0c35\\u0c40\\u0c21\\u0c3f\\u0c2f\\u0c4b \\u0c15\\u0c4d\\u0c32\\u0c3f\\u0c15\\u0c4d \\u0c1a\\u0c47\\u0c2f\\u0c02\\u0c21\\u0c3f\"\n        ],\n        \"semantic_type\": \"\",\n        \"description\": \"\"\n      }\n    }\n  ]\n}",
              "type": "dataframe",
              "variable_name": "test_news_df"
            },
            "text/html": [
              "\n",
              "  <div id=\"df-ae6b8f14-a19c-4dc9-a940-5bcdac5d416a\" class=\"colab-df-container\">\n",
              "    <div>\n",
              "<style scoped>\n",
              "    .dataframe tbody tr th:only-of-type {\n",
              "        vertical-align: middle;\n",
              "    }\n",
              "\n",
              "    .dataframe tbody tr th {\n",
              "        vertical-align: top;\n",
              "    }\n",
              "\n",
              "    .dataframe thead th {\n",
              "        text-align: right;\n",
              "    }\n",
              "</style>\n",
              "<table border=\"1\" class=\"dataframe\">\n",
              "  <thead>\n",
              "    <tr style=\"text-align: right;\">\n",
              "      <th></th>\n",
              "      <th>body_processed</th>\n",
              "    </tr>\n",
              "  </thead>\n",
              "  <tbody>\n",
              "    <tr>\n",
              "      <th>0</th>\n",
              "      <td>హీరోగా తెలుగు సినిమాల్లోకి ఎంట్రీ ఇచ్చిన నిఖిల...</td>\n",
              "    </tr>\n",
              "    <tr>\n",
              "      <th>1</th>\n",
              "      <td>సినిమాల్లో యాక్షన్ స్టంట్లు చేసేటప్పుడు ఎక్కు...</td>\n",
              "    </tr>\n",
              "    <tr>\n",
              "      <th>2</th>\n",
              "      <td>దక్షిణ భారతాన్ని ఆక్రమించేందుకు బీజేపీ పంచెలు ...</td>\n",
              "    </tr>\n",
              "    <tr>\n",
              "      <th>3</th>\n",
              "      <td>నేటి మధ్యాహ్నం 159కి కౌంట్డౌన్ షురూశ్రీహరికోట ...</td>\n",
              "    </tr>\n",
              "    <tr>\n",
              "      <th>4</th>\n",
              "      <td>‘ఏమి రా అబ్బి యాడికి పోయినావు’ అంటూ రాయలసీమ యా...</td>\n",
              "    </tr>\n",
              "  </tbody>\n",
              "</table>\n",
              "</div>\n",
              "    <div class=\"colab-df-buttons\">\n",
              "\n",
              "  <div class=\"colab-df-container\">\n",
              "    <button class=\"colab-df-convert\" onclick=\"convertToInteractive('df-ae6b8f14-a19c-4dc9-a940-5bcdac5d416a')\"\n",
              "            title=\"Convert this dataframe to an interactive table.\"\n",
              "            style=\"display:none;\">\n",
              "\n",
              "  <svg xmlns=\"http://www.w3.org/2000/svg\" height=\"24px\" viewBox=\"0 -960 960 960\">\n",
              "    <path d=\"M120-120v-720h720v720H120Zm60-500h600v-160H180v160Zm220 220h160v-160H400v160Zm0 220h160v-160H400v160ZM180-400h160v-160H180v160Zm440 0h160v-160H620v160ZM180-180h160v-160H180v160Zm440 0h160v-160H620v160Z\"/>\n",
              "  </svg>\n",
              "    </button>\n",
              "\n",
              "  <style>\n",
              "    .colab-df-container {\n",
              "      display:flex;\n",
              "      gap: 12px;\n",
              "    }\n",
              "\n",
              "    .colab-df-convert {\n",
              "      background-color: #E8F0FE;\n",
              "      border: none;\n",
              "      border-radius: 50%;\n",
              "      cursor: pointer;\n",
              "      display: none;\n",
              "      fill: #1967D2;\n",
              "      height: 32px;\n",
              "      padding: 0 0 0 0;\n",
              "      width: 32px;\n",
              "    }\n",
              "\n",
              "    .colab-df-convert:hover {\n",
              "      background-color: #E2EBFA;\n",
              "      box-shadow: 0px 1px 2px rgba(60, 64, 67, 0.3), 0px 1px 3px 1px rgba(60, 64, 67, 0.15);\n",
              "      fill: #174EA6;\n",
              "    }\n",
              "\n",
              "    .colab-df-buttons div {\n",
              "      margin-bottom: 4px;\n",
              "    }\n",
              "\n",
              "    [theme=dark] .colab-df-convert {\n",
              "      background-color: #3B4455;\n",
              "      fill: #D2E3FC;\n",
              "    }\n",
              "\n",
              "    [theme=dark] .colab-df-convert:hover {\n",
              "      background-color: #434B5C;\n",
              "      box-shadow: 0px 1px 3px 1px rgba(0, 0, 0, 0.15);\n",
              "      filter: drop-shadow(0px 1px 2px rgba(0, 0, 0, 0.3));\n",
              "      fill: #FFFFFF;\n",
              "    }\n",
              "  </style>\n",
              "\n",
              "    <script>\n",
              "      const buttonEl =\n",
              "        document.querySelector('#df-ae6b8f14-a19c-4dc9-a940-5bcdac5d416a button.colab-df-convert');\n",
              "      buttonEl.style.display =\n",
              "        google.colab.kernel.accessAllowed ? 'block' : 'none';\n",
              "\n",
              "      async function convertToInteractive(key) {\n",
              "        const element = document.querySelector('#df-ae6b8f14-a19c-4dc9-a940-5bcdac5d416a');\n",
              "        const dataTable =\n",
              "          await google.colab.kernel.invokeFunction('convertToInteractive',\n",
              "                                                    [key], {});\n",
              "        if (!dataTable) return;\n",
              "\n",
              "        const docLinkHtml = 'Like what you see? Visit the ' +\n",
              "          '<a target=\"_blank\" href=https://colab.research.google.com/notebooks/data_table.ipynb>data table notebook</a>'\n",
              "          + ' to learn more about interactive tables.';\n",
              "        element.innerHTML = '';\n",
              "        dataTable['output_type'] = 'display_data';\n",
              "        await google.colab.output.renderOutput(dataTable, element);\n",
              "        const docLink = document.createElement('div');\n",
              "        docLink.innerHTML = docLinkHtml;\n",
              "        element.appendChild(docLink);\n",
              "      }\n",
              "    </script>\n",
              "  </div>\n",
              "\n",
              "\n",
              "<div id=\"df-a724b2f4-5c5c-425a-a4e3-cb4ecb9d53d3\">\n",
              "  <button class=\"colab-df-quickchart\" onclick=\"quickchart('df-a724b2f4-5c5c-425a-a4e3-cb4ecb9d53d3')\"\n",
              "            title=\"Suggest charts\"\n",
              "            style=\"display:none;\">\n",
              "\n",
              "<svg xmlns=\"http://www.w3.org/2000/svg\" height=\"24px\"viewBox=\"0 0 24 24\"\n",
              "     width=\"24px\">\n",
              "    <g>\n",
              "        <path d=\"M19 3H5c-1.1 0-2 .9-2 2v14c0 1.1.9 2 2 2h14c1.1 0 2-.9 2-2V5c0-1.1-.9-2-2-2zM9 17H7v-7h2v7zm4 0h-2V7h2v10zm4 0h-2v-4h2v4z\"/>\n",
              "    </g>\n",
              "</svg>\n",
              "  </button>\n",
              "\n",
              "<style>\n",
              "  .colab-df-quickchart {\n",
              "      --bg-color: #E8F0FE;\n",
              "      --fill-color: #1967D2;\n",
              "      --hover-bg-color: #E2EBFA;\n",
              "      --hover-fill-color: #174EA6;\n",
              "      --disabled-fill-color: #AAA;\n",
              "      --disabled-bg-color: #DDD;\n",
              "  }\n",
              "\n",
              "  [theme=dark] .colab-df-quickchart {\n",
              "      --bg-color: #3B4455;\n",
              "      --fill-color: #D2E3FC;\n",
              "      --hover-bg-color: #434B5C;\n",
              "      --hover-fill-color: #FFFFFF;\n",
              "      --disabled-bg-color: #3B4455;\n",
              "      --disabled-fill-color: #666;\n",
              "  }\n",
              "\n",
              "  .colab-df-quickchart {\n",
              "    background-color: var(--bg-color);\n",
              "    border: none;\n",
              "    border-radius: 50%;\n",
              "    cursor: pointer;\n",
              "    display: none;\n",
              "    fill: var(--fill-color);\n",
              "    height: 32px;\n",
              "    padding: 0;\n",
              "    width: 32px;\n",
              "  }\n",
              "\n",
              "  .colab-df-quickchart:hover {\n",
              "    background-color: var(--hover-bg-color);\n",
              "    box-shadow: 0 1px 2px rgba(60, 64, 67, 0.3), 0 1px 3px 1px rgba(60, 64, 67, 0.15);\n",
              "    fill: var(--button-hover-fill-color);\n",
              "  }\n",
              "\n",
              "  .colab-df-quickchart-complete:disabled,\n",
              "  .colab-df-quickchart-complete:disabled:hover {\n",
              "    background-color: var(--disabled-bg-color);\n",
              "    fill: var(--disabled-fill-color);\n",
              "    box-shadow: none;\n",
              "  }\n",
              "\n",
              "  .colab-df-spinner {\n",
              "    border: 2px solid var(--fill-color);\n",
              "    border-color: transparent;\n",
              "    border-bottom-color: var(--fill-color);\n",
              "    animation:\n",
              "      spin 1s steps(1) infinite;\n",
              "  }\n",
              "\n",
              "  @keyframes spin {\n",
              "    0% {\n",
              "      border-color: transparent;\n",
              "      border-bottom-color: var(--fill-color);\n",
              "      border-left-color: var(--fill-color);\n",
              "    }\n",
              "    20% {\n",
              "      border-color: transparent;\n",
              "      border-left-color: var(--fill-color);\n",
              "      border-top-color: var(--fill-color);\n",
              "    }\n",
              "    30% {\n",
              "      border-color: transparent;\n",
              "      border-left-color: var(--fill-color);\n",
              "      border-top-color: var(--fill-color);\n",
              "      border-right-color: var(--fill-color);\n",
              "    }\n",
              "    40% {\n",
              "      border-color: transparent;\n",
              "      border-right-color: var(--fill-color);\n",
              "      border-top-color: var(--fill-color);\n",
              "    }\n",
              "    60% {\n",
              "      border-color: transparent;\n",
              "      border-right-color: var(--fill-color);\n",
              "    }\n",
              "    80% {\n",
              "      border-color: transparent;\n",
              "      border-right-color: var(--fill-color);\n",
              "      border-bottom-color: var(--fill-color);\n",
              "    }\n",
              "    90% {\n",
              "      border-color: transparent;\n",
              "      border-bottom-color: var(--fill-color);\n",
              "    }\n",
              "  }\n",
              "</style>\n",
              "\n",
              "  <script>\n",
              "    async function quickchart(key) {\n",
              "      const quickchartButtonEl =\n",
              "        document.querySelector('#' + key + ' button');\n",
              "      quickchartButtonEl.disabled = true;  // To prevent multiple clicks.\n",
              "      quickchartButtonEl.classList.add('colab-df-spinner');\n",
              "      try {\n",
              "        const charts = await google.colab.kernel.invokeFunction(\n",
              "            'suggestCharts', [key], {});\n",
              "      } catch (error) {\n",
              "        console.error('Error during call to suggestCharts:', error);\n",
              "      }\n",
              "      quickchartButtonEl.classList.remove('colab-df-spinner');\n",
              "      quickchartButtonEl.classList.add('colab-df-quickchart-complete');\n",
              "    }\n",
              "    (() => {\n",
              "      let quickchartButtonEl =\n",
              "        document.querySelector('#df-a724b2f4-5c5c-425a-a4e3-cb4ecb9d53d3 button');\n",
              "      quickchartButtonEl.style.display =\n",
              "        google.colab.kernel.accessAllowed ? 'block' : 'none';\n",
              "    })();\n",
              "  </script>\n",
              "</div>\n",
              "    </div>\n",
              "  </div>\n"
            ],
            "text/plain": [
              "                                      body_processed\n",
              "0  హీరోగా తెలుగు సినిమాల్లోకి ఎంట్రీ ఇచ్చిన నిఖిల...\n",
              "1   సినిమాల్లో యాక్షన్ స్టంట్లు చేసేటప్పుడు ఎక్కు...\n",
              "2  దక్షిణ భారతాన్ని ఆక్రమించేందుకు బీజేపీ పంచెలు ...\n",
              "3  నేటి మధ్యాహ్నం 159కి కౌంట్డౌన్ షురూశ్రీహరికోట ...\n",
              "4  ‘ఏమి రా అబ్బి యాడికి పోయినావు’ అంటూ రాయలసీమ యా..."
            ]
          },
          "execution_count": 61,
          "metadata": {},
          "output_type": "execute_result"
        }
      ],
      "source": [
        "test_news_df.head()"
      ]
    },
    {
      "cell_type": "code",
      "execution_count": 62,
      "metadata": {
        "id": "6uoXwvb_PE48"
      },
      "outputs": [],
      "source": [
        "categories = [i for i in range(5)]\n",
        "\n",
        "test_text = []\n",
        "for t in test_news_df[\"body_processed\"]:\n",
        "  test_text.append(t)"
      ]
    },
    {
      "cell_type": "code",
      "execution_count": 63,
      "metadata": {
        "colab": {
          "base_uri": "https://localhost:8080/"
        },
        "id": "HKHzI4k4PHkq",
        "outputId": "6b3731c2-ecc8-4254-aaf3-c25cde6a111a"
      },
      "outputs": [
        {
          "name": "stdout",
          "output_type": "stream",
          "text": [
            "4329 4329\n"
          ]
        }
      ],
      "source": [
        "x_test = test_text\n",
        "\n",
        "print(len(x_test) , len(y_test))"
      ]
    },
    {
      "cell_type": "code",
      "execution_count": 64,
      "metadata": {
        "id": "TtOLVNm_PKWU"
      },
      "outputs": [],
      "source": [
        "from sklearn.feature_extraction.text import CountVectorizer, TfidfVectorizer"
      ]
    },
    {
      "cell_type": "code",
      "execution_count": 65,
      "metadata": {
        "id": "UQJdvdiqPNN2"
      },
      "outputs": [],
      "source": [
        "categories = [i for i in range(5)]\n",
        "\n",
        "text_topic = []\n",
        "for i in range(5):\n",
        "  curr_text = \"\"\n",
        "\n",
        "  for text in telugu_news_df[telugu_news_df[\"topic\"] == i][\"body_processed\"]:\n",
        "    curr_text += text\n",
        "    curr_text += \" \"\n",
        "\n",
        "  text_topic.append(curr_text)"
      ]
    },
    {
      "cell_type": "code",
      "execution_count": 66,
      "metadata": {
        "colab": {
          "base_uri": "https://localhost:8080/"
        },
        "id": "-Z4Ib1D-PP_K",
        "outputId": "be1c85c8-12ec-40b3-cffd-539a4ceeefd5"
      },
      "outputs": [
        {
          "name": "stdout",
          "output_type": "stream",
          "text": [
            "3303990\n",
            "2092003\n",
            "6725085\n",
            "5737025\n",
            "6077143\n"
          ]
        }
      ],
      "source": [
        "len(text_topic)\n",
        "\n",
        "for i in range(5):\n",
        "  print(len(text_topic[i]))\n"
      ]
    },
    {
      "cell_type": "code",
      "execution_count": 68,
      "metadata": {
        "id": "zLux_xnbPSh8"
      },
      "outputs": [],
      "source": [
        "from indicnlp.tokenize import indic_tokenize\n",
        "\n",
        "\n",
        "def get_all_vocab(tot_text):\n",
        "  dic = {}\n",
        "  for t in indic_tokenize.trivial_tokenize(tot_text):\n",
        "    if t not in dic:\n",
        "      dic[t] = 1\n",
        "    else:\n",
        "      dic[t] += 1\n",
        "\n",
        "  return dic\n",
        "\n",
        "tot_text = \"\"\n",
        "for i in range(5):\n",
        "  tot_text += text_topic[i]"
      ]
    },
    {
      "cell_type": "code",
      "execution_count": 69,
      "metadata": {
        "colab": {
          "base_uri": "https://localhost:8080/"
        },
        "id": "Jb8FL0lXPVwI",
        "outputId": "26612d7b-f033-47ba-82b6-16c018ca92bd"
      },
      "outputs": [
        {
          "name": "stdout",
          "output_type": "stream",
          "text": [
            "316736\n"
          ]
        }
      ],
      "source": [
        "tot_vocab = get_all_vocab(tot_text)\n",
        "tot_vocab = {k: v for k, v in sorted(tot_vocab.items(), key=lambda item: item[1], reverse = True)}\n",
        "\n",
        "print(len(tot_vocab))"
      ]
    },
    {
      "cell_type": "code",
      "execution_count": 70,
      "metadata": {
        "id": "fKN4W_f8PY3X"
      },
      "outputs": [],
      "source": [
        "x_train = text_topic\n",
        "y_train = categories"
      ]
    },
    {
      "cell_type": "code",
      "execution_count": 71,
      "metadata": {
        "id": "1XwrC0CTPbfA"
      },
      "outputs": [],
      "source": [
        "import regex\n",
        "from indicnlp.tokenize import indic_tokenize\n",
        "\n",
        "# Using custom analyser for the count vectorizer (as telugu is an indeic language)\n",
        "def custom_analyzer(text):\n",
        "    words = regex.findall(r'\\w{1,}', text) #extract words of at least 2 letters\n",
        "    for w in words:\n",
        "        yield w"
      ]
    },
    {
      "cell_type": "code",
      "execution_count": 72,
      "metadata": {
        "colab": {
          "base_uri": "https://localhost:8080/"
        },
        "id": "rFFiV-CMPgc-",
        "outputId": "e8cce0c6-2b54-4542-a4d6-9c7e3b4569e9"
      },
      "outputs": [
        {
          "name": "stderr",
          "output_type": "stream",
          "text": [
            "/usr/local/lib/python3.10/dist-packages/sklearn/feature_extraction/text.py:544: UserWarning: The parameter 'ngram_range' will not be used since 'analyzer' is callable'\n",
            "  warnings.warn(\n"
          ]
        }
      ],
      "source": [
        "count_vec = CountVectorizer(max_df = 0.75,min_df=0.1, lowercase = False , analyzer = custom_analyzer, max_features=100000, ngram_range=(1,2))\n",
        "\n",
        "x_train_features = count_vec.fit_transform(x_train)"
      ]
    },
    {
      "cell_type": "code",
      "execution_count": 73,
      "metadata": {
        "colab": {
          "base_uri": "https://localhost:8080/"
        },
        "id": "mEXn416LPsRv",
        "outputId": "4cda2c36-699d-421a-89ed-22833307eb79"
      },
      "outputs": [
        {
          "data": {
            "text/plain": [
              "(5, 100000)"
            ]
          },
          "execution_count": 73,
          "metadata": {},
          "output_type": "execute_result"
        }
      ],
      "source": [
        "x_train_features.shape"
      ]
    },
    {
      "cell_type": "code",
      "execution_count": 74,
      "metadata": {
        "colab": {
          "base_uri": "https://localhost:8080/"
        },
        "id": "c7-pFQd4PfqZ",
        "outputId": "b3c24b7a-363d-4501-ac22-c1309136fa96"
      },
      "outputs": [
        {
          "data": {
            "text/plain": [
              "201776"
            ]
          },
          "execution_count": 74,
          "metadata": {},
          "output_type": "execute_result"
        }
      ],
      "source": [
        "len(count_vec.stop_words_)"
      ]
    },
    {
      "cell_type": "code",
      "execution_count": 75,
      "metadata": {
        "id": "TkDADOXwPy1B"
      },
      "outputs": [],
      "source": [
        "# x_test_features = count_vec.transform(x_test)"
      ]
    },
    {
      "cell_type": "code",
      "execution_count": 77,
      "metadata": {
        "colab": {
          "base_uri": "https://localhost:8080/"
        },
        "id": "A7PcBCkVFtr-",
        "outputId": "1f276430-6261-40d1-9673-59e5a1f8f581"
      },
      "outputs": [
        {
          "name": "stdout",
          "output_type": "stream",
          "text": [
            "Mounted at /content/drive\n"
          ]
        }
      ],
      "source": [
        "from google.colab import drive\n",
        "# Mount Google Drive\n",
        "drive.mount('/content/drive')"
      ]
    },
    {
      "cell_type": "code",
      "execution_count": null,
      "metadata": {
        "id": "QGqBCcQjA180"
      },
      "outputs": [],
      "source": [
        "# from google.colab import drive\n",
        "# import pickle\n",
        "\n",
        "# # Mount Google Drive\n",
        "# drive.mount('/content/drive')\n",
        "\n",
        "# # Define the path where the vectorizer is saved\n",
        "# file_path = '/content/drive/My Drive/vectorizer.pkl'\n",
        "\n",
        "# # Load the vectorizer from the pickle file\n",
        "# with open(file_path, 'rb') as file:\n",
        "#     count_vec = pickle.load(file)\n",
        "\n",
        "# # Transform your test data using the loaded vectorizer\n",
        "# x_test_features = count_vec.transform(x_test)"
      ]
    },
    {
      "cell_type": "code",
      "execution_count": 78,
      "metadata": {
        "colab": {
          "base_uri": "https://localhost:8080/"
        },
        "id": "lV1NYEKJP1pu",
        "outputId": "0d415337-a5e7-46a5-a45a-58cb2bb32dc8"
      },
      "outputs": [
        {
          "name": "stdout",
          "output_type": "stream",
          "text": [
            "Model saved to Google Drive\n"
          ]
        }
      ],
      "source": [
        "# from sklearn.naive_bayes import MultinomialNB\n",
        "\n",
        "# clf = MultinomialNB()\n",
        "# clf.fit(x_train_features, y_train)\n",
        "# MultinomialNB()\n",
        "import joblib\n",
        "from sklearn.naive_bayes import MultinomialNB\n",
        "\n",
        "\n",
        "# Train the MultinomialNB model\n",
        "clf = MultinomialNB()\n",
        "clf.fit(x_train_features, y_train)\n",
        "\n",
        "# Save the trained model to Google Drive\n",
        "joblib.dump(clf, '/content/drive/MyDrive/naive_bayes.pkl')\n",
        "\n",
        "# Confirm that the model is saved\n",
        "print(\"Model saved to Google Drive\")\n",
        "\n"
      ]
    },
    {
      "cell_type": "code",
      "execution_count": 79,
      "metadata": {
        "id": "LUE6Vk70TX_V"
      },
      "outputs": [],
      "source": [
        "import joblib\n",
        "\n",
        "# Load the trained model from Google Drive\n",
        "c = joblib.load('/content/drive/MyDrive/naive_bayes.pkl')\n",
        "\n",
        "# # Assuming x_test_features and y_test are your test features and labels\n",
        "# # Score the model on the test data\n",
        "# test_score = c.score(x_test_features, y_test)\n",
        "\n",
        "# # Print the test score\n",
        "# print(\"Test score:\", test_score)\n"
      ]
    },
    {
      "cell_type": "code",
      "execution_count": null,
      "metadata": {
        "id": "nZzWvrqBP4MQ"
      },
      "outputs": [],
      "source": [
        "# print(\"Test score :- \", clf.score(x_test_features, y_test))"
      ]
    },
    {
      "cell_type": "code",
      "execution_count": 81,
      "metadata": {
        "colab": {
          "base_uri": "https://localhost:8080/"
        },
        "id": "pBSY-Y5FP64E",
        "outputId": "6557db5f-21ab-46b8-953b-e4956d971958"
      },
      "outputs": [
        {
          "name": "stdout",
          "output_type": "stream",
          "text": [
            "               precision    recall  f1-score   support\n",
            "\n",
            "     business       0.88      0.97      0.92       653\n",
            "       sports       0.97      0.94      0.96       437\n",
            "       nation       0.95      0.90      0.93      1673\n",
            "entertainment       0.96      0.98      0.97      1289\n",
            "    editorial       0.80      0.83      0.82       277\n",
            "\n",
            "     accuracy                           0.93      4329\n",
            "    macro avg       0.91      0.92      0.92      4329\n",
            " weighted avg       0.94      0.93      0.93      4329\n",
            "\n"
          ]
        }
      ],
      "source": [
        "from sklearn.metrics import classification_report\n",
        "x_test_features = count_vec.transform(x_test)\n",
        "y_pred_test = c.predict(x_test_features)\n",
        "target_names = list(inv_topic_dict.values())\n",
        "print(classification_report(y_test, y_pred_test, target_names=target_names))\n",
        "# from google.colab import drive\n",
        "# from sklearn.metrics import classification_report\n",
        "# import joblib\n",
        "\n",
        "# # Mount Google Drive\n",
        "# drive.mount('/content/drive')\n",
        "\n",
        "# # Assuming you have trained your Naive Bayes classifier `clf` and generated predictions `y_pred_test`\n",
        "\n",
        "# # Save the trained Naive Bayes classifier to Google Drive\n",
        "# joblib.dump(clf, '/content/drive/My Drive/naive_bayes_classifier.pkl')\n",
        "\n",
        "# # Generate and save the classification report to Google Drive\n",
        "# classification_rep = classification_report(y_test, y_pred_test, target_names=target_names, output_dict=True)\n",
        "# with open('/content/drive/My Drive/classification_report.txt', 'w') as f:\n",
        "#     f.write(classification_report(y_test, y_pred_test, target_names=target_names))\n",
        "\n",
        "# # Print the classification report\n",
        "# print(classification_report(y_test, y_pred_test, target_names=target_names))\n"
      ]
    },
    {
      "cell_type": "code",
      "execution_count": 82,
      "metadata": {
        "colab": {
          "base_uri": "https://localhost:8080/",
          "height": 391
        },
        "id": "GHvZpXN1P-S8",
        "outputId": "ed09c31f-e3a1-43eb-fa11-4c54178802a7"
      },
      "outputs": [
        {
          "data": {
            "image/png": "[encoded data removed]",
            "text/plain": [
              "<Figure size 1000x400 with 2 Axes>"
            ]
          },
          "metadata": {},
          "output_type": "display_data"
        }
      ],
      "source": [
        "from sklearn.metrics import confusion_matrix, classification_report,accuracy_score,average_precision_score,f1_score\n",
        "confusion_mat = confusion_matrix(y_test, y_pred_test)\n",
        "\n",
        "plt.figure(figsize=(10,4))\n",
        "plt.title(\"Confusion matrix for test data\")\n",
        "plt.xlabel(\"Predicted class\")\n",
        "plt.ylabel(\"True class\")\n",
        "\n",
        "sns.heatmap(confusion_mat, annot=True, cmap=\"Greens\",  xticklabels = target_names,\n",
        "           yticklabels=target_names)\n",
        "plt.show()"
      ]
    },
    {
      "cell_type": "code",
      "execution_count": 83,
      "metadata": {
        "id": "9tOd55TwQDEq"
      },
      "outputs": [],
      "source": [
        "def predict_text_sample(test_text, inv_topic_dict, clf, count_vec):\n",
        "  test_sample = [test_text]\n",
        "  x_test_sample_fetaures = count_vec.transform(test_sample)\n",
        "  y_pred_test_sample = c.predict(x_test_sample_fetaures)\n",
        "\n",
        "  return inv_topic_dict[y_pred_test_sample[0]]"
      ]
    },
    {
      "cell_type": "code",
      "execution_count": 84,
      "metadata": {
        "colab": {
          "base_uri": "https://localhost:8080/"
        },
        "id": "yKQ-2Jn0QGxp",
        "outputId": "8c829d0a-625c-401b-b228-b201e82c2603"
      },
      "outputs": [
        {
          "name": "stdout",
          "output_type": "stream",
          "text": [
            "Predicted class is  entertainment\n"
          ]
        }
      ],
      "source": [
        "test_text =\"ఇండియన్ స్క్రీన్ మీద పోటీ పడటం అయిపోయింది అందుకే ఇప్పుడు మన సినిమాలు ఫారిన్ రిలీజ్ లో పోటీ పడుతున్నాయి. ఇండియన్ సినిమాలు ముఖ్యంగా సౌత్ సినిమాలు రిలీజ్ అవుతున్నాయి అంటే వరల్డ్ వైడ్ మార్కెట్ ఓపెన్ అవుతుంది. తెలుగు తమిళ హిందీ భాషల సినిమాలు సబ్ టైటిల్స్ తో విధేశాల్లో కూడా రిలీజ్ అవుతున్నాయి\"\n",
        "print(\"Predicted class is \" , predict_text_sample(test_text, inv_topic_dict, c, count_vec))"
      ]
    },
    {
      "cell_type": "code",
      "execution_count": 85,
      "metadata": {
        "colab": {
          "base_uri": "https://localhost:8080/"
        },
        "id": "F-AUDrFwQJkk",
        "outputId": "709bbcb1-958a-4321-d717-280088809cd5"
      },
      "outputs": [
        {
          "name": "stdout",
          "output_type": "stream",
          "text": [
            "Predicted class is  nation\n"
          ]
        }
      ],
      "source": [
        "test_text = \"హైదరాబాద్: తెలంగాణలో సంచలనం సృష్టించిన ‘ఎమ్మెల్యేలకు ఎర’ కేసులో హైకోర్టు కీలక తీర్పు వెల్లడించింది. ఈ కేసులో ముగ్గురు నిందితుల రిమాండ్‌కు ఉన్నత న్యాయస్థానం అనుమతించింది. నిందితులు వెంటనే సైబరాబాద్ కమిషనర్‌ స్టీఫెన్‌ రవీంద్ర ఎదుట లొంగిపోవాలని ఆదేశించింది. ఒకవేళ లొంగిపోకపోతే వారిని అరెస్టు చేసి ఏసీబీ కోర్టులో హాజరుపర్చాలని.. ఆ తర్వాత రిమాండ్‌కు తరలించాలని పోలీసులను ధర్మాసనం ఆదేశించింది.\"\n",
        "print(\"Predicted class is \" , predict_text_sample(test_text, inv_topic_dict, c, count_vec))"
      ]
    },
    {
      "cell_type": "markdown",
      "metadata": {
        "id": "joxE0jcyVCyY"
      },
      "source": [
        "Logistic Regression"
      ]
    },
    {
      "cell_type": "code",
      "execution_count": null,
      "metadata": {
        "id": "_JdEiT4lWG5L"
      },
      "outputs": [],
      "source": [
        "# trial_df=pd.read_csv(\"/content/train_telugu_news.csv\")"
      ]
    },
    {
      "cell_type": "code",
      "execution_count": null,
      "metadata": {
        "id": "cydQ2MUUImcQ"
      },
      "outputs": [],
      "source": [
        "# trial_df[\"topic\"] = trial_df[\"topic\"].apply(func_topic)"
      ]
    },
    {
      "cell_type": "code",
      "execution_count": null,
      "metadata": {
        "id": "zFYHqxMEWl1q"
      },
      "outputs": [],
      "source": [
        "# trial_df"
      ]
    },
    {
      "cell_type": "code",
      "execution_count": null,
      "metadata": {
        "id": "gqB79CsMHqL7"
      },
      "outputs": [],
      "source": [
        "# ax=trial_df.iloc[: ,3]\n",
        "# ay=trial_df.iloc[: ,4]"
      ]
    },
    {
      "cell_type": "code",
      "execution_count": null,
      "metadata": {
        "id": "Aw7gMmpwauS_"
      },
      "outputs": [],
      "source": [
        "# test_df=pd.read_csv(\"/content/test_telugu_news.csv\")\n",
        "# test_df"
      ]
    },
    {
      "cell_type": "code",
      "execution_count": null,
      "metadata": {
        "id": "3Y6sWDmsbh7h"
      },
      "outputs": [],
      "source": [
        "# ax1=test_df[\"body\"]\n",
        "# # ay1=test_df[\"topic\"]\n",
        "# ax1\n"
      ]
    },
    {
      "cell_type": "code",
      "execution_count": null,
      "metadata": {
        "id": "nEjRkGXPbyFd"
      },
      "outputs": [],
      "source": [
        "# ay1=ay1.apply(func_topic)\n",
        "# ay1\n"
      ]
    },
    {
      "cell_type": "code",
      "execution_count": 86,
      "metadata": {
        "colab": {
          "base_uri": "https://localhost:8080/"
        },
        "id": "tDg1WwR8PKIY",
        "outputId": "53cea849-2383-4676-a01a-1178f920ff81"
      },
      "outputs": [
        {
          "data": {
            "text/plain": [
              "['/content/drive/MyDrive/logistic_regression.pkl']"
            ]
          },
          "execution_count": 86,
          "metadata": {},
          "output_type": "execute_result"
        }
      ],
      "source": [
        "# from sklearn.feature_extraction.text import TfidfVectorizer\n",
        "# from sklearn.model_selection import train_test_split\n",
        "from sklearn.linear_model import LogisticRegression\n",
        "from sklearn.metrics import accuracy_score\n",
        "\n",
        "\n",
        "# Assuming you have text_data (list of text) and labels (list of corresponding sentiment labels)\n",
        "# Split the data into training and testing sets\n",
        "\n",
        "# x_train=ax\n",
        "# y_train=ay\n",
        "\n",
        "# Initialize TF-IDF vectorizer\n",
        "# tfidf_vectorizer = TfidfVectorizer(max_features=10000)\n",
        "\n",
        "# Fit and transform TF-IDF vectorizer on training data\n",
        "# x_train_tfidf = count_vec.fit_transform(x_train)\n",
        "\n",
        "# # Transform testing data\n",
        "# x_test_tfidf = count_vec.transform(x_test)\n",
        "\n",
        "# Initialize logistic regression model\n",
        "lr_classifier = LogisticRegression()\n",
        "\n",
        "# Train the model\n",
        "lr_classifier.fit(x_train_features, y_train)\n",
        "joblib.dump(lr_classifier, '/content/drive/MyDrive/logistic_regression.pkl')\n",
        "# joblib.dump(tfidf_vectorizer, '/content/drive/MyDrive/tfidf_vectorizer.pkl')\n",
        "\n",
        "# # Predict category on testing data\n",
        "# y_pred = lr_classifier.predict(x_test_tfidf)\n",
        "# # Evaluate accuracy\n",
        "# accuracy = accuracy_score(y_test, y_pred)\n",
        "# print(\"Accuracy:\", accuracy)\n"
      ]
    },
    {
      "cell_type": "code",
      "execution_count": 88,
      "metadata": {
        "colab": {
          "base_uri": "https://localhost:8080/"
        },
        "id": "2NrLWvcXIIaJ",
        "outputId": "63b93125-4a91-4e12-819e-5c6d92df1602"
      },
      "outputs": [
        {
          "name": "stdout",
          "output_type": "stream",
          "text": [
            "               precision    recall  f1-score   support\n",
            "\n",
            "     business       0.83      0.96      0.89       653\n",
            "       sports       0.95      0.94      0.94       437\n",
            "       nation       0.94      0.78      0.85      1673\n",
            "entertainment       0.97      0.93      0.95      1289\n",
            "    editorial       0.47      0.86      0.61       277\n",
            "\n",
            "     accuracy                           0.88      4329\n",
            "    macro avg       0.83      0.90      0.85      4329\n",
            " weighted avg       0.90      0.88      0.88      4329\n",
            "\n"
          ]
        }
      ],
      "source": [
        "from sklearn.metrics import classification_report\n",
        "\n",
        "lr = joblib.load('/content/drive/MyDrive/logistic_regression.pkl')\n",
        "# x_test_features = count_vec.transform(x_test)\n",
        "y_pred_test = lr.predict(x_test_features)\n",
        "target_names = list(inv_topic_dict.values())\n",
        "print(classification_report(y_test, y_pred_test, target_names=target_names))"
      ]
    },
    {
      "cell_type": "code",
      "execution_count": 90,
      "metadata": {
        "id": "fwhnIAORIwe6"
      },
      "outputs": [],
      "source": [
        "def predict_class(test_text, inv_topic_dict, clf, count_vec):\n",
        "  test_sample = [test_text]\n",
        "  x_test_sample_fetaures = count_vec.transform(test_sample)\n",
        "  y_pred_test_sample = lr.predict(x_test_sample_fetaures)\n",
        "\n",
        "  return inv_topic_dict[y_pred_test_sample[0]]"
      ]
    },
    {
      "cell_type": "code",
      "execution_count": null,
      "metadata": {
        "id": "7gZFdcL5VknT"
      },
      "outputs": [],
      "source": [
        "# def predict_text_sample(text, label_mapping, classifier, vectorizer):\n",
        "#     # Transform the input text into TF-IDF features\n",
        "#     text_tfidf = count_vec.transform([text])\n",
        "\n",
        "#     # Predict the class label for the input text\n",
        "#     predicted_label = lr.predict(text_tfidf)[0]\n",
        "\n",
        "#     # Map the predicted numerical label back to the corresponding text label\n",
        "#     predicted_class = label_mapping[predicted_label]\n",
        "\n",
        "#     return predicted_class\n"
      ]
    },
    {
      "cell_type": "code",
      "execution_count": 97,
      "metadata": {
        "colab": {
          "base_uri": "https://localhost:8080/"
        },
        "id": "w8iPj8CegDl1",
        "outputId": "1911e1b2-a86f-4131-8d0e-75d1eadd442d"
      },
      "outputs": [
        {
          "name": "stdout",
          "output_type": "stream",
          "text": [
            "Predicted class is: entertainment\n"
          ]
        }
      ],
      "source": [
        "test_text = \"హీరో శ్రీ విష్ణు, ప్రియదర్శి, రాహుల్ రామకృష్ణ హీరోలుగా.. 'హుషారు' ఫేమ్ శ్రీ హర్ష కొనుగంటి దర్శకత్వం వహించిన అవుట్ అండ్ అవుట్- ఎంటర్‌టైనర్ 'ఓం భీమ్ బుష్' తో ప్రేక్షకులని ఆలరించడానికి సిద్ధమైంది.వి సెల్యులాయిడ్, సునీల్ బలుసు కలిసి ఈ సినిమాని నిర్మిస్తుండగా, యువి క్రియేషన్స్ సమర్పిస్తుంది. ఇప్పటికే విడుదలైన ట్రయిలర్ కు మంచి రెస్పాన్స్ వచ్చింది. 'ఓం భీమ్ బుష్' రేపు విడుదల కానున్న నేపధ్యంలో హీరో శ్రీవిష్ణు మీడియాతో మాట్లాడాడు.\"\n",
        "predicted_class = predict_text_sample(test_text, inv_topic_dict, lr, count_vec)\n",
        "print(\"Predicted class is:\", predicted_class)\n"
      ]
    },
    {
      "cell_type": "code",
      "execution_count": 96,
      "metadata": {
        "colab": {
          "base_uri": "https://localhost:8080/"
        },
        "id": "kSK_MfJbVzIw",
        "outputId": "0938bf18-c273-47e1-9add-ff2830d45fec"
      },
      "outputs": [
        {
          "name": "stdout",
          "output_type": "stream",
          "text": [
            "Predicted class is: nation\n"
          ]
        }
      ],
      "source": [
        "test_text = \"హైదరాబాద్: తెలంగాణలో సంచలనం సృష్టించిన ‘ఎమ్మెల్యేలకు ఎర’ కేసులో హైకోర్టు కీలక తీర్పు వెల్లడించింది. ఈ కేసులో ముగ్గురు నిందితుల రిమాండ్‌కు ఉన్నత న్యాయస్థానం అనుమతించింది. నిందితులు వెంటనే సైబరాబాద్ కమిషనర్‌ స్టీఫెన్‌ రవీంద్ర ఎదుట లొంగిపోవాలని ఆదేశించింది. ఒకవేళ లొంగిపోకపోతే వారిని అరెస్టు చేసి ఏసీబీ కోర్టులో హాజరుపర్చాలని.. ఆ తర్వాత రిమాండ్‌కు తరలించాలని పోలీసులను ధర్మాసనం ఆదేశించింది.\"\n",
        "predicted_class = predict_text_sample(test_text, inv_topic_dict, lr, count_vec)\n",
        "print(\"Predicted class is:\", predicted_class)"
      ]
    },
    {
      "cell_type": "markdown",
      "metadata": {
        "id": "FFqmq56XVGzx"
      },
      "source": [
        "SVM"
      ]
    },
    {
      "cell_type": "code",
      "execution_count": 100,
      "metadata": {
        "colab": {
          "base_uri": "https://localhost:8080/"
        },
        "id": "Dkalv4olU_iy",
        "outputId": "b2d86875-f1d6-46f1-9b61-64d21531e6ed"
      },
      "outputs": [
        {
          "data": {
            "text/plain": [
              "['/content/drive/MyDrive/svm_classifier.pkl']"
            ]
          },
          "execution_count": 100,
          "metadata": {},
          "output_type": "execute_result"
        }
      ],
      "source": [
        "from sklearn.feature_extraction.text import TfidfVectorizer\n",
        "from sklearn.model_selection import train_test_split\n",
        "from sklearn.svm import SVC\n",
        "from sklearn.metrics import accuracy_score\n",
        "import joblib\n",
        "\n",
        "# Assuming you have text_data (list of text) and labels (list of corresponding sentiment labels)\n",
        "# # Split the data into training and testing sets\n",
        "# x_train = ax\n",
        "# y_train = ay\n",
        "\n",
        "# Initialize TF-IDF vectorizer\n",
        "#tfidf_vectorizer = TfidfVectorizer(max_features=10000)\n",
        "\n",
        "# # Fit and transform TF-IDF vectorizer on training data\n",
        "# x_train_tfidf = count_vec.fit_transform(x_train)\n",
        "\n",
        "\n",
        "# Transform your test data using the loaded vectorizer\n",
        "# x_test_features = count_vec.transform(x_test)\n",
        "\n",
        "# Initialize SVM classifier\n",
        "svm_classifier = SVC()\n",
        "\n",
        "# Train the model\n",
        "svm_classifier.fit(x_train_features, y_train)\n",
        "joblib.dump(svm_classifier, '/content/drive/MyDrive/svm_classifier.pkl')\n",
        "# joblib.dump(tfidf_vectorizer, '/content/drive/MyDrive/tfidf_vectorizer.pkl')\n"
      ]
    },
    {
      "cell_type": "code",
      "execution_count": 102,
      "metadata": {
        "colab": {
          "base_uri": "https://localhost:8080/"
        },
        "id": "9T-sEXnzKk2i",
        "outputId": "d93e4276-113d-44a0-97da-f687b456fac0"
      },
      "outputs": [
        {
          "name": "stdout",
          "output_type": "stream",
          "text": [
            "               precision    recall  f1-score   support\n",
            "\n",
            "     business       0.83      0.96      0.89       653\n",
            "       sports       0.95      0.94      0.94       437\n",
            "       nation       0.94      0.78      0.85      1673\n",
            "entertainment       0.97      0.93      0.95      1289\n",
            "    editorial       0.47      0.86      0.61       277\n",
            "\n",
            "     accuracy                           0.88      4329\n",
            "    macro avg       0.83      0.90      0.85      4329\n",
            " weighted avg       0.90      0.88      0.88      4329\n",
            "\n"
          ]
        }
      ],
      "source": [
        "from sklearn.metrics import classification_report\n",
        "\n",
        "svm = joblib.load('/content/drive/MyDrive/logistic_regression.pkl')\n",
        "# x_test_features = count_vec.transform(x_test)\n",
        "y_pred_test = svm.predict(x_test_features)\n",
        "target_names = list(inv_topic_dict.values())\n",
        "print(classification_report(y_test, y_pred_test, target_names=target_names))"
      ]
    },
    {
      "cell_type": "code",
      "execution_count": 103,
      "metadata": {
        "id": "Ck9DMMfZK31b"
      },
      "outputs": [],
      "source": [
        "def predict_text_sample_svm(test_text, inv_topic_dict, clf, count_vec):\n",
        "  test_sample = [test_text]\n",
        "  x_test_sample_fetaures = count_vec.transform(test_sample)\n",
        "  y_pred_test_sample = svm.predict(x_test_sample_fetaures)\n",
        "\n",
        "  return inv_topic_dict[y_pred_test_sample[0]]"
      ]
    },
    {
      "cell_type": "code",
      "execution_count": null,
      "metadata": {
        "id": "pzgUteaXWaR-"
      },
      "outputs": [],
      "source": [
        "# def predict_text_sample_svm(text, label_mapping, classifier, vectorizer):\n",
        "#     # Transform the input text into TF-IDF features\n",
        "#     text_tfidf = count_ve.transform([text])\n",
        "\n",
        "#     # Predict the class label for the input text\n",
        "#     predicted_label = svm.predict(text_tfidf)[0]\n",
        "\n",
        "#     # Map the predicted numerical label back to the corresponding text label\n",
        "#     predicted_class = label_mapping[predicted_label]\n",
        "\n",
        "#     return predicted_class\n"
      ]
    },
    {
      "cell_type": "code",
      "execution_count": 104,
      "metadata": {
        "colab": {
          "base_uri": "https://localhost:8080/"
        },
        "id": "wx4RBLgrWd6t",
        "outputId": "8b05c8b0-ea29-4fcc-c855-cdbd17f9e0d3"
      },
      "outputs": [
        {
          "name": "stdout",
          "output_type": "stream",
          "text": [
            "Predicted class is: editorial\n"
          ]
        }
      ],
      "source": [
        "test_text = \"ఇండియన్ స్క్రీన్ మీద పోటీ పడటం అయిపోయింది అందుకే ఇప్పుడు మన సినిమాలు ఫారిన్ రిలీజ్ లో పోటీ పడుతున్నాయి. ఇండియన్ సినిమాలు ముఖ్యంగా సౌత్ సినిమాలు రిలీజ్ అవుతున్నాయి అంటే వరల్డ్ వైడ్ మార్కెట్ ఓపెన్ అవుతుంది. తెలుగు తమిళ హిందీ భాషల సినిమాలు సబ్ టైటిల్స్ తో విధేశాల్లో కూడా రిలీజ్ అవుతున్నాయి\"\n",
        "predicted_class = predict_text_sample_svm(test_text, inv_topic_dict, svm, count_vec)\n",
        "print(\"Predicted class is:\", predicted_class)\n"
      ]
    },
    {
      "cell_type": "code",
      "execution_count": 105,
      "metadata": {
        "colab": {
          "base_uri": "https://localhost:8080/"
        },
        "id": "9PqfCerCWvAY",
        "outputId": "6a3f2de6-6f6a-48af-cc39-5ca1bc97161e"
      },
      "outputs": [
        {
          "name": "stdout",
          "output_type": "stream",
          "text": [
            "Predicted class is: entertainment\n"
          ]
        }
      ],
      "source": [
        "test_text = \"బాహుబలి2 సినిమా సంచలనం మెజారిటీ జనాలు మాత్రం బాహుబలి2ను ఆదరిస్తున్నారు సినీ ప్రముఖులు కూడా బాహుబలి2ను దర్శకుడు రాజమౌళిని ప్రశంసలతో ముంచెత్తుతున్నారు\"\n",
        "predicted_class = predict_text_sample_svm(test_text, inv_topic_dict, svm_classifier, count_vec)\n",
        "print(\"Predicted class is:\", predicted_class)\n"
      ]
    },
    {
      "cell_type": "code",
      "execution_count": 106,
      "metadata": {
        "colab": {
          "base_uri": "https://localhost:8080/"
        },
        "id": "wua435WXLUFL",
        "outputId": "95bbb6b6-4d03-4ed9-c94d-aea0ee198623"
      },
      "outputs": [
        {
          "name": "stdout",
          "output_type": "stream",
          "text": [
            "Predicted class is: nation\n"
          ]
        }
      ],
      "source": [
        "test_text = \"హైదరాబాద్: తెలంగాణలో సంచలనం సృష్టించిన ‘ఎమ్మెల్యేలకు ఎర’ కేసులో హైకోర్టు కీలక తీర్పు వెల్లడించింది. ఈ కేసులో ముగ్గురు నిందితుల రిమాండ్‌కు ఉన్నత న్యాయస్థానం అనుమతించింది. నిందితులు వెంటనే సైబరాబాద్ కమిషనర్‌ స్టీఫెన్‌ రవీంద్ర ఎదుట లొంగిపోవాలని ఆదేశించింది. ఒకవేళ లొంగిపోకపోతే వారిని అరెస్టు చేసి ఏసీబీ కోర్టులో హాజరుపర్చాలని.. ఆ తర్వాత రిమాండ్‌కు తరలించాలని పోలీసులను ధర్మాసనం ఆదేశించింది.\"\n",
        "predicted_class = predict_text_sample(test_text, inv_topic_dict, lr, count_vec)\n",
        "print(\"Predicted class is:\", predicted_class)"
      ]
    },
    {
      "cell_type": "code",
      "execution_count": 107,
      "metadata": {
        "colab": {
          "base_uri": "https://localhost:8080/",
          "height": 507
        },
        "id": "IVBBB9Tth568",
        "outputId": "d95ed2bc-d78b-4b60-fa1f-551b2635adf5"
      },
      "outputs": [
        {
          "data": {
            "image/png": "[encoded data removed]",
            "text/plain": [
              "<Figure size 800x500 with 1 Axes>"
            ]
          },
          "metadata": {},
          "output_type": "display_data"
        }
      ],
      "source": [
        "import matplotlib.pyplot as plt\n",
        "\n",
        "# Accuracy scores for each model\n",
        "accuracy_scores = [93, 88, 88]\n",
        "models = ['Naive Bayes', 'SVM', 'Logistic Regression']\n",
        "\n",
        "# Plotting the bar graph\n",
        "plt.figure(figsize=(8, 5))\n",
        "plt.bar(models, accuracy_scores, color=['blue', 'orange', 'green'])\n",
        "plt.xlabel('Classification Models')\n",
        "plt.ylabel('Accuracy (%)')\n",
        "plt.title('Accuracy Scores of Different Classification Models')\n",
        "plt.ylim(0, 100)  # Set y-axis limit\n",
        "plt.grid(axis='y', linestyle='--', alpha=0.7)\n",
        "plt.tight_layout()\n",
        "plt.show()\n"
      ]
    },
    {
      "cell_type": "code",
      "execution_count": null,
      "metadata": {
        "id": "E7l--vUIa0m2"
      },
      "outputs": [],
      "source": [
        "import tkinter as tk\n",
        "from tkinter import messagebox\n",
        "from sklearn.feature_extraction.text import TfidfVectorizer\n",
        "from sklearn.svm import SVC\n",
        "import joblib\n",
        "\n",
        "# Load the pre-trained models and data\n",
        "tfidf_vectorizer = joblib.load('tfidf_vectorizer.pkl')\n",
        "svm_classifier = joblib.load('svm_classifier.pkl')\n",
        "inv_topic_dict = {0: 'Business', 1: 'sports', 2: 'nation', 3:'entertainment', 4:'dd'}  # Replace with your inverse mapping dictionary\n",
        "\n",
        "# Function to predict the class\n",
        "def predict_text_sample_svm(text, inv_topic_dict, classifier, vectorizer):\n",
        "    text_vectorized = vectorizer.transform([text])\n",
        "    predicted_class = classifier.predict(text_vectorized)\n",
        "    return inv_topic_dict[predicted_class[0]]\n",
        "\n",
        "# Function to handle button click event\n",
        "def predict_class():\n",
        "    test_text = text_entry.get(\"1.0\",'end-1c')\n",
        "    if not test_text:\n",
        "        messagebox.showerror(\"Error\", \"Please enter some text.\")\n",
        "        return\n",
        "    predicted_class = predict_text_sample_svm(test_text, inv_topic_dict, svm_classifier, tfidf_vectorizer)\n",
        "    predicted_class_label.config(text=\"Predicted class is: \" + predicted_class)\n",
        "\n",
        "# Create main application window\n",
        "root = tk.Tk()\n",
        "root.title(\"Text Classification\")\n",
        "\n",
        "# Create text entry widget\n",
        "text_entry_label = tk.Label(root, text=\"Enter text:\")\n",
        "text_entry_label.pack()\n",
        "text_entry = tk.Text(root, height=5, width=50)\n",
        "text_entry.pack()\n",
        "\n",
        "# Create predict button\n",
        "predict_button = tk.Button(root, text=\"Predict\", command=predict_class)\n",
        "predict_button.pack()\n",
        "\n",
        "# Create label to display predicted class\n",
        "predicted_class_label = tk.Label(root, text=\"\")\n",
        "predicted_class_label.pack()\n",
        "\n",
        "# Run the application\n",
        "root.mainloop()\n"
      ]
    },
    {
      "cell_type": "code",
      "execution_count": null,
      "metadata": {
        "id": "10oYiEB0bMDd"
      },
      "outputs": [],
      "source": []
    }
  ],
  "metadata": {
    "colab": {
      "provenance": []
    },
    "kernelspec": {
      "display_name": "Python 3",
      "name": "python3"
    },
    "language_info": {
      "name": "python",
      "version": "3.7.0"
    }
  },
  "nbformat": 4,
  "nbformat_minor": 0
}
